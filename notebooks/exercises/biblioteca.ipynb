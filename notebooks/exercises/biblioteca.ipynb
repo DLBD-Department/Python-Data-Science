{
 "cells": [
  {
   "cell_type": "markdown",
   "metadata": {},
   "source": [
    "# Sistema di Management – biblioteca\n",
    "\n",
    "La biblioteca di Vaticano trova difficile catalogare e tracciare i libri. \n",
    "Il bibliotecario ci ha chiesto di sviluppare un sistema di gestione dei prestiti.\n",
    "\n",
    "A tale scopo possiamo creare 3 diverse classi:\n",
    "- Una classe `Libro`, con attributi `titolo`, `autore`, `id`, `stato` ('disponibile' o 'in prestito') e, se in prestito, l'id dell'utente,\n",
    "- una classe `Utente`, che contenga il `nome`, l'`id` e la lista dei libri che ha preso in prestito,\n",
    "- una classe `Biblioteca`, contenente i libri presenti in collezione e gli utenti iscritti al servizio.\n"
   ]
  },
  {
   "cell_type": "markdown",
   "metadata": {},
   "source": [
    "Partiamo dalla classe che rappresenta i libri:"
   ]
  },
  {
   "cell_type": "code",
   "execution_count": null,
   "metadata": {},
   "outputs": [],
   "source": [
    "class Libro:\n",
    "    def __init__(self,):\n",
    "        pass"
   ]
  },
  {
   "cell_type": "markdown",
   "metadata": {},
   "source": [
    "Ora lavoriamo sulla classe `Utente`, che dovrà disporre di metodi per prendere in prestito e restituire libri:"
   ]
  },
  {
   "cell_type": "code",
   "execution_count": null,
   "metadata": {},
   "outputs": [],
   "source": [
    "class Utente:\n",
    "    def __init__(self):\n",
    "        pass\n",
    "    def prende_in_prestito(self, libro):\n",
    "        pass\n",
    "    def restituisce(self, libro):\n",
    "        pass"
   ]
  },
  {
   "cell_type": "markdown",
   "metadata": {},
   "source": [
    "Infine e'il momento di definire la classe `Biblioteca`:"
   ]
  },
  {
   "cell_type": "code",
   "execution_count": null,
   "metadata": {},
   "outputs": [],
   "source": [
    "class Biblioteca:\n",
    "    def __init__(self,):\n",
    "        pass\n",
    "    def elenca_libri_con_stato(self):\n",
    "        pass\n",
    "    def elenca_utenti(self):\n",
    "        pass"
   ]
  }
 ],
 "metadata": {
  "language_info": {
   "name": "python"
  },
  "orig_nbformat": 4
 },
 "nbformat": 4,
 "nbformat_minor": 2
}
