{
 "cells": [
  {
   "cell_type": "code",
   "execution_count": 1,
   "id": "5c4e1619-c94e-40d8-aee3-7371e5979ff1",
   "metadata": {
    "ExecuteTime": {
     "end_time": "2023-09-14T13:49:52.241883Z",
     "start_time": "2023-09-14T13:49:52.240491Z"
    }
   },
   "outputs": [],
   "source": [
    "import numpy as np\n",
    "import pandas as pd\n",
    "import seaborn as sns"
   ]
  },
  {
   "cell_type": "code",
   "execution_count": 2,
   "id": "5ec08f2a-a70d-4cad-91b1-c2249e3c99c7",
   "metadata": {
    "ExecuteTime": {
     "end_time": "2023-09-14T13:49:52.246860Z",
     "start_time": "2023-09-14T13:49:52.242859Z"
    }
   },
   "outputs": [],
   "source": [
    "df = pd.read_csv(\"african_crises.csv\")"
   ]
  },
  {
   "cell_type": "code",
   "execution_count": 3,
   "id": "7fe62c42-774c-4beb-8f8a-b6b1d9cb6232",
   "metadata": {
    "ExecuteTime": {
     "end_time": "2023-09-14T13:49:52.256937Z",
     "start_time": "2023-09-14T13:49:52.250032Z"
    }
   },
   "outputs": [
    {
     "data": {
      "text/plain": "   case  cc3  country  year  systemic_crisis  exch_usd  \\\n0     1  DZA  Algeria  1870                1  0.052264   \n1     1  DZA  Algeria  1871                0  0.052798   \n2     1  DZA  Algeria  1872                0  0.052274   \n3     1  DZA  Algeria  1873                0       NaN   \n4     1  DZA  Algeria  1874                0  0.051308   \n\n   domestic_debt_in_default  sovereign_external_debt_default  \\\n0                         0                                0   \n1                         0                                0   \n2                         0                                0   \n3                         0                                0   \n4                         0                                0   \n\n   gdp_weighted_default  inflation_annual_cpi  independence  currency_crises  \\\n0                   0.0              3.441456             0                0   \n1                   0.0             14.149140             0                0   \n2                   0.0             -3.718593             0                0   \n3                   0.0             11.203897             0                0   \n4                   0.0             -3.848561             0                0   \n\n   inflation_crises banking_crisis  \n0                 0         crisis  \n1                 0      no_crisis  \n2                 0      no_crisis  \n3                 0      no_crisis  \n4                 0      no_crisis  ",
      "text/html": "<div>\n<style scoped>\n    .dataframe tbody tr th:only-of-type {\n        vertical-align: middle;\n    }\n\n    .dataframe tbody tr th {\n        vertical-align: top;\n    }\n\n    .dataframe thead th {\n        text-align: right;\n    }\n</style>\n<table border=\"1\" class=\"dataframe\">\n  <thead>\n    <tr style=\"text-align: right;\">\n      <th></th>\n      <th>case</th>\n      <th>cc3</th>\n      <th>country</th>\n      <th>year</th>\n      <th>systemic_crisis</th>\n      <th>exch_usd</th>\n      <th>domestic_debt_in_default</th>\n      <th>sovereign_external_debt_default</th>\n      <th>gdp_weighted_default</th>\n      <th>inflation_annual_cpi</th>\n      <th>independence</th>\n      <th>currency_crises</th>\n      <th>inflation_crises</th>\n      <th>banking_crisis</th>\n    </tr>\n  </thead>\n  <tbody>\n    <tr>\n      <th>0</th>\n      <td>1</td>\n      <td>DZA</td>\n      <td>Algeria</td>\n      <td>1870</td>\n      <td>1</td>\n      <td>0.052264</td>\n      <td>0</td>\n      <td>0</td>\n      <td>0.0</td>\n      <td>3.441456</td>\n      <td>0</td>\n      <td>0</td>\n      <td>0</td>\n      <td>crisis</td>\n    </tr>\n    <tr>\n      <th>1</th>\n      <td>1</td>\n      <td>DZA</td>\n      <td>Algeria</td>\n      <td>1871</td>\n      <td>0</td>\n      <td>0.052798</td>\n      <td>0</td>\n      <td>0</td>\n      <td>0.0</td>\n      <td>14.149140</td>\n      <td>0</td>\n      <td>0</td>\n      <td>0</td>\n      <td>no_crisis</td>\n    </tr>\n    <tr>\n      <th>2</th>\n      <td>1</td>\n      <td>DZA</td>\n      <td>Algeria</td>\n      <td>1872</td>\n      <td>0</td>\n      <td>0.052274</td>\n      <td>0</td>\n      <td>0</td>\n      <td>0.0</td>\n      <td>-3.718593</td>\n      <td>0</td>\n      <td>0</td>\n      <td>0</td>\n      <td>no_crisis</td>\n    </tr>\n    <tr>\n      <th>3</th>\n      <td>1</td>\n      <td>DZA</td>\n      <td>Algeria</td>\n      <td>1873</td>\n      <td>0</td>\n      <td>NaN</td>\n      <td>0</td>\n      <td>0</td>\n      <td>0.0</td>\n      <td>11.203897</td>\n      <td>0</td>\n      <td>0</td>\n      <td>0</td>\n      <td>no_crisis</td>\n    </tr>\n    <tr>\n      <th>4</th>\n      <td>1</td>\n      <td>DZA</td>\n      <td>Algeria</td>\n      <td>1874</td>\n      <td>0</td>\n      <td>0.051308</td>\n      <td>0</td>\n      <td>0</td>\n      <td>0.0</td>\n      <td>-3.848561</td>\n      <td>0</td>\n      <td>0</td>\n      <td>0</td>\n      <td>no_crisis</td>\n    </tr>\n  </tbody>\n</table>\n</div>"
     },
     "execution_count": 3,
     "metadata": {},
     "output_type": "execute_result"
    }
   ],
   "source": [
    "df.head(5)"
   ]
  },
  {
   "cell_type": "code",
   "execution_count": 4,
   "id": "487f2d95-257d-4bf0-998c-33adf7ee620b",
   "metadata": {
    "ExecuteTime": {
     "end_time": "2023-09-14T13:49:52.290624Z",
     "start_time": "2023-09-14T13:49:52.256647Z"
    }
   },
   "outputs": [
    {
     "data": {
      "text/plain": "              case         year  systemic_crisis    exch_usd  \\\ncount  1059.000000  1059.000000      1059.000000  964.000000   \nmean     35.613787  1967.767705         0.077432   42.685441   \nstd      23.692402    33.530632         0.267401  113.174239   \nmin       1.000000  1860.000000         0.000000    0.000000   \n25%      15.000000  1951.000000         0.000000    0.078697   \n50%      38.000000  1973.000000         0.000000    0.852350   \n75%      56.000000  1994.000000         0.000000    8.149925   \nmax      70.000000  2014.000000         1.000000  744.306139   \n\n       domestic_debt_in_default  sovereign_external_debt_default  \\\ncount               1059.000000                      1059.000000   \nmean                   0.039660                         0.152975   \nstd                    0.195251                         0.360133   \nmin                    0.000000                         0.000000   \n25%                    0.000000                         0.000000   \n50%                    0.000000                         0.000000   \n75%                    0.000000                         0.000000   \nmax                    1.000000                         1.000000   \n\n       gdp_weighted_default  inflation_annual_cpi  independence  \\\ncount           1059.000000            968.000000   1059.000000   \nmean               0.006402             90.963404      0.776204   \nstd                0.043572           2136.787695      0.416984   \nmin                0.000000            -28.502137      0.000000   \n25%                0.000000              2.087577      1.000000   \n50%                0.000000              5.770044      1.000000   \n75%                0.000000             11.588750      1.000000   \nmax                0.400000          66279.892370      1.000000   \n\n       currency_crises  inflation_crises  \ncount      1059.000000       1059.000000  \nmean          0.132200          0.129367  \nstd           0.349847          0.335765  \nmin           0.000000          0.000000  \n25%           0.000000          0.000000  \n50%           0.000000          0.000000  \n75%           0.000000          0.000000  \nmax           2.000000          1.000000  ",
      "text/html": "<div>\n<style scoped>\n    .dataframe tbody tr th:only-of-type {\n        vertical-align: middle;\n    }\n\n    .dataframe tbody tr th {\n        vertical-align: top;\n    }\n\n    .dataframe thead th {\n        text-align: right;\n    }\n</style>\n<table border=\"1\" class=\"dataframe\">\n  <thead>\n    <tr style=\"text-align: right;\">\n      <th></th>\n      <th>case</th>\n      <th>year</th>\n      <th>systemic_crisis</th>\n      <th>exch_usd</th>\n      <th>domestic_debt_in_default</th>\n      <th>sovereign_external_debt_default</th>\n      <th>gdp_weighted_default</th>\n      <th>inflation_annual_cpi</th>\n      <th>independence</th>\n      <th>currency_crises</th>\n      <th>inflation_crises</th>\n    </tr>\n  </thead>\n  <tbody>\n    <tr>\n      <th>count</th>\n      <td>1059.000000</td>\n      <td>1059.000000</td>\n      <td>1059.000000</td>\n      <td>964.000000</td>\n      <td>1059.000000</td>\n      <td>1059.000000</td>\n      <td>1059.000000</td>\n      <td>968.000000</td>\n      <td>1059.000000</td>\n      <td>1059.000000</td>\n      <td>1059.000000</td>\n    </tr>\n    <tr>\n      <th>mean</th>\n      <td>35.613787</td>\n      <td>1967.767705</td>\n      <td>0.077432</td>\n      <td>42.685441</td>\n      <td>0.039660</td>\n      <td>0.152975</td>\n      <td>0.006402</td>\n      <td>90.963404</td>\n      <td>0.776204</td>\n      <td>0.132200</td>\n      <td>0.129367</td>\n    </tr>\n    <tr>\n      <th>std</th>\n      <td>23.692402</td>\n      <td>33.530632</td>\n      <td>0.267401</td>\n      <td>113.174239</td>\n      <td>0.195251</td>\n      <td>0.360133</td>\n      <td>0.043572</td>\n      <td>2136.787695</td>\n      <td>0.416984</td>\n      <td>0.349847</td>\n      <td>0.335765</td>\n    </tr>\n    <tr>\n      <th>min</th>\n      <td>1.000000</td>\n      <td>1860.000000</td>\n      <td>0.000000</td>\n      <td>0.000000</td>\n      <td>0.000000</td>\n      <td>0.000000</td>\n      <td>0.000000</td>\n      <td>-28.502137</td>\n      <td>0.000000</td>\n      <td>0.000000</td>\n      <td>0.000000</td>\n    </tr>\n    <tr>\n      <th>25%</th>\n      <td>15.000000</td>\n      <td>1951.000000</td>\n      <td>0.000000</td>\n      <td>0.078697</td>\n      <td>0.000000</td>\n      <td>0.000000</td>\n      <td>0.000000</td>\n      <td>2.087577</td>\n      <td>1.000000</td>\n      <td>0.000000</td>\n      <td>0.000000</td>\n    </tr>\n    <tr>\n      <th>50%</th>\n      <td>38.000000</td>\n      <td>1973.000000</td>\n      <td>0.000000</td>\n      <td>0.852350</td>\n      <td>0.000000</td>\n      <td>0.000000</td>\n      <td>0.000000</td>\n      <td>5.770044</td>\n      <td>1.000000</td>\n      <td>0.000000</td>\n      <td>0.000000</td>\n    </tr>\n    <tr>\n      <th>75%</th>\n      <td>56.000000</td>\n      <td>1994.000000</td>\n      <td>0.000000</td>\n      <td>8.149925</td>\n      <td>0.000000</td>\n      <td>0.000000</td>\n      <td>0.000000</td>\n      <td>11.588750</td>\n      <td>1.000000</td>\n      <td>0.000000</td>\n      <td>0.000000</td>\n    </tr>\n    <tr>\n      <th>max</th>\n      <td>70.000000</td>\n      <td>2014.000000</td>\n      <td>1.000000</td>\n      <td>744.306139</td>\n      <td>1.000000</td>\n      <td>1.000000</td>\n      <td>0.400000</td>\n      <td>66279.892370</td>\n      <td>1.000000</td>\n      <td>2.000000</td>\n      <td>1.000000</td>\n    </tr>\n  </tbody>\n</table>\n</div>"
     },
     "execution_count": 4,
     "metadata": {},
     "output_type": "execute_result"
    }
   ],
   "source": [
    "df.describe()"
   ]
  },
  {
   "cell_type": "code",
   "execution_count": 5,
   "id": "78a28740-3c0a-4b91-b5bf-817cae1551f6",
   "metadata": {
    "ExecuteTime": {
     "end_time": "2023-09-14T13:49:52.290806Z",
     "start_time": "2023-09-14T13:49:52.268971Z"
    }
   },
   "outputs": [],
   "source": [
    "def df_info(dataframe):\n",
    "    display(\n",
    "        pd.concat(\n",
    "            [\n",
    "                dataframe.dtypes.rename(\"dtypes\"), \n",
    "                dataframe.nunique().rename(\"n_unique\"), \n",
    "                dataframe.isna().sum().rename(\"nan_vals\")\n",
    "            ], \n",
    "            axis=1\n",
    "        )\n",
    "    )"
   ]
  },
  {
   "cell_type": "code",
   "execution_count": 6,
   "id": "614b351b-90cc-48e7-85ae-cb42a85e0394",
   "metadata": {
    "ExecuteTime": {
     "end_time": "2023-09-14T13:49:52.296879Z",
     "start_time": "2023-09-14T13:49:52.271563Z"
    }
   },
   "outputs": [
    {
     "data": {
      "text/plain": "                                  dtypes  n_unique  nan_vals\ncase                               int64        13         0\ncc3                               object        13         0\ncountry                           object        13         0\nyear                               int64       155         0\nsystemic_crisis                    int64         2         0\nexch_usd                         float64       702        95\ndomestic_debt_in_default           int64         2         0\nsovereign_external_debt_default    int64         2         0\ngdp_weighted_default             float64         6         0\ninflation_annual_cpi             float64       936        91\nindependence                       int64         2         0\ncurrency_crises                    int64         3         0\ninflation_crises                   int64         2         0\nbanking_crisis                    object         2         0",
      "text/html": "<div>\n<style scoped>\n    .dataframe tbody tr th:only-of-type {\n        vertical-align: middle;\n    }\n\n    .dataframe tbody tr th {\n        vertical-align: top;\n    }\n\n    .dataframe thead th {\n        text-align: right;\n    }\n</style>\n<table border=\"1\" class=\"dataframe\">\n  <thead>\n    <tr style=\"text-align: right;\">\n      <th></th>\n      <th>dtypes</th>\n      <th>n_unique</th>\n      <th>nan_vals</th>\n    </tr>\n  </thead>\n  <tbody>\n    <tr>\n      <th>case</th>\n      <td>int64</td>\n      <td>13</td>\n      <td>0</td>\n    </tr>\n    <tr>\n      <th>cc3</th>\n      <td>object</td>\n      <td>13</td>\n      <td>0</td>\n    </tr>\n    <tr>\n      <th>country</th>\n      <td>object</td>\n      <td>13</td>\n      <td>0</td>\n    </tr>\n    <tr>\n      <th>year</th>\n      <td>int64</td>\n      <td>155</td>\n      <td>0</td>\n    </tr>\n    <tr>\n      <th>systemic_crisis</th>\n      <td>int64</td>\n      <td>2</td>\n      <td>0</td>\n    </tr>\n    <tr>\n      <th>exch_usd</th>\n      <td>float64</td>\n      <td>702</td>\n      <td>95</td>\n    </tr>\n    <tr>\n      <th>domestic_debt_in_default</th>\n      <td>int64</td>\n      <td>2</td>\n      <td>0</td>\n    </tr>\n    <tr>\n      <th>sovereign_external_debt_default</th>\n      <td>int64</td>\n      <td>2</td>\n      <td>0</td>\n    </tr>\n    <tr>\n      <th>gdp_weighted_default</th>\n      <td>float64</td>\n      <td>6</td>\n      <td>0</td>\n    </tr>\n    <tr>\n      <th>inflation_annual_cpi</th>\n      <td>float64</td>\n      <td>936</td>\n      <td>91</td>\n    </tr>\n    <tr>\n      <th>independence</th>\n      <td>int64</td>\n      <td>2</td>\n      <td>0</td>\n    </tr>\n    <tr>\n      <th>currency_crises</th>\n      <td>int64</td>\n      <td>3</td>\n      <td>0</td>\n    </tr>\n    <tr>\n      <th>inflation_crises</th>\n      <td>int64</td>\n      <td>2</td>\n      <td>0</td>\n    </tr>\n    <tr>\n      <th>banking_crisis</th>\n      <td>object</td>\n      <td>2</td>\n      <td>0</td>\n    </tr>\n  </tbody>\n</table>\n</div>"
     },
     "metadata": {},
     "output_type": "display_data"
    }
   ],
   "source": [
    "df_info(df)"
   ]
  },
  {
   "cell_type": "code",
   "execution_count": 7,
   "id": "77398113-8fbd-4c9a-a5b9-0b0d0b488978",
   "metadata": {
    "ExecuteTime": {
     "end_time": "2023-09-14T13:49:52.297025Z",
     "start_time": "2023-09-14T13:49:52.277331Z"
    }
   },
   "outputs": [
    {
     "name": "stdout",
     "output_type": "stream",
     "text": [
      "cc3\n",
      "['DZA' 'AGO' 'CAF' 'CIV' 'EGY' 'KEN' 'MUS' 'MAR' 'NGA' 'ZAF' 'TUN' 'ZMB'\n",
      " 'ZWE']\n",
      "----------------------------------------------------------------------------------------------------\n",
      "country\n",
      "['Algeria' 'Angola' 'Central African Republic' 'Ivory Coast' 'Egypt'\n",
      " 'Kenya' 'Mauritius' 'Morocco' 'Nigeria' 'South Africa' 'Tunisia' 'Zambia'\n",
      " 'Zimbabwe']\n",
      "----------------------------------------------------------------------------------------------------\n",
      "banking_crisis\n",
      "['crisis' 'no_crisis']\n",
      "----------------------------------------------------------------------------------------------------\n"
     ]
    }
   ],
   "source": [
    "for column in df.select_dtypes(exclude=[int, float]):\n",
    "    print(column)\n",
    "    print(df[column].unique())\n",
    "    print(\"-\"*100)"
   ]
  },
  {
   "cell_type": "markdown",
   "id": "cb45d976-4f59-42f5-8387-9dbadf7c913d",
   "metadata": {},
   "source": [
    "### Transforming binary object value into boolean"
   ]
  },
  {
   "cell_type": "code",
   "execution_count": 8,
   "id": "13faafe1-4719-41ca-94c9-4ec4c11e5972",
   "metadata": {
    "ExecuteTime": {
     "end_time": "2023-09-14T13:49:52.297377Z",
     "start_time": "2023-09-14T13:49:52.280043Z"
    }
   },
   "outputs": [],
   "source": [
    "df[\"banking_crisis\"] = np.where(df[\"banking_crisis\"] == \"crisis\", 1, 0)"
   ]
  },
  {
   "cell_type": "markdown",
   "id": "55f76c12-cb2d-4780-9cc3-0e44033c3c48",
   "metadata": {},
   "source": [
    "## Converting countries to geo locations"
   ]
  },
  {
   "cell_type": "code",
   "execution_count": 9,
   "id": "ea90c880-c5b7-4a16-8b7c-c4330280f00d",
   "metadata": {
    "ExecuteTime": {
     "end_time": "2023-09-14T13:49:52.297414Z",
     "start_time": "2023-09-14T13:49:52.281734Z"
    }
   },
   "outputs": [],
   "source": [
    "url = \"https://gist.githubusercontent.com/tadast/8827699/raw/f5cac3d42d16b78348610fc4ec301e9234f82821/countries_codes_and_coordinates.csv\""
   ]
  },
  {
   "cell_type": "code",
   "execution_count": 10,
   "id": "df4ca519-9632-49ca-bf4a-e6f1c7402b7c",
   "metadata": {
    "ExecuteTime": {
     "end_time": "2023-09-14T13:49:52.355356Z",
     "start_time": "2023-09-14T13:49:52.283889Z"
    }
   },
   "outputs": [],
   "source": [
    "geo_df = pd.read_csv(url, skipinitialspace=True)"
   ]
  },
  {
   "cell_type": "code",
   "execution_count": 11,
   "id": "2b4c34b5-e29f-4e38-aa53-e6f57e0f1a7b",
   "metadata": {
    "ExecuteTime": {
     "end_time": "2023-09-14T13:49:52.355661Z",
     "start_time": "2023-09-14T13:49:52.334796Z"
    }
   },
   "outputs": [
    {
     "data": {
      "text/plain": "          Country Alpha-2 code Alpha-3 code  Numeric code  Latitude (average)  \\\n0     Afghanistan           AF          AFG             4             33.0000   \n1         Albania           AL          ALB             8             41.0000   \n2         Algeria           DZ          DZA            12             28.0000   \n3  American Samoa           AS          ASM            16            -14.3333   \n4         Andorra           AD          AND            20             42.5000   \n\n   Longitude (average)  \n0                 65.0  \n1                 20.0  \n2                  3.0  \n3               -170.0  \n4                  1.6  ",
      "text/html": "<div>\n<style scoped>\n    .dataframe tbody tr th:only-of-type {\n        vertical-align: middle;\n    }\n\n    .dataframe tbody tr th {\n        vertical-align: top;\n    }\n\n    .dataframe thead th {\n        text-align: right;\n    }\n</style>\n<table border=\"1\" class=\"dataframe\">\n  <thead>\n    <tr style=\"text-align: right;\">\n      <th></th>\n      <th>Country</th>\n      <th>Alpha-2 code</th>\n      <th>Alpha-3 code</th>\n      <th>Numeric code</th>\n      <th>Latitude (average)</th>\n      <th>Longitude (average)</th>\n    </tr>\n  </thead>\n  <tbody>\n    <tr>\n      <th>0</th>\n      <td>Afghanistan</td>\n      <td>AF</td>\n      <td>AFG</td>\n      <td>4</td>\n      <td>33.0000</td>\n      <td>65.0</td>\n    </tr>\n    <tr>\n      <th>1</th>\n      <td>Albania</td>\n      <td>AL</td>\n      <td>ALB</td>\n      <td>8</td>\n      <td>41.0000</td>\n      <td>20.0</td>\n    </tr>\n    <tr>\n      <th>2</th>\n      <td>Algeria</td>\n      <td>DZ</td>\n      <td>DZA</td>\n      <td>12</td>\n      <td>28.0000</td>\n      <td>3.0</td>\n    </tr>\n    <tr>\n      <th>3</th>\n      <td>American Samoa</td>\n      <td>AS</td>\n      <td>ASM</td>\n      <td>16</td>\n      <td>-14.3333</td>\n      <td>-170.0</td>\n    </tr>\n    <tr>\n      <th>4</th>\n      <td>Andorra</td>\n      <td>AD</td>\n      <td>AND</td>\n      <td>20</td>\n      <td>42.5000</td>\n      <td>1.6</td>\n    </tr>\n  </tbody>\n</table>\n</div>"
     },
     "execution_count": 11,
     "metadata": {},
     "output_type": "execute_result"
    }
   ],
   "source": [
    "geo_df.head(5)"
   ]
  },
  {
   "cell_type": "code",
   "execution_count": 12,
   "id": "87a72cbc-bfce-41bb-8ba8-79bf8288a308",
   "metadata": {
    "ExecuteTime": {
     "end_time": "2023-09-14T13:49:52.355712Z",
     "start_time": "2023-09-14T13:49:52.339900Z"
    }
   },
   "outputs": [],
   "source": [
    "df = pd.merge(\n",
    "    df, geo_df[[\"Latitude (average)\", \"Longitude (average)\"]],\n",
    "    left_on=\"country\", right_on=geo_df[\"Country\"], \n",
    "    how=\"left\"\n",
    ")"
   ]
  },
  {
   "cell_type": "code",
   "execution_count": 13,
   "id": "7d7e94cc-383f-4bb2-b161-2e06fb785e19",
   "metadata": {
    "ExecuteTime": {
     "end_time": "2023-09-14T13:49:52.355753Z",
     "start_time": "2023-09-14T13:49:52.343312Z"
    }
   },
   "outputs": [],
   "source": [
    "df = df.drop(columns=[\"cc3\", \"country\"])"
   ]
  },
  {
   "cell_type": "markdown",
   "id": "b614cb8b-9668-4a05-93e9-64dccab034d9",
   "metadata": {},
   "source": [
    "`case` serves as Unique ID, this is not required in our case and we won't use it either"
   ]
  },
  {
   "cell_type": "code",
   "execution_count": 14,
   "id": "135c6115-912b-4ecb-939b-3b4273c1f003",
   "metadata": {
    "ExecuteTime": {
     "end_time": "2023-09-14T13:49:52.355782Z",
     "start_time": "2023-09-14T13:49:52.345797Z"
    }
   },
   "outputs": [],
   "source": [
    "df = df.drop(columns=[\"case\"])"
   ]
  },
  {
   "cell_type": "markdown",
   "id": "ba27f31d-d656-42d5-acbd-b3270a5b87be",
   "metadata": {},
   "source": [
    "# Impute missing features\n",
    "\n",
    "Since imputation, normalization and standardization procedures depend on all of the feature values we first need to split our dataset in train and test.\n",
    "We will do this using `sklearn.model_selection.train_test_split` functionality:"
   ]
  },
  {
   "cell_type": "code",
   "execution_count": 15,
   "id": "d2484b51-02dd-46bd-90f2-0b25e66967a0",
   "metadata": {
    "ExecuteTime": {
     "end_time": "2023-09-14T13:49:52.418713Z",
     "start_time": "2023-09-14T13:49:52.348470Z"
    }
   },
   "outputs": [],
   "source": [
    "from sklearn.model_selection import train_test_split\n",
    "\n",
    "test_size = 0.1\n",
    "\n",
    "df_train, df_test = train_test_split(df, test_size=test_size, random_state= 42)"
   ]
  },
  {
   "cell_type": "code",
   "execution_count": 16,
   "id": "59d0e655-370f-4df9-834d-1bff2a2a1910",
   "metadata": {
    "ExecuteTime": {
     "end_time": "2023-09-14T13:49:52.426512Z",
     "start_time": "2023-09-14T13:49:52.419441Z"
    }
   },
   "outputs": [
    {
     "data": {
      "text/plain": "                                  dtypes  n_unique  nan_vals\nyear                               int64       149         0\nsystemic_crisis                    int64         2         0\nexch_usd                         float64       639        83\ndomestic_debt_in_default           int64         2         0\nsovereign_external_debt_default    int64         2         0\ngdp_weighted_default             float64         6         0\ninflation_annual_cpi             float64       853        74\nindependence                       int64         2         0\ncurrency_crises                    int64         3         0\ninflation_crises                   int64         2         0\nbanking_crisis                     int64         2         0\nLatitude (average)               float64        13         0\nLongitude (average)              float64        10         0",
      "text/html": "<div>\n<style scoped>\n    .dataframe tbody tr th:only-of-type {\n        vertical-align: middle;\n    }\n\n    .dataframe tbody tr th {\n        vertical-align: top;\n    }\n\n    .dataframe thead th {\n        text-align: right;\n    }\n</style>\n<table border=\"1\" class=\"dataframe\">\n  <thead>\n    <tr style=\"text-align: right;\">\n      <th></th>\n      <th>dtypes</th>\n      <th>n_unique</th>\n      <th>nan_vals</th>\n    </tr>\n  </thead>\n  <tbody>\n    <tr>\n      <th>year</th>\n      <td>int64</td>\n      <td>149</td>\n      <td>0</td>\n    </tr>\n    <tr>\n      <th>systemic_crisis</th>\n      <td>int64</td>\n      <td>2</td>\n      <td>0</td>\n    </tr>\n    <tr>\n      <th>exch_usd</th>\n      <td>float64</td>\n      <td>639</td>\n      <td>83</td>\n    </tr>\n    <tr>\n      <th>domestic_debt_in_default</th>\n      <td>int64</td>\n      <td>2</td>\n      <td>0</td>\n    </tr>\n    <tr>\n      <th>sovereign_external_debt_default</th>\n      <td>int64</td>\n      <td>2</td>\n      <td>0</td>\n    </tr>\n    <tr>\n      <th>gdp_weighted_default</th>\n      <td>float64</td>\n      <td>6</td>\n      <td>0</td>\n    </tr>\n    <tr>\n      <th>inflation_annual_cpi</th>\n      <td>float64</td>\n      <td>853</td>\n      <td>74</td>\n    </tr>\n    <tr>\n      <th>independence</th>\n      <td>int64</td>\n      <td>2</td>\n      <td>0</td>\n    </tr>\n    <tr>\n      <th>currency_crises</th>\n      <td>int64</td>\n      <td>3</td>\n      <td>0</td>\n    </tr>\n    <tr>\n      <th>inflation_crises</th>\n      <td>int64</td>\n      <td>2</td>\n      <td>0</td>\n    </tr>\n    <tr>\n      <th>banking_crisis</th>\n      <td>int64</td>\n      <td>2</td>\n      <td>0</td>\n    </tr>\n    <tr>\n      <th>Latitude (average)</th>\n      <td>float64</td>\n      <td>13</td>\n      <td>0</td>\n    </tr>\n    <tr>\n      <th>Longitude (average)</th>\n      <td>float64</td>\n      <td>10</td>\n      <td>0</td>\n    </tr>\n  </tbody>\n</table>\n</div>"
     },
     "metadata": {},
     "output_type": "display_data"
    }
   ],
   "source": [
    "df_info(df_train)"
   ]
  },
  {
   "cell_type": "markdown",
   "id": "bdde7a10",
   "metadata": {},
   "source": [
    "As we can see, there are 116 missing values in our train set, 100 `annual_inflation_cpi` values and 16 `exch_usd` values. Let's focus on this features:"
   ]
  },
  {
   "cell_type": "code",
   "execution_count": 17,
   "outputs": [],
   "source": [
    "sort_columns = [\"Latitude (average)\", \"Longitude (average)\", \"year\"]\n",
    "df_train = df_train.sort_values(by=sort_columns).interpolate()"
   ],
   "metadata": {
    "collapsed": false,
    "ExecuteTime": {
     "end_time": "2023-09-14T13:49:52.429406Z",
     "start_time": "2023-09-14T13:49:52.425842Z"
    }
   },
   "id": "9c5c033a9d0501b"
  },
  {
   "cell_type": "code",
   "execution_count": 18,
   "id": "dd91a97f",
   "metadata": {
    "ExecuteTime": {
     "end_time": "2023-09-14T13:49:52.435793Z",
     "start_time": "2023-09-14T13:49:52.430254Z"
    }
   },
   "outputs": [
    {
     "data": {
      "text/plain": "       inflation_annual_cpi    exch_usd\ncount            953.000000  953.000000\nmean              93.744599   42.359815\nstd             2153.693317  110.332617\nmin              -28.502137    0.000000\n25%                2.119180    0.195500\n50%                5.717000    0.868100\n75%               11.765000    8.456600\nmax            66279.892370  744.306139",
      "text/html": "<div>\n<style scoped>\n    .dataframe tbody tr th:only-of-type {\n        vertical-align: middle;\n    }\n\n    .dataframe tbody tr th {\n        vertical-align: top;\n    }\n\n    .dataframe thead th {\n        text-align: right;\n    }\n</style>\n<table border=\"1\" class=\"dataframe\">\n  <thead>\n    <tr style=\"text-align: right;\">\n      <th></th>\n      <th>inflation_annual_cpi</th>\n      <th>exch_usd</th>\n    </tr>\n  </thead>\n  <tbody>\n    <tr>\n      <th>count</th>\n      <td>953.000000</td>\n      <td>953.000000</td>\n    </tr>\n    <tr>\n      <th>mean</th>\n      <td>93.744599</td>\n      <td>42.359815</td>\n    </tr>\n    <tr>\n      <th>std</th>\n      <td>2153.693317</td>\n      <td>110.332617</td>\n    </tr>\n    <tr>\n      <th>min</th>\n      <td>-28.502137</td>\n      <td>0.000000</td>\n    </tr>\n    <tr>\n      <th>25%</th>\n      <td>2.119180</td>\n      <td>0.195500</td>\n    </tr>\n    <tr>\n      <th>50%</th>\n      <td>5.717000</td>\n      <td>0.868100</td>\n    </tr>\n    <tr>\n      <th>75%</th>\n      <td>11.765000</td>\n      <td>8.456600</td>\n    </tr>\n    <tr>\n      <th>max</th>\n      <td>66279.892370</td>\n      <td>744.306139</td>\n    </tr>\n  </tbody>\n</table>\n</div>"
     },
     "execution_count": 18,
     "metadata": {},
     "output_type": "execute_result"
    }
   ],
   "source": [
    "df_train[['inflation_annual_cpi','exch_usd']].describe()"
   ]
  },
  {
   "cell_type": "code",
   "execution_count": 19,
   "id": "8966a482",
   "metadata": {
    "ExecuteTime": {
     "end_time": "2023-09-14T13:49:52.438857Z",
     "start_time": "2023-09-14T13:49:52.436822Z"
    }
   },
   "outputs": [
    {
     "data": {
      "text/plain": "inflation_annual_cpi    0.0\nexch_usd                0.0\ndtype: float64"
     },
     "execution_count": 19,
     "metadata": {},
     "output_type": "execute_result"
    }
   ],
   "source": [
    "df_train[['inflation_annual_cpi','exch_usd']].isna().sum()/df_train.shape[0]"
   ]
  },
  {
   "cell_type": "code",
   "execution_count": 20,
   "outputs": [
    {
     "data": {
      "text/plain": "inflation_annual_cpi    0.017838\nexch_usd                0.012592\ndtype: float64"
     },
     "execution_count": 20,
     "metadata": {},
     "output_type": "execute_result"
    }
   ],
   "source": [
    "df_test[['inflation_annual_cpi','exch_usd']].isna().sum()/df_train.shape[0]"
   ],
   "metadata": {
    "collapsed": false,
    "ExecuteTime": {
     "end_time": "2023-09-14T13:49:52.461786Z",
     "start_time": "2023-09-14T13:49:52.440372Z"
    }
   },
   "id": "b37dfe91c633c410"
  },
  {
   "cell_type": "markdown",
   "id": "6c9e68cc",
   "metadata": {},
   "source": [
    "About 10.5% of `inflation_annual_cpi` and 1.6% of `exch_usd` are missing. We can keep both columns by imputing missing with mean values:"
   ]
  },
  {
   "cell_type": "code",
   "execution_count": 21,
   "outputs": [],
   "source": [
    "groupby_columns = [\"Latitude (average)\", \"Longitude (average)\"]\n",
    "ann_inf_cpi_mean = (\n",
    "    df_train\n",
    "    .groupby(groupby_columns, as_index=False)\n",
    "    [[\"inflation_annual_cpi\", \"exch_usd\"]]\n",
    "    .mean()\n",
    ")"
   ],
   "metadata": {
    "collapsed": false,
    "ExecuteTime": {
     "end_time": "2023-09-14T13:49:52.479129Z",
     "start_time": "2023-09-14T13:49:52.444190Z"
    }
   },
   "id": "b5c93f5cb394d2c5"
  },
  {
   "cell_type": "code",
   "execution_count": 22,
   "outputs": [],
   "source": [
    "df_test.set_index([\"Latitude (average)\", \"Longitude (average)\"], inplace=True)\n",
    "ann_inf_cpi_mean.set_index([\"Latitude (average)\", \"Longitude (average)\"], inplace=True)"
   ],
   "metadata": {
    "collapsed": false,
    "ExecuteTime": {
     "end_time": "2023-09-14T13:49:52.489881Z",
     "start_time": "2023-09-14T13:49:52.449025Z"
    }
   },
   "id": "199b61a614385f9c"
  },
  {
   "cell_type": "code",
   "execution_count": 23,
   "id": "c8f19556",
   "metadata": {
    "ExecuteTime": {
     "end_time": "2023-09-14T13:49:52.496070Z",
     "start_time": "2023-09-14T13:49:52.453822Z"
    }
   },
   "outputs": [],
   "source": [
    "df_test = df_test.combine_first(ann_inf_cpi_mean).reset_index()"
   ]
  },
  {
   "cell_type": "code",
   "execution_count": 24,
   "outputs": [
    {
     "data": {
      "text/plain": "                                  dtypes  n_unique  nan_vals\nLatitude (average)               float64        13         0\nLongitude (average)              float64        10         0\nbanking_crisis                     int64         2         0\ncurrency_crises                    int64         2         0\ndomestic_debt_in_default           int64         2         0\nexch_usd                         float64        94         0\ngdp_weighted_default             float64         3         0\nindependence                       int64         2         0\ninflation_annual_cpi             float64       100         0\ninflation_crises                   int64         2         0\nsovereign_external_debt_default    int64         2         0\nsystemic_crisis                    int64         2         0\nyear                               int64        73         0",
      "text/html": "<div>\n<style scoped>\n    .dataframe tbody tr th:only-of-type {\n        vertical-align: middle;\n    }\n\n    .dataframe tbody tr th {\n        vertical-align: top;\n    }\n\n    .dataframe thead th {\n        text-align: right;\n    }\n</style>\n<table border=\"1\" class=\"dataframe\">\n  <thead>\n    <tr style=\"text-align: right;\">\n      <th></th>\n      <th>dtypes</th>\n      <th>n_unique</th>\n      <th>nan_vals</th>\n    </tr>\n  </thead>\n  <tbody>\n    <tr>\n      <th>Latitude (average)</th>\n      <td>float64</td>\n      <td>13</td>\n      <td>0</td>\n    </tr>\n    <tr>\n      <th>Longitude (average)</th>\n      <td>float64</td>\n      <td>10</td>\n      <td>0</td>\n    </tr>\n    <tr>\n      <th>banking_crisis</th>\n      <td>int64</td>\n      <td>2</td>\n      <td>0</td>\n    </tr>\n    <tr>\n      <th>currency_crises</th>\n      <td>int64</td>\n      <td>2</td>\n      <td>0</td>\n    </tr>\n    <tr>\n      <th>domestic_debt_in_default</th>\n      <td>int64</td>\n      <td>2</td>\n      <td>0</td>\n    </tr>\n    <tr>\n      <th>exch_usd</th>\n      <td>float64</td>\n      <td>94</td>\n      <td>0</td>\n    </tr>\n    <tr>\n      <th>gdp_weighted_default</th>\n      <td>float64</td>\n      <td>3</td>\n      <td>0</td>\n    </tr>\n    <tr>\n      <th>independence</th>\n      <td>int64</td>\n      <td>2</td>\n      <td>0</td>\n    </tr>\n    <tr>\n      <th>inflation_annual_cpi</th>\n      <td>float64</td>\n      <td>100</td>\n      <td>0</td>\n    </tr>\n    <tr>\n      <th>inflation_crises</th>\n      <td>int64</td>\n      <td>2</td>\n      <td>0</td>\n    </tr>\n    <tr>\n      <th>sovereign_external_debt_default</th>\n      <td>int64</td>\n      <td>2</td>\n      <td>0</td>\n    </tr>\n    <tr>\n      <th>systemic_crisis</th>\n      <td>int64</td>\n      <td>2</td>\n      <td>0</td>\n    </tr>\n    <tr>\n      <th>year</th>\n      <td>int64</td>\n      <td>73</td>\n      <td>0</td>\n    </tr>\n  </tbody>\n</table>\n</div>"
     },
     "metadata": {},
     "output_type": "display_data"
    }
   ],
   "source": [
    "df_info(df_test)"
   ],
   "metadata": {
    "collapsed": false,
    "ExecuteTime": {
     "end_time": "2023-09-14T13:49:52.496723Z",
     "start_time": "2023-09-14T13:49:52.461117Z"
    }
   },
   "id": "bc4a293ca80b12e1"
  },
  {
   "cell_type": "markdown",
   "source": [
    "# Normalization & Standardization"
   ],
   "metadata": {
    "collapsed": false
   },
   "id": "d30705a086bec7fe"
  },
  {
   "cell_type": "code",
   "execution_count": null,
   "outputs": [],
   "source": [],
   "metadata": {
    "collapsed": false
   },
   "id": "917486b518af7051"
  }
 ],
 "metadata": {
  "kernelspec": {
   "display_name": "Python 3 (ipykernel)",
   "language": "python",
   "name": "python3"
  },
  "language_info": {
   "codemirror_mode": {
    "name": "ipython",
    "version": 3
   },
   "file_extension": ".py",
   "mimetype": "text/x-python",
   "name": "python",
   "nbconvert_exporter": "python",
   "pygments_lexer": "ipython3",
   "version": "3.10.12"
  }
 },
 "nbformat": 4,
 "nbformat_minor": 5
}
