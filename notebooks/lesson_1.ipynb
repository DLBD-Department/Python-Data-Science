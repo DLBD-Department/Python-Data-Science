{
 "cells": [
  {
   "cell_type": "markdown",
   "metadata": {},
   "source": [
    "# Lezione 1: Programming best practices"
   ]
  },
  {
   "cell_type": "markdown",
   "metadata": {},
   "source": [
    "## Scripts python\n",
    "\n",
    "In questa sezione impareremo a scrivere, salvare ed eseguire uno script python.\n",
    "Per prima cosa creiamo un nuovo file `hello_world.py` contente il seguente codice:"
   ]
  },
  {
   "cell_type": "code",
   "execution_count": null,
   "metadata": {},
   "outputs": [],
   "source": [
    "print(\"Hello world!\")"
   ]
  },
  {
   "cell_type": "markdown",
   "metadata": {},
   "source": [
    "Dopo aver salvato il file ci bastera', da riga di comando, eseguire uno dei seguenti comandi:\n",
    "\n",
    "Linux:\n",
    "```\n",
    "$ python3 hello_world.py \n",
    "```\n",
    "Windows:\n",
    "```\n",
    "hello_world.py\n",
    "```"
   ]
  },
  {
   "cell_type": "markdown",
   "metadata": {},
   "source": []
  }
 ],
 "metadata": {
  "language_info": {
   "name": "python"
  },
  "orig_nbformat": 4
 },
 "nbformat": 4,
 "nbformat_minor": 2
}
