{
 "cells": [
  {
   "cell_type": "code",
   "execution_count": 1,
   "id": "062da9f3-5ef1-4f2c-bad7-4d83ed5e71da",
   "metadata": {},
   "outputs": [],
   "source": [
    "import pandas as pd\n",
    "import os"
   ]
  },
  {
   "cell_type": "markdown",
   "id": "5a6aa9ac-1b75-4f73-a1dd-e5a8f719b0d8",
   "metadata": {},
   "source": [
    "# Loading Data"
   ]
  },
  {
   "cell_type": "code",
   "execution_count": 2,
   "id": "b99f0d30-b06d-47aa-8b3e-24c12904f92c",
   "metadata": {},
   "outputs": [],
   "source": [
    "join_paths = lambda csv_path: os.path.join(\"datasets\", csv_path)"
   ]
  },
  {
   "cell_type": "code",
   "execution_count": 3,
   "id": "e1b963de-fadc-4ec6-a2cc-d82589be3abb",
   "metadata": {},
   "outputs": [],
   "source": [
    "train_path = join_paths(\"train.csv\")\n",
    "test_path = join_paths(\"test.csv\")"
   ]
  },
  {
   "cell_type": "code",
   "execution_count": 4,
   "id": "0cbf9f68-8130-4bb6-836a-a887d534a2e1",
   "metadata": {},
   "outputs": [
    {
     "data": {
      "text/plain": [
       "('datasets/train.csv', 'datasets/test.csv')"
      ]
     },
     "execution_count": 4,
     "metadata": {},
     "output_type": "execute_result"
    }
   ],
   "source": [
    "train_path, test_path"
   ]
  },
  {
   "cell_type": "code",
   "execution_count": 5,
   "id": "b60e9aae-fdfe-423a-a419-019aa1f69edc",
   "metadata": {},
   "outputs": [],
   "source": [
    "train_df, test_df = pd.read_csv(train_path), pd.read_csv(test_path)"
   ]
  },
  {
   "cell_type": "markdown",
   "id": "edbc29cb-2e96-4069-ab55-a22b07946e49",
   "metadata": {},
   "source": [
    "# Train test target split"
   ]
  },
  {
   "cell_type": "code",
   "execution_count": 6,
   "id": "c68a933b-505a-4349-a0b0-f2d2aba07510",
   "metadata": {},
   "outputs": [],
   "source": [
    "TARGET = \"banking_crisis\""
   ]
  },
  {
   "cell_type": "code",
   "execution_count": 7,
   "id": "e2cce8c3-99c1-48d5-a982-0f103fcf5d88",
   "metadata": {},
   "outputs": [],
   "source": [
    "def xy_split(df, target_column):\n",
    "    # Return x and then y\n",
    "    x = df.drop(columns=target_column)\n",
    "    y = df[target_column]\n",
    "    return x, y"
   ]
  },
  {
   "cell_type": "code",
   "execution_count": 8,
   "id": "ba802fc5-0daf-469b-824c-d088425d07b9",
   "metadata": {},
   "outputs": [],
   "source": [
    "X_train, y_train = xy_split(train_df, TARGET)\n",
    "X_test, y_test = xy_split(test_df, TARGET)"
   ]
  },
  {
   "cell_type": "code",
   "execution_count": 9,
   "id": "11e49707-a0a9-4d87-af8e-5ac5efc25e9f",
   "metadata": {},
   "outputs": [
    {
     "name": "stdout",
     "output_type": "stream",
     "text": [
      "Index(['Latitude (average)', 'Longitude (average)', 'currency_crises',\n",
      "       'domestic_debt_in_default', 'exch_usd', 'gdp_weighted_default',\n",
      "       'independence', 'inflation_annual_cpi', 'inflation_crises',\n",
      "       'sovereign_external_debt_default', 'systemic_crisis', 'year'],\n",
      "      dtype='object')\n",
      "*******************************************************************************\n",
      "banking_crisis\n"
     ]
    }
   ],
   "source": [
    "print(X_train.columns)\n",
    "print(\"*\"*79)\n",
    "print(y_train.name)"
   ]
  },
  {
   "cell_type": "markdown",
   "id": "7873530b-2e0e-4dab-b9fe-51b4e40186b5",
   "metadata": {},
   "source": [
    "-----"
   ]
  },
  {
   "cell_type": "code",
   "execution_count": 10,
   "id": "211f06ea-6704-4e33-aa5d-96470d744c7b",
   "metadata": {},
   "outputs": [
    {
     "data": {
      "text/html": [
       "<div>\n",
       "<style scoped>\n",
       "    .dataframe tbody tr th:only-of-type {\n",
       "        vertical-align: middle;\n",
       "    }\n",
       "\n",
       "    .dataframe tbody tr th {\n",
       "        vertical-align: top;\n",
       "    }\n",
       "\n",
       "    .dataframe thead th {\n",
       "        text-align: right;\n",
       "    }\n",
       "</style>\n",
       "<table border=\"1\" class=\"dataframe\">\n",
       "  <thead>\n",
       "    <tr style=\"text-align: right;\">\n",
       "      <th></th>\n",
       "      <th>Latitude (average)</th>\n",
       "      <th>Longitude (average)</th>\n",
       "      <th>currency_crises</th>\n",
       "      <th>domestic_debt_in_default</th>\n",
       "      <th>exch_usd</th>\n",
       "      <th>gdp_weighted_default</th>\n",
       "      <th>independence</th>\n",
       "      <th>inflation_annual_cpi</th>\n",
       "      <th>inflation_crises</th>\n",
       "      <th>sovereign_external_debt_default</th>\n",
       "      <th>systemic_crisis</th>\n",
       "      <th>year</th>\n",
       "    </tr>\n",
       "  </thead>\n",
       "  <tbody>\n",
       "    <tr>\n",
       "      <th>count</th>\n",
       "      <td>952.000000</td>\n",
       "      <td>952.000000</td>\n",
       "      <td>952.000000</td>\n",
       "      <td>952.000000</td>\n",
       "      <td>952.000000</td>\n",
       "      <td>952.000000</td>\n",
       "      <td>952.000000</td>\n",
       "      <td>952.000000</td>\n",
       "      <td>952.000000</td>\n",
       "      <td>952.000000</td>\n",
       "      <td>952.000000</td>\n",
       "      <td>952.000000</td>\n",
       "    </tr>\n",
       "    <tr>\n",
       "      <th>mean</th>\n",
       "      <td>0.525743</td>\n",
       "      <td>0.412352</td>\n",
       "      <td>0.133403</td>\n",
       "      <td>0.037815</td>\n",
       "      <td>0.385582</td>\n",
       "      <td>0.006607</td>\n",
       "      <td>0.769958</td>\n",
       "      <td>0.465231</td>\n",
       "      <td>0.132353</td>\n",
       "      <td>0.150210</td>\n",
       "      <td>0.075630</td>\n",
       "      <td>0.700658</td>\n",
       "    </tr>\n",
       "    <tr>\n",
       "      <th>std</th>\n",
       "      <td>0.355233</td>\n",
       "      <td>0.260056</td>\n",
       "      <td>0.352336</td>\n",
       "      <td>0.190849</td>\n",
       "      <td>0.344868</td>\n",
       "      <td>0.044272</td>\n",
       "      <td>0.421081</td>\n",
       "      <td>0.051934</td>\n",
       "      <td>0.339052</td>\n",
       "      <td>0.357465</td>\n",
       "      <td>0.264545</td>\n",
       "      <td>0.214604</td>\n",
       "    </tr>\n",
       "    <tr>\n",
       "      <th>min</th>\n",
       "      <td>0.000000</td>\n",
       "      <td>0.000000</td>\n",
       "      <td>0.000000</td>\n",
       "      <td>0.000000</td>\n",
       "      <td>0.000000</td>\n",
       "      <td>0.000000</td>\n",
       "      <td>0.000000</td>\n",
       "      <td>0.000000</td>\n",
       "      <td>0.000000</td>\n",
       "      <td>0.000000</td>\n",
       "      <td>0.000000</td>\n",
       "      <td>0.000000</td>\n",
       "    </tr>\n",
       "    <tr>\n",
       "      <th>25%</th>\n",
       "      <td>0.142857</td>\n",
       "      <td>0.207834</td>\n",
       "      <td>0.000000</td>\n",
       "      <td>0.000000</td>\n",
       "      <td>0.071994</td>\n",
       "      <td>0.000000</td>\n",
       "      <td>1.000000</td>\n",
       "      <td>0.458406</td>\n",
       "      <td>0.000000</td>\n",
       "      <td>0.000000</td>\n",
       "      <td>0.000000</td>\n",
       "      <td>0.590909</td>\n",
       "    </tr>\n",
       "    <tr>\n",
       "      <th>50%</th>\n",
       "      <td>0.571429</td>\n",
       "      <td>0.463629</td>\n",
       "      <td>0.000000</td>\n",
       "      <td>0.000000</td>\n",
       "      <td>0.285457</td>\n",
       "      <td>0.000000</td>\n",
       "      <td>1.000000</td>\n",
       "      <td>0.465127</td>\n",
       "      <td>0.000000</td>\n",
       "      <td>0.000000</td>\n",
       "      <td>0.000000</td>\n",
       "      <td>0.733766</td>\n",
       "    </tr>\n",
       "    <tr>\n",
       "      <th>75%</th>\n",
       "      <td>0.888889</td>\n",
       "      <td>0.559552</td>\n",
       "      <td>0.000000</td>\n",
       "      <td>0.000000</td>\n",
       "      <td>0.671914</td>\n",
       "      <td>0.000000</td>\n",
       "      <td>1.000000</td>\n",
       "      <td>0.473414</td>\n",
       "      <td>0.000000</td>\n",
       "      <td>0.000000</td>\n",
       "      <td>0.000000</td>\n",
       "      <td>0.870130</td>\n",
       "    </tr>\n",
       "    <tr>\n",
       "      <th>max</th>\n",
       "      <td>1.000000</td>\n",
       "      <td>1.000000</td>\n",
       "      <td>2.000000</td>\n",
       "      <td>1.000000</td>\n",
       "      <td>1.000000</td>\n",
       "      <td>0.400000</td>\n",
       "      <td>1.000000</td>\n",
       "      <td>1.000000</td>\n",
       "      <td>1.000000</td>\n",
       "      <td>1.000000</td>\n",
       "      <td>1.000000</td>\n",
       "      <td>1.000000</td>\n",
       "    </tr>\n",
       "  </tbody>\n",
       "</table>\n",
       "</div>"
      ],
      "text/plain": [
       "       Latitude (average)  Longitude (average)  currency_crises  \\\n",
       "count          952.000000           952.000000       952.000000   \n",
       "mean             0.525743             0.412352         0.133403   \n",
       "std              0.355233             0.260056         0.352336   \n",
       "min              0.000000             0.000000         0.000000   \n",
       "25%              0.142857             0.207834         0.000000   \n",
       "50%              0.571429             0.463629         0.000000   \n",
       "75%              0.888889             0.559552         0.000000   \n",
       "max              1.000000             1.000000         2.000000   \n",
       "\n",
       "       domestic_debt_in_default    exch_usd  gdp_weighted_default  \\\n",
       "count                952.000000  952.000000            952.000000   \n",
       "mean                   0.037815    0.385582              0.006607   \n",
       "std                    0.190849    0.344868              0.044272   \n",
       "min                    0.000000    0.000000              0.000000   \n",
       "25%                    0.000000    0.071994              0.000000   \n",
       "50%                    0.000000    0.285457              0.000000   \n",
       "75%                    0.000000    0.671914              0.000000   \n",
       "max                    1.000000    1.000000              0.400000   \n",
       "\n",
       "       independence  inflation_annual_cpi  inflation_crises  \\\n",
       "count    952.000000            952.000000        952.000000   \n",
       "mean       0.769958              0.465231          0.132353   \n",
       "std        0.421081              0.051934          0.339052   \n",
       "min        0.000000              0.000000          0.000000   \n",
       "25%        1.000000              0.458406          0.000000   \n",
       "50%        1.000000              0.465127          0.000000   \n",
       "75%        1.000000              0.473414          0.000000   \n",
       "max        1.000000              1.000000          1.000000   \n",
       "\n",
       "       sovereign_external_debt_default  systemic_crisis        year  \n",
       "count                       952.000000       952.000000  952.000000  \n",
       "mean                          0.150210         0.075630    0.700658  \n",
       "std                           0.357465         0.264545    0.214604  \n",
       "min                           0.000000         0.000000    0.000000  \n",
       "25%                           0.000000         0.000000    0.590909  \n",
       "50%                           0.000000         0.000000    0.733766  \n",
       "75%                           0.000000         0.000000    0.870130  \n",
       "max                           1.000000         1.000000    1.000000  "
      ]
     },
     "execution_count": 10,
     "metadata": {},
     "output_type": "execute_result"
    }
   ],
   "source": [
    "X_train.describe()"
   ]
  },
  {
   "cell_type": "code",
   "execution_count": null,
   "id": "8b3e9c9d-b87e-4031-bae9-6f34d0a45f46",
   "metadata": {},
   "outputs": [],
   "source": []
  }
 ],
 "metadata": {
  "kernelspec": {
   "display_name": "Python 3 (ipykernel)",
   "language": "python",
   "name": "python3"
  },
  "language_info": {
   "codemirror_mode": {
    "name": "ipython",
    "version": 3
   },
   "file_extension": ".py",
   "mimetype": "text/x-python",
   "name": "python",
   "nbconvert_exporter": "python",
   "pygments_lexer": "ipython3",
   "version": "3.10.13"
  }
 },
 "nbformat": 4,
 "nbformat_minor": 5
}
