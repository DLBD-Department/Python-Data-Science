{
 "cells": [
  {
   "cell_type": "markdown",
   "id": "274b0490",
   "metadata": {},
   "source": [
    "# Modelli ML - E2E\n",
    "\n",
    "In questa lezione ci occuperemo di allenare e testare diversi modelli di machine learning, in particolare in un contesto di classificazione, sui dati preparati in precedenza."
   ]
  },
  {
   "cell_type": "code",
   "execution_count": 2,
   "id": "062da9f3-5ef1-4f2c-bad7-4d83ed5e71da",
   "metadata": {},
   "outputs": [],
   "source": [
    "import pandas as pd\n",
    "import os"
   ]
  },
  {
   "cell_type": "markdown",
   "id": "5a6aa9ac-1b75-4f73-a1dd-e5a8f719b0d8",
   "metadata": {},
   "source": [
    "## Import dati\n",
    "\n",
    "Per prima cosa importiamo i dataset di train e test preparati durante la lezione scorsa."
   ]
  },
  {
   "cell_type": "code",
   "execution_count": 3,
   "id": "b99f0d30-b06d-47aa-8b3e-24c12904f92c",
   "metadata": {},
   "outputs": [
    {
     "data": {
      "text/plain": [
       "'datasets/train.csv'"
      ]
     },
     "metadata": {},
     "output_type": "display_data"
    },
    {
     "data": {
      "text/plain": [
       "'datasets/test.csv'"
      ]
     },
     "metadata": {},
     "output_type": "display_data"
    }
   ],
   "source": [
    "# Definiamo una funzione, utilizzando la sintassi \"lambda\", per costruire i path che ci servono.\n",
    "join_paths = lambda csv_path: os.path.join(\"datasets\", csv_path)\n",
    "\n",
    "train_path = join_paths(\"train.csv\")\n",
    "test_path = join_paths(\"test.csv\")\n",
    "\n",
    "display(train_path, test_path)"
   ]
  },
  {
   "cell_type": "code",
   "execution_count": 4,
   "id": "b60e9aae-fdfe-423a-a419-019aa1f69edc",
   "metadata": {},
   "outputs": [],
   "source": [
    "# importiamo ora i dati in due DataFrame distinti\n",
    "train_df, test_df = pd.read_csv(train_path), pd.read_csv(test_path)"
   ]
  },
  {
   "cell_type": "markdown",
   "id": "edbc29cb-2e96-4069-ab55-a22b07946e49",
   "metadata": {},
   "source": [
    "## Estrazione della variabile target\n",
    "\n",
    "In questo notebook scegliamo come variabile target `banking_crisis`, la variabile binaria che identifica le osservazioni in cui è in corso una crisi bancaria nel paese. A tal fine separiamo tale colonna dalle feature."
   ]
  },
  {
   "cell_type": "code",
   "execution_count": 5,
   "id": "c68a933b-505a-4349-a0b0-f2d2aba07510",
   "metadata": {},
   "outputs": [],
   "source": [
    "# Fissiamo la variabile target\n",
    "TARGET = \"banking_crisis\"\n",
    "\n",
    "# Definiamo una funzione per lo split\n",
    "def xy_split(df, target_column):\n",
    "    x = df.drop(columns=target_column)\n",
    "    y = df[target_column]\n",
    "    return x, y\n",
    "\n",
    "\n",
    "# Separiamo target_column dalle altre feature\n",
    "X_train, y_train = xy_split(train_df, TARGET)\n",
    "X_test, y_test = xy_split(test_df, TARGET)"
   ]
  },
  {
   "cell_type": "code",
   "execution_count": 8,
   "id": "11e49707-a0a9-4d87-af8e-5ac5efc25e9f",
   "metadata": {},
   "outputs": [
    {
     "name": "stdout",
     "output_type": "stream",
     "text": [
      "Index(['Latitude (average)', 'Longitude (average)', 'currency_crises',\n",
      "       'domestic_debt_in_default', 'exch_usd', 'gdp_weighted_default',\n",
      "       'independence', 'inflation_annual_cpi', 'inflation_crises',\n",
      "       'sovereign_external_debt_default', 'systemic_crisis', 'year'],\n",
      "      dtype='object')\n",
      "*******************************************************************************\n",
      "banking_crisis\n"
     ]
    }
   ],
   "source": [
    "# Controlliamo quali colonne sono presenti nel DataFrame e nella Series risultanti\n",
    "print(X_train.columns)\n",
    "print(\"*\"*79)\n",
    "print(y_train.name)"
   ]
  },
  {
   "cell_type": "markdown",
   "id": "7873530b-2e0e-4dab-b9fe-51b4e40186b5",
   "metadata": {},
   "source": [
    "-----"
   ]
  },
  {
   "cell_type": "markdown",
   "id": "8b3e9c9d-b87e-4031-bae9-6f34d0a45f46",
   "metadata": {},
   "source": [
    "# Modelli\n",
    "\n",
    "Adesso andremo ad allenare diversi modelli di classificazione usando il nostro train set e testando le performance sul test set."
   ]
  },
  {
   "cell_type": "markdown",
   "id": "265e865b",
   "metadata": {},
   "source": [
    "## Regressione Logistica\n",
    "\n",
    "Partiamo da uno dei modelli più semplici: la regressione logistica. Utilizzeremo l'implementazione presente nella libreria `scikit-learn`."
   ]
  },
  {
   "cell_type": "code",
   "execution_count": null,
   "id": "7090ff1d",
   "metadata": {},
   "outputs": [],
   "source": [
    "from sklearn.linear_model import LogisticRegression\n",
    "\n",
    "log_reg = LogisticRegression(\n",
    "    penalty=\"l1\",\n",
    "    random_state=42,\n",
    "    solver=\"lbfgs\",\n",
    "    max_iter=100,\n",
    "    verbose=True,\n",
    "    l1_ratio=None,\n",
    ")"
   ]
  }
 ],
 "metadata": {
  "kernelspec": {
   "display_name": "Python 3 (ipykernel)",
   "language": "python",
   "name": "python3"
  },
  "language_info": {
   "codemirror_mode": {
    "name": "ipython",
    "version": 3
   },
   "file_extension": ".py",
   "mimetype": "text/x-python",
   "name": "python",
   "nbconvert_exporter": "python",
   "pygments_lexer": "ipython3",
   "version": "3.10.12"
  }
 },
 "nbformat": 4,
 "nbformat_minor": 5
}
