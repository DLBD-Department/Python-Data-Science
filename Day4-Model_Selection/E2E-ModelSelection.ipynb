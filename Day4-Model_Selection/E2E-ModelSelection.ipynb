{
 "cells": [
  {
   "cell_type": "markdown",
   "id": "6815f63b",
   "metadata": {},
   "source": [
    "# Selezione del modello\n",
    "\n",
    "In questo notebook proveremo alcuni metodi di selezione dei modelli. Partendo dai due modelli con le migliori performance del notebook 3 cercheremo i valori ottimali degli iperparametri, valutando varie configurazioni tramite cross-validation. Successivamente testeremo la migliore configurazione sul test set.\n",
    "\n",
    "Per prima cosa importiamo i dati e alcune librerie.\n",
    "\n",
    "<img src=\"https://scikit-learn.org/stable/_images/grid_search_workflow.png\" width=\"600\" height=\"400\">\n"
   ]
  },
  {
   "cell_type": "code",
   "execution_count": 1,
   "id": "eee8f492-b9b9-42f9-8e09-e33e9fa76552",
   "metadata": {},
   "outputs": [],
   "source": [
    "import warnings\n",
    "import os\n",
    "import pickle\n",
    "\n",
    "import numpy as np\n",
    "import pandas as pd\n",
    "import seaborn as sns\n",
    "\n",
    "warnings.simplefilter(action=\"ignore\", category=UserWarning)"
   ]
  },
  {
   "cell_type": "code",
   "execution_count": 2,
   "id": "7b54a4b2-709f-4ba5-a8b4-59dbaf370a99",
   "metadata": {},
   "outputs": [],
   "source": [
    "def get_data(filename: str) -> tuple:\n",
    "    path = os.path.join(\"datasets\", filename)\n",
    "    with open(path, \"rb\") as file:\n",
    "        data = pickle.load(file)\n",
    "    return data"
   ]
  },
  {
   "cell_type": "code",
   "execution_count": 3,
   "id": "c11c351c-a994-4c08-8439-805c5913d924",
   "metadata": {},
   "outputs": [],
   "source": [
    "classification_data = get_data(\"classification_data.pickle\")\n",
    "regression_data = get_data(\"regression_data.pickle\")"
   ]
  },
  {
   "cell_type": "markdown",
   "id": "f1f9de1d-7202-411e-8aac-d24df786aca0",
   "metadata": {},
   "source": [
    "## Selezione degli iperparametri - Classificazione\n",
    "\n",
    "Nel notebook precedente abbiamo scelto `RandomForestClassifier` come modello principale per il problema di classificazione.\n",
    "Ora selezioneremo gli iperparametri del modello tramite lo score di 5-fold cross-validation sul train set.\n",
    "\n",
    "In genere questo processo viene svolto congiuntamente alla selezione del modello candidato, in modo da avere una visione più completa delle possibili performance del modello.\n",
    "\n",
    "A tale scopo utilizzeremo la funzione `cross_val_score` di `sklearn`, che ci permette di automatizzare il processo di cross-validation.\n"
   ]
  },
  {
   "cell_type": "code",
   "execution_count": 4,
   "id": "53813211-0339-436c-a9a7-ef6cfd25aeef",
   "metadata": {},
   "outputs": [],
   "source": [
    "X_train, y_train, X_test, y_test = classification_data"
   ]
  },
  {
   "cell_type": "code",
   "execution_count": 5,
   "id": "4b273fc1-e2a5-4781-a465-ef957312a423",
   "metadata": {},
   "outputs": [],
   "source": [
    "from sklearn.model_selection import cross_val_score\n",
    "from sklearn.ensemble import RandomForestClassifier\n",
    "\n",
    "rfc = RandomForestClassifier(random_state=42)\n",
    "\n",
    "# Perform a 10-fold cross validation\n",
    "scores = cross_val_score(rfc, X_train, y_train, cv=10)"
   ]
  },
  {
   "cell_type": "code",
   "execution_count": 6,
   "id": "c1771e24-5aa7-482b-b39c-25e9a8e7ea4d",
   "metadata": {},
   "outputs": [
    {
     "data": {
      "text/html": [
       "<div>\n",
       "<style scoped>\n",
       "    .dataframe tbody tr th:only-of-type {\n",
       "        vertical-align: middle;\n",
       "    }\n",
       "\n",
       "    .dataframe tbody tr th {\n",
       "        vertical-align: top;\n",
       "    }\n",
       "\n",
       "    .dataframe thead th {\n",
       "        text-align: right;\n",
       "    }\n",
       "</style>\n",
       "<table border=\"1\" class=\"dataframe\">\n",
       "  <thead>\n",
       "    <tr style=\"text-align: right;\">\n",
       "      <th></th>\n",
       "      <th>Random Forest CV</th>\n",
       "    </tr>\n",
       "  </thead>\n",
       "  <tbody>\n",
       "    <tr>\n",
       "      <th>1</th>\n",
       "      <td>0.760741</td>\n",
       "    </tr>\n",
       "    <tr>\n",
       "      <th>2</th>\n",
       "      <td>0.742222</td>\n",
       "    </tr>\n",
       "    <tr>\n",
       "      <th>3</th>\n",
       "      <td>0.753333</td>\n",
       "    </tr>\n",
       "    <tr>\n",
       "      <th>4</th>\n",
       "      <td>0.743704</td>\n",
       "    </tr>\n",
       "    <tr>\n",
       "      <th>5</th>\n",
       "      <td>0.763704</td>\n",
       "    </tr>\n",
       "    <tr>\n",
       "      <th>6</th>\n",
       "      <td>0.746667</td>\n",
       "    </tr>\n",
       "    <tr>\n",
       "      <th>7</th>\n",
       "      <td>0.731852</td>\n",
       "    </tr>\n",
       "    <tr>\n",
       "      <th>8</th>\n",
       "      <td>0.759259</td>\n",
       "    </tr>\n",
       "    <tr>\n",
       "      <th>9</th>\n",
       "      <td>0.765926</td>\n",
       "    </tr>\n",
       "    <tr>\n",
       "      <th>10</th>\n",
       "      <td>0.751852</td>\n",
       "    </tr>\n",
       "  </tbody>\n",
       "</table>\n",
       "</div>"
      ],
      "text/plain": [
       "    Random Forest CV\n",
       "1           0.760741\n",
       "2           0.742222\n",
       "3           0.753333\n",
       "4           0.743704\n",
       "5           0.763704\n",
       "6           0.746667\n",
       "7           0.731852\n",
       "8           0.759259\n",
       "9           0.765926\n",
       "10          0.751852"
      ]
     },
     "metadata": {},
     "output_type": "display_data"
    },
    {
     "data": {
      "text/plain": [
       "'Mean: Random Forest CV    0.751926\\ndtype: float64'"
      ]
     },
     "metadata": {},
     "output_type": "display_data"
    },
    {
     "data": {
      "text/plain": [
       "<Axes: ylabel='Frequency'>"
      ]
     },
     "execution_count": 6,
     "metadata": {},
     "output_type": "execute_result"
    },
    {
     "data": {
      "image/png": "[encoded data removed]",
      "text/plain": [
       "<Figure size 640x480 with 1 Axes>"
      ]
     },
     "metadata": {},
     "output_type": "display_data"
    }
   ],
   "source": [
    "scores = pd.DataFrame(\n",
    "    scores, columns=[\"Random Forest CV\"], index=np.arange(1, scores.shape[0] + 1)\n",
    ")\n",
    "display(scores, f\"Mean: {scores.mean()}\")\n",
    "scores.plot.hist()"
   ]
  },
  {
   "cell_type": "markdown",
   "id": "6fecac38",
   "metadata": {},
   "source": [
    "Applichiamo ora il metodo per trovare dei buoni parametri per il modello. A tale scopo dovremo scegliere uno spazio dei parametri da esplorare e un metodo per farlo. Qui proponiamo 3 approcci possibili.\n"
   ]
  },
  {
   "cell_type": "markdown",
   "id": "38bfd0c8",
   "metadata": {},
   "source": [
    "### Metodo 1 - GridSearchCV\n",
    "\n",
    "Utilizzeremo il metodo `GridSearchCV` di `sklearn`, che permette di esplorare uno spazio dei parametri con una ricerca esaustiva.\n"
   ]
  },
  {
   "cell_type": "code",
   "execution_count": 7,
   "id": "c2b9b924-4403-4d37-929c-ba9a696a8996",
   "metadata": {},
   "outputs": [
    {
     "name": "stdout",
     "output_type": "stream",
     "text": [
      "Number of combinations:  128\n"
     ]
    }
   ],
   "source": [
    "params = {\n",
    "    # 'n_estimators' rappresenta il numero di alberi nella foresta. Di solito il\n",
    "    # numero più alto di alberi è il migliore per apprendere i dati. Tuttavia,\n",
    "    # aggiungendo molti alberi può rallentare notevolmente il processo di addestramento,\n",
    "    # quindi di solito usiamo un numero ragionevole a seconda delle dimensioni del dataset.\n",
    "    \"n_estimators\": [10, 50],\n",
    "    # 'max_depth' rappresenta la profondità di ciascun albero nella foresta.\n",
    "    # Più profondo è l'albero, più suddivisioni ha e cattura più informazioni sui dati\n",
    "    # e questa è la profondità massima a cui può crescere ciascun albero.\n",
    "    \"max_depth\": [1, 3],\n",
    "    # 'min_samples_split' rappresenta il numero minimo di campioni necessari per dividere un nodo interno.\n",
    "    # Questo può variare tra considerare almeno un campione in ciascun nodo\n",
    "    # a considerare tutti i campioni in ciascun nodo. Quando aumentiamo questo parametro,\n",
    "    # l'albero diventa più vincolato in quanto deve considerare più campioni in ciascun nodo.\n",
    "    \"min_samples_split\": [2, 5],\n",
    "    # 'min_samples_leaf' è il numero minimo di campioni richiesti per essere in un nodo foglia.\n",
    "    # Questo parametro è simile a min_samples_splits, tuttavia, descrive il numero minimo di\n",
    "    # campioni alle foglie, alla base dell'albero.\n",
    "    \"min_samples_leaf\": [2, 4],\n",
    "    # 'max_features' rappresenta il numero di caratteristiche da considerare quando si cerca\n",
    "    # la migliore suddivisione. Queste saranno selezionate in modo casuale.\n",
    "    # Come regola generale, la radice quadrata del numero totale di caratteristiche funziona\n",
    "    # spesso molto bene, ma dovremmo controllare fino al 30-40% del numero totale di features.\n",
    "    \"max_features\": [\"sqrt\", \"log2\"],\n",
    "    # 'bootstrap' viene utilizzato per il campionamento avviato. Ciò significa che per ogni albero\n",
    "    # che viene costruito, considererebbe un insieme / sottoinsieme di righe distinte. Generalmente,\n",
    "    # l'opzione di avvio è impostata su True per un modello Random Forest.\n",
    "    \"bootstrap\": [True, False],\n",
    "    # 'criterion' è la funzione per misurare la qualità di una divisione. \"gini\" è per l'impurità di Gini\n",
    "    # e \"entropy\" è per il guadagno di informazione.\n",
    "    \"criterion\": [\"gini\", \"entropy\"],\n",
    "}\n",
    "\n",
    "# Una funzione per contare il numero di combinazioni possibili:\n",
    "\n",
    "\n",
    "def count_combinations(params: dict) -> int:\n",
    "    result = 1\n",
    "    for key in params:\n",
    "        subset_count = 1\n",
    "        if isinstance(params[key], list):\n",
    "            subset_count = len(params[key])\n",
    "        elif isinstance(params[key], dict):\n",
    "            subset_count = count_combinations(params[key])\n",
    "        result *= subset_count\n",
    "    print(\"Number of combinations: \", result)\n",
    "\n",
    "\n",
    "count_combinations(params)"
   ]
  },
  {
   "cell_type": "code",
   "execution_count": 8,
   "id": "be8aabfd-b75d-4d4e-b3e4-694f356c40fc",
   "metadata": {},
   "outputs": [
    {
     "data": {
      "text/html": [
       "<style>#sk-container-id-1 {color: black;}#sk-container-id-1 pre{padding: 0;}#sk-container-id-1 div.sk-toggleable {background-color: white;}#sk-container-id-1 label.sk-toggleable__label {cursor: pointer;display: block;width: 100%;margin-bottom: 0;padding: 0.3em;box-sizing: border-box;text-align: center;}#sk-container-id-1 label.sk-toggleable__label-arrow:before {content: \"▸\";float: left;margin-right: 0.25em;color: #696969;}#sk-container-id-1 label.sk-toggleable__label-arrow:hover:before {color: black;}#sk-container-id-1 div.sk-estimator:hover label.sk-toggleable__label-arrow:before {color: black;}#sk-container-id-1 div.sk-toggleable__content {max-height: 0;max-width: 0;overflow: hidden;text-align: left;background-color: #f0f8ff;}#sk-container-id-1 div.sk-toggleable__content pre {margin: 0.2em;color: black;border-radius: 0.25em;background-color: #f0f8ff;}#sk-container-id-1 input.sk-toggleable__control:checked~div.sk-toggleable__content {max-height: 200px;max-width: 100%;overflow: auto;}#sk-container-id-1 input.sk-toggleable__control:checked~label.sk-toggleable__label-arrow:before {content: \"▾\";}#sk-container-id-1 div.sk-estimator input.sk-toggleable__control:checked~label.sk-toggleable__label {background-color: #d4ebff;}#sk-container-id-1 div.sk-label input.sk-toggleable__control:checked~label.sk-toggleable__label {background-color: #d4ebff;}#sk-container-id-1 input.sk-hidden--visually {border: 0;clip: rect(1px 1px 1px 1px);clip: rect(1px, 1px, 1px, 1px);height: 1px;margin: -1px;overflow: hidden;padding: 0;position: absolute;width: 1px;}#sk-container-id-1 div.sk-estimator {font-family: monospace;background-color: #f0f8ff;border: 1px dotted black;border-radius: 0.25em;box-sizing: border-box;margin-bottom: 0.5em;}#sk-container-id-1 div.sk-estimator:hover {background-color: #d4ebff;}#sk-container-id-1 div.sk-parallel-item::after {content: \"\";width: 100%;border-bottom: 1px solid gray;flex-grow: 1;}#sk-container-id-1 div.sk-label:hover label.sk-toggleable__label {background-color: #d4ebff;}#sk-container-id-1 div.sk-serial::before {content: \"\";position: absolute;border-left: 1px solid gray;box-sizing: border-box;top: 0;bottom: 0;left: 50%;z-index: 0;}#sk-container-id-1 div.sk-serial {display: flex;flex-direction: column;align-items: center;background-color: white;padding-right: 0.2em;padding-left: 0.2em;position: relative;}#sk-container-id-1 div.sk-item {position: relative;z-index: 1;}#sk-container-id-1 div.sk-parallel {display: flex;align-items: stretch;justify-content: center;background-color: white;position: relative;}#sk-container-id-1 div.sk-item::before, #sk-container-id-1 div.sk-parallel-item::before {content: \"\";position: absolute;border-left: 1px solid gray;box-sizing: border-box;top: 0;bottom: 0;left: 50%;z-index: -1;}#sk-container-id-1 div.sk-parallel-item {display: flex;flex-direction: column;z-index: 1;position: relative;background-color: white;}#sk-container-id-1 div.sk-parallel-item:first-child::after {align-self: flex-end;width: 50%;}#sk-container-id-1 div.sk-parallel-item:last-child::after {align-self: flex-start;width: 50%;}#sk-container-id-1 div.sk-parallel-item:only-child::after {width: 0;}#sk-container-id-1 div.sk-dashed-wrapped {border: 1px dashed gray;margin: 0 0.4em 0.5em 0.4em;box-sizing: border-box;padding-bottom: 0.4em;background-color: white;}#sk-container-id-1 div.sk-label label {font-family: monospace;font-weight: bold;display: inline-block;line-height: 1.2em;}#sk-container-id-1 div.sk-label-container {text-align: center;}#sk-container-id-1 div.sk-container {/* jupyter's `normalize.less` sets `[hidden] { display: none; }` but bootstrap.min.css set `[hidden] { display: none !important; }` so we also need the `!important` here to be able to override the default hidden behavior on the sphinx rendered scikit-learn.org. See: https://github.com/scikit-learn/scikit-learn/issues/21755 */display: inline-block !important;position: relative;}#sk-container-id-1 div.sk-text-repr-fallback {display: none;}</style><div id=\"sk-container-id-1\" class=\"sk-top-container\"><div class=\"sk-text-repr-fallback\"><pre>GridSearchCV(cv=5, estimator=RandomForestClassifier(random_state=42), n_jobs=-1,\n",
       "             param_grid={&#x27;bootstrap&#x27;: [True, False],\n",
       "                         &#x27;criterion&#x27;: [&#x27;gini&#x27;, &#x27;entropy&#x27;], &#x27;max_depth&#x27;: [1, 3],\n",
       "                         &#x27;max_features&#x27;: [&#x27;sqrt&#x27;, &#x27;log2&#x27;],\n",
       "                         &#x27;min_samples_leaf&#x27;: [2, 4],\n",
       "                         &#x27;min_samples_split&#x27;: [2, 5],\n",
       "                         &#x27;n_estimators&#x27;: [10, 50]})</pre><b>In a Jupyter environment, please rerun this cell to show the HTML representation or trust the notebook. <br />On GitHub, the HTML representation is unable to render, please try loading this page with nbviewer.org.</b></div><div class=\"sk-container\" hidden><div class=\"sk-item sk-dashed-wrapped\"><div class=\"sk-label-container\"><div class=\"sk-label sk-toggleable\"><input class=\"sk-toggleable__control sk-hidden--visually\" id=\"sk-estimator-id-1\" type=\"checkbox\" ><label for=\"sk-estimator-id-1\" class=\"sk-toggleable__label sk-toggleable__label-arrow\">GridSearchCV</label><div class=\"sk-toggleable__content\"><pre>GridSearchCV(cv=5, estimator=RandomForestClassifier(random_state=42), n_jobs=-1,\n",
       "             param_grid={&#x27;bootstrap&#x27;: [True, False],\n",
       "                         &#x27;criterion&#x27;: [&#x27;gini&#x27;, &#x27;entropy&#x27;], &#x27;max_depth&#x27;: [1, 3],\n",
       "                         &#x27;max_features&#x27;: [&#x27;sqrt&#x27;, &#x27;log2&#x27;],\n",
       "                         &#x27;min_samples_leaf&#x27;: [2, 4],\n",
       "                         &#x27;min_samples_split&#x27;: [2, 5],\n",
       "                         &#x27;n_estimators&#x27;: [10, 50]})</pre></div></div></div><div class=\"sk-parallel\"><div class=\"sk-parallel-item\"><div class=\"sk-item\"><div class=\"sk-label-container\"><div class=\"sk-label sk-toggleable\"><input class=\"sk-toggleable__control sk-hidden--visually\" id=\"sk-estimator-id-2\" type=\"checkbox\" ><label for=\"sk-estimator-id-2\" class=\"sk-toggleable__label sk-toggleable__label-arrow\">estimator: RandomForestClassifier</label><div class=\"sk-toggleable__content\"><pre>RandomForestClassifier(random_state=42)</pre></div></div></div><div class=\"sk-serial\"><div class=\"sk-item\"><div class=\"sk-estimator sk-toggleable\"><input class=\"sk-toggleable__control sk-hidden--visually\" id=\"sk-estimator-id-3\" type=\"checkbox\" ><label for=\"sk-estimator-id-3\" class=\"sk-toggleable__label sk-toggleable__label-arrow\">RandomForestClassifier</label><div class=\"sk-toggleable__content\"><pre>RandomForestClassifier(random_state=42)</pre></div></div></div></div></div></div></div></div></div></div>"
      ],
      "text/plain": [
       "GridSearchCV(cv=5, estimator=RandomForestClassifier(random_state=42), n_jobs=-1,\n",
       "             param_grid={'bootstrap': [True, False],\n",
       "                         'criterion': ['gini', 'entropy'], 'max_depth': [1, 3],\n",
       "                         'max_features': ['sqrt', 'log2'],\n",
       "                         'min_samples_leaf': [2, 4],\n",
       "                         'min_samples_split': [2, 5],\n",
       "                         'n_estimators': [10, 50]})"
      ]
     },
     "execution_count": 8,
     "metadata": {},
     "output_type": "execute_result"
    }
   ],
   "source": [
    "from sklearn.model_selection import GridSearchCV\n",
    "\n",
    "# Creiamo un oggetto GridSearchCV\n",
    "grid_search = GridSearchCV(\n",
    "    estimator=rfc, param_grid=params, cv=5, n_jobs=-1\n",
    ")  # per mostrare l'andamento della run, si può usare verbose=2\n",
    "\n",
    "# Eseguiamo la grid search\n",
    "grid_search.fit(X_train, y_train)"
   ]
  },
  {
   "cell_type": "markdown",
   "id": "448f0bb8",
   "metadata": {},
   "source": [
    "Ora possiamo estrarre la configurazione ottimale dall'oggetto:\n"
   ]
  },
  {
   "cell_type": "code",
   "execution_count": 9,
   "id": "c7eb1d3e-3af3-46ab-b049-21eb202ea132",
   "metadata": {},
   "outputs": [
    {
     "name": "stdout",
     "output_type": "stream",
     "text": [
      "Best hyperparameters:\n",
      " {'bootstrap': True, 'criterion': 'gini', 'max_depth': 3, 'max_features': 'sqrt', 'min_samples_leaf': 4, 'min_samples_split': 2, 'n_estimators': 10} \n",
      "with GridSearchCV best score: 72.87%\n"
     ]
    }
   ],
   "source": [
    "best_params = grid_search.best_params_\n",
    "print(\n",
    "    \"Best hyperparameters:\\n\",\n",
    "    best_params,\n",
    "    \"\\nwith GridSearchCV best score: {:.2%}\".format(grid_search.best_score_),\n",
    ")"
   ]
  },
  {
   "cell_type": "markdown",
   "id": "9cd1ca22",
   "metadata": {},
   "source": [
    "Ora possiamo allenare il modello con la configurazione ottimale su tutto il train set e testarlo sul test set.\n"
   ]
  },
  {
   "cell_type": "code",
   "execution_count": 10,
   "id": "aa4b4195-a14f-4ceb-993a-f04b1f028f00",
   "metadata": {},
   "outputs": [],
   "source": [
    "# Impostiamo i parametri ottimali per il modello\n",
    "rfc.set_params(**best_params)\n",
    "\n",
    "# Alleniamo il modello sul train set\n",
    "rfc.fit(X_train, y_train)\n",
    "\n",
    "# Calcoliamo le previsioni del modello sul test set\n",
    "y_pred = rfc.predict(X_test)"
   ]
  },
  {
   "cell_type": "code",
   "execution_count": 11,
   "id": "94171784-e3b4-476d-81a8-1ad98bbee200",
   "metadata": {},
   "outputs": [
    {
     "name": "stdout",
     "output_type": "stream",
     "text": [
      "              precision    recall  f1-score   support\n",
      "\n",
      "           0       0.72      0.97      0.83      1019\n",
      "           1       0.79      0.21      0.33       481\n",
      "\n",
      "    accuracy                           0.73      1500\n",
      "   macro avg       0.75      0.59      0.58      1500\n",
      "weighted avg       0.74      0.73      0.67      1500\n",
      "\n"
     ]
    },
    {
     "data": {
      "text/plain": [
       "<Axes: >"
      ]
     },
     "execution_count": 11,
     "metadata": {},
     "output_type": "execute_result"
    },
    {
     "data": {
      "image/png": "[encoded data removed]",
      "text/plain": [
       "<Figure size 640x480 with 1 Axes>"
      ]
     },
     "metadata": {},
     "output_type": "display_data"
    }
   ],
   "source": [
    "# Infine valutiamo le previsioni\n",
    "from sklearn.metrics import classification_report\n",
    "from sklearn.metrics import confusion_matrix\n",
    "\n",
    "# Visualizziamo il classification report e la confusion matrix\n",
    "print(classification_report(y_test, y_pred))\n",
    "sns.heatmap(confusion_matrix(y_test, y_pred), annot=True, cbar=False)"
   ]
  },
  {
   "cell_type": "markdown",
   "id": "a407410a",
   "metadata": {},
   "source": [
    "### Metodo 2 - RandomizedSearchCV\n",
    "\n",
    "A volte, specie se lo spazio dei parametri è molto grande e/o il modello complesso da allenare, la ricerca esaustiva può diventare estremamente costosa. Potrebbe quindi essere più ragionevole campionare lo spazio degli iperparametri. Un possibile metodo è il campionamento casuale di `RandomizedSearchCV`.\n"
   ]
  },
  {
   "cell_type": "code",
   "execution_count": 12,
   "id": "ffe9a404",
   "metadata": {},
   "outputs": [
    {
     "name": "stdout",
     "output_type": "stream",
     "text": [
      "Number of combinations:  288\n"
     ]
    }
   ],
   "source": [
    "from sklearn.model_selection import RandomizedSearchCV\n",
    "\n",
    "# Definiamo un nuovo spazio dei parametri\n",
    "more_params = {\n",
    "    \"n_estimators\": list(range(50, 101, 10)),\n",
    "    \"max_depth\": list(range(3, 11)),\n",
    "    \"min_samples_split\": list(range(2, 4)),\n",
    "    \"min_samples_leaf\": list(range(3, 6)),\n",
    "    \"max_features\": [\"sqrt\"],\n",
    "    \"bootstrap\": [True],\n",
    "    \"criterion\": [\"gini\"],\n",
    "}\n",
    "count_combinations(more_params)"
   ]
  },
  {
   "cell_type": "code",
   "execution_count": 13,
   "id": "f3eafee2",
   "metadata": {},
   "outputs": [
    {
     "data": {
      "text/html": [
       "<style>#sk-container-id-2 {color: black;}#sk-container-id-2 pre{padding: 0;}#sk-container-id-2 div.sk-toggleable {background-color: white;}#sk-container-id-2 label.sk-toggleable__label {cursor: pointer;display: block;width: 100%;margin-bottom: 0;padding: 0.3em;box-sizing: border-box;text-align: center;}#sk-container-id-2 label.sk-toggleable__label-arrow:before {content: \"▸\";float: left;margin-right: 0.25em;color: #696969;}#sk-container-id-2 label.sk-toggleable__label-arrow:hover:before {color: black;}#sk-container-id-2 div.sk-estimator:hover label.sk-toggleable__label-arrow:before {color: black;}#sk-container-id-2 div.sk-toggleable__content {max-height: 0;max-width: 0;overflow: hidden;text-align: left;background-color: #f0f8ff;}#sk-container-id-2 div.sk-toggleable__content pre {margin: 0.2em;color: black;border-radius: 0.25em;background-color: #f0f8ff;}#sk-container-id-2 input.sk-toggleable__control:checked~div.sk-toggleable__content {max-height: 200px;max-width: 100%;overflow: auto;}#sk-container-id-2 input.sk-toggleable__control:checked~label.sk-toggleable__label-arrow:before {content: \"▾\";}#sk-container-id-2 div.sk-estimator input.sk-toggleable__control:checked~label.sk-toggleable__label {background-color: #d4ebff;}#sk-container-id-2 div.sk-label input.sk-toggleable__control:checked~label.sk-toggleable__label {background-color: #d4ebff;}#sk-container-id-2 input.sk-hidden--visually {border: 0;clip: rect(1px 1px 1px 1px);clip: rect(1px, 1px, 1px, 1px);height: 1px;margin: -1px;overflow: hidden;padding: 0;position: absolute;width: 1px;}#sk-container-id-2 div.sk-estimator {font-family: monospace;background-color: #f0f8ff;border: 1px dotted black;border-radius: 0.25em;box-sizing: border-box;margin-bottom: 0.5em;}#sk-container-id-2 div.sk-estimator:hover {background-color: #d4ebff;}#sk-container-id-2 div.sk-parallel-item::after {content: \"\";width: 100%;border-bottom: 1px solid gray;flex-grow: 1;}#sk-container-id-2 div.sk-label:hover label.sk-toggleable__label {background-color: #d4ebff;}#sk-container-id-2 div.sk-serial::before {content: \"\";position: absolute;border-left: 1px solid gray;box-sizing: border-box;top: 0;bottom: 0;left: 50%;z-index: 0;}#sk-container-id-2 div.sk-serial {display: flex;flex-direction: column;align-items: center;background-color: white;padding-right: 0.2em;padding-left: 0.2em;position: relative;}#sk-container-id-2 div.sk-item {position: relative;z-index: 1;}#sk-container-id-2 div.sk-parallel {display: flex;align-items: stretch;justify-content: center;background-color: white;position: relative;}#sk-container-id-2 div.sk-item::before, #sk-container-id-2 div.sk-parallel-item::before {content: \"\";position: absolute;border-left: 1px solid gray;box-sizing: border-box;top: 0;bottom: 0;left: 50%;z-index: -1;}#sk-container-id-2 div.sk-parallel-item {display: flex;flex-direction: column;z-index: 1;position: relative;background-color: white;}#sk-container-id-2 div.sk-parallel-item:first-child::after {align-self: flex-end;width: 50%;}#sk-container-id-2 div.sk-parallel-item:last-child::after {align-self: flex-start;width: 50%;}#sk-container-id-2 div.sk-parallel-item:only-child::after {width: 0;}#sk-container-id-2 div.sk-dashed-wrapped {border: 1px dashed gray;margin: 0 0.4em 0.5em 0.4em;box-sizing: border-box;padding-bottom: 0.4em;background-color: white;}#sk-container-id-2 div.sk-label label {font-family: monospace;font-weight: bold;display: inline-block;line-height: 1.2em;}#sk-container-id-2 div.sk-label-container {text-align: center;}#sk-container-id-2 div.sk-container {/* jupyter's `normalize.less` sets `[hidden] { display: none; }` but bootstrap.min.css set `[hidden] { display: none !important; }` so we also need the `!important` here to be able to override the default hidden behavior on the sphinx rendered scikit-learn.org. See: https://github.com/scikit-learn/scikit-learn/issues/21755 */display: inline-block !important;position: relative;}#sk-container-id-2 div.sk-text-repr-fallback {display: none;}</style><div id=\"sk-container-id-2\" class=\"sk-top-container\"><div class=\"sk-text-repr-fallback\"><pre>RandomizedSearchCV(cv=5,\n",
       "                   estimator=RandomForestClassifier(max_depth=3,\n",
       "                                                    min_samples_leaf=4,\n",
       "                                                    n_estimators=10,\n",
       "                                                    random_state=42),\n",
       "                   n_iter=50, n_jobs=-1,\n",
       "                   param_distributions={&#x27;bootstrap&#x27;: [True],\n",
       "                                        &#x27;criterion&#x27;: [&#x27;gini&#x27;],\n",
       "                                        &#x27;max_depth&#x27;: [3, 4, 5, 6, 7, 8, 9, 10],\n",
       "                                        &#x27;max_features&#x27;: [&#x27;sqrt&#x27;],\n",
       "                                        &#x27;min_samples_leaf&#x27;: [3, 4, 5],\n",
       "                                        &#x27;min_samples_split&#x27;: [2, 3],\n",
       "                                        &#x27;n_estimators&#x27;: [50, 60, 70, 80, 90,\n",
       "                                                         100]},\n",
       "                   random_state=42)</pre><b>In a Jupyter environment, please rerun this cell to show the HTML representation or trust the notebook. <br />On GitHub, the HTML representation is unable to render, please try loading this page with nbviewer.org.</b></div><div class=\"sk-container\" hidden><div class=\"sk-item sk-dashed-wrapped\"><div class=\"sk-label-container\"><div class=\"sk-label sk-toggleable\"><input class=\"sk-toggleable__control sk-hidden--visually\" id=\"sk-estimator-id-4\" type=\"checkbox\" ><label for=\"sk-estimator-id-4\" class=\"sk-toggleable__label sk-toggleable__label-arrow\">RandomizedSearchCV</label><div class=\"sk-toggleable__content\"><pre>RandomizedSearchCV(cv=5,\n",
       "                   estimator=RandomForestClassifier(max_depth=3,\n",
       "                                                    min_samples_leaf=4,\n",
       "                                                    n_estimators=10,\n",
       "                                                    random_state=42),\n",
       "                   n_iter=50, n_jobs=-1,\n",
       "                   param_distributions={&#x27;bootstrap&#x27;: [True],\n",
       "                                        &#x27;criterion&#x27;: [&#x27;gini&#x27;],\n",
       "                                        &#x27;max_depth&#x27;: [3, 4, 5, 6, 7, 8, 9, 10],\n",
       "                                        &#x27;max_features&#x27;: [&#x27;sqrt&#x27;],\n",
       "                                        &#x27;min_samples_leaf&#x27;: [3, 4, 5],\n",
       "                                        &#x27;min_samples_split&#x27;: [2, 3],\n",
       "                                        &#x27;n_estimators&#x27;: [50, 60, 70, 80, 90,\n",
       "                                                         100]},\n",
       "                   random_state=42)</pre></div></div></div><div class=\"sk-parallel\"><div class=\"sk-parallel-item\"><div class=\"sk-item\"><div class=\"sk-label-container\"><div class=\"sk-label sk-toggleable\"><input class=\"sk-toggleable__control sk-hidden--visually\" id=\"sk-estimator-id-5\" type=\"checkbox\" ><label for=\"sk-estimator-id-5\" class=\"sk-toggleable__label sk-toggleable__label-arrow\">estimator: RandomForestClassifier</label><div class=\"sk-toggleable__content\"><pre>RandomForestClassifier(max_depth=3, min_samples_leaf=4, n_estimators=10,\n",
       "                       random_state=42)</pre></div></div></div><div class=\"sk-serial\"><div class=\"sk-item\"><div class=\"sk-estimator sk-toggleable\"><input class=\"sk-toggleable__control sk-hidden--visually\" id=\"sk-estimator-id-6\" type=\"checkbox\" ><label for=\"sk-estimator-id-6\" class=\"sk-toggleable__label sk-toggleable__label-arrow\">RandomForestClassifier</label><div class=\"sk-toggleable__content\"><pre>RandomForestClassifier(max_depth=3, min_samples_leaf=4, n_estimators=10,\n",
       "                       random_state=42)</pre></div></div></div></div></div></div></div></div></div></div>"
      ],
      "text/plain": [
       "RandomizedSearchCV(cv=5,\n",
       "                   estimator=RandomForestClassifier(max_depth=3,\n",
       "                                                    min_samples_leaf=4,\n",
       "                                                    n_estimators=10,\n",
       "                                                    random_state=42),\n",
       "                   n_iter=50, n_jobs=-1,\n",
       "                   param_distributions={'bootstrap': [True],\n",
       "                                        'criterion': ['gini'],\n",
       "                                        'max_depth': [3, 4, 5, 6, 7, 8, 9, 10],\n",
       "                                        'max_features': ['sqrt'],\n",
       "                                        'min_samples_leaf': [3, 4, 5],\n",
       "                                        'min_samples_split': [2, 3],\n",
       "                                        'n_estimators': [50, 60, 70, 80, 90,\n",
       "                                                         100]},\n",
       "                   random_state=42)"
      ]
     },
     "execution_count": 13,
     "metadata": {},
     "output_type": "execute_result"
    }
   ],
   "source": [
    "# Creiamo un oggetto RandomizedSearchCV\n",
    "random_search = RandomizedSearchCV(\n",
    "    rfc, more_params, n_iter=50, cv=5, n_jobs=-1, random_state=42\n",
    ")\n",
    "\n",
    "# Eseguiamo la random search\n",
    "random_search.fit(X_train, y_train)"
   ]
  },
  {
   "cell_type": "markdown",
   "id": "2bf490ed",
   "metadata": {},
   "source": [
    "Come prima estraiamo la combinazione ottimale, fittiamo sul train e calcoliamo lo score.\n"
   ]
  },
  {
   "cell_type": "code",
   "execution_count": 14,
   "id": "108e8ec6",
   "metadata": {},
   "outputs": [
    {
     "name": "stdout",
     "output_type": "stream",
     "text": [
      "Best hyperparameters:\n",
      " {'n_estimators': 100, 'min_samples_split': 3, 'min_samples_leaf': 3, 'max_features': 'sqrt', 'max_depth': 7, 'criterion': 'gini', 'bootstrap': True} \n",
      "with RandomizedSearchCV best score: 75.93%\n"
     ]
    }
   ],
   "source": [
    "# Visualizziamo i parametri ottimali\n",
    "best_params = random_search.best_params_\n",
    "print(\n",
    "    \"Best hyperparameters:\\n\",\n",
    "    best_params,\n",
    "    \"\\nwith RandomizedSearchCV best score: {:.2%}\".format(random_search.best_score_),\n",
    ")"
   ]
  },
  {
   "cell_type": "code",
   "execution_count": 15,
   "id": "5b84be5c",
   "metadata": {},
   "outputs": [
    {
     "name": "stdout",
     "output_type": "stream",
     "text": [
      "              precision    recall  f1-score   support\n",
      "\n",
      "           0       0.76      0.92      0.83      1019\n",
      "           1       0.70      0.38      0.49       481\n",
      "\n",
      "    accuracy                           0.75      1500\n",
      "   macro avg       0.73      0.65      0.66      1500\n",
      "weighted avg       0.74      0.75      0.72      1500\n",
      "\n"
     ]
    },
    {
     "data": {
      "image/png": "[encoded data removed]",
      "text/plain": [
       "<Figure size 640x480 with 1 Axes>"
      ]
     },
     "metadata": {},
     "output_type": "display_data"
    }
   ],
   "source": [
    "# Impostiamo i parametri ottimali per il modello\n",
    "rfc.set_params(**best_params)\n",
    "\n",
    "# Alleniamo il modello sul train set\n",
    "rfc.fit(X_train, y_train)\n",
    "\n",
    "# Calcoliamo le previsioni del modello sul test set\n",
    "y_pred = rfc.predict(X_test)\n",
    "\n",
    "# Infine valutiamo le previsioni\n",
    "from sklearn.metrics import classification_report\n",
    "from sklearn.metrics import confusion_matrix\n",
    "\n",
    "sns.heatmap(confusion_matrix(y_test, y_pred), annot=True, cbar=False)\n",
    "print(classification_report(y_test, y_pred))"
   ]
  },
  {
   "cell_type": "markdown",
   "id": "c2e61fad",
   "metadata": {},
   "source": [
    "### Metodo 3 - Ray\n",
    "\n",
    "[Ray](https://docs.ray.io/en/latest/tune/index.html) è una libreria che offre diverse funzionalità utili per la creazione di modelli di ML, come gestione del training distribuito, logging e ottimizzazione degli iperparametri.\n",
    "\n",
    "Nel nostro caso utilizzeremo l'algoritmo offerto dalla libreria [Hyperopt](http://hyperopt.github.io/hyperopt/), che utilizza un metodo chiamato [Tree Parzen Estimator](https://proceedings.neurips.cc/paper_files/paper/2011/file/86e8f7ab32cfd12577bc2619bc635690-Paper.pdf).\n",
    "\n",
    "Per prima cosa dobbiamo preparare lo spazio dei parametri da utilizzare. A differenza dei metodi precedenti, in questo caso i range delle singole variabili vanno specificati usando gli [strumenti offerti dalla libreria](https://docs.ray.io/en/latest/tune/api/search_space.html).\n"
   ]
  },
  {
   "cell_type": "code",
   "execution_count": 16,
   "id": "58815fb7",
   "metadata": {},
   "outputs": [],
   "source": [
    "from ray import tune, train\n",
    "\n",
    "# Definiamo un nuovo search space utilizzando le distribuzioni di probabilità\n",
    "search_space = {\n",
    "    \"n_estimators\": tune.lograndint(10, 1000),\n",
    "    \"max_depth\": tune.randint(1, 10),\n",
    "    \"min_samples_split\": tune.randint(2, 10),\n",
    "    \"min_samples_leaf\": tune.randint(1, 10),\n",
    "    \"max_features\": tune.choice([\"sqrt\", \"log2\"]),\n",
    "    \"bootstrap\": tune.choice([True, False]),\n",
    "    \"criterion\": tune.choice([\"gini\", \"entropy\"]),\n",
    "}"
   ]
  },
  {
   "cell_type": "markdown",
   "id": "de7b4161",
   "metadata": {},
   "source": [
    "Ora costruiamo la funzione che Ray andrà ad ottimizzare.\n"
   ]
  },
  {
   "cell_type": "code",
   "execution_count": 17,
   "id": "7f9d2f81",
   "metadata": {},
   "outputs": [],
   "source": [
    "# Definiamo la funzione obiettivo\n",
    "def objective(config):\n",
    "    # Creiamo un modello con i parametri specificati e eseguimo una cross validation\n",
    "    score = cross_val_score(RandomForestClassifier(**config), X_train, y_train, cv=5)\n",
    "    # Ritorniamo la media delle accuracy\n",
    "    train.report({\"score\": score.mean()})"
   ]
  },
  {
   "cell_type": "markdown",
   "id": "7a2524f5",
   "metadata": {},
   "source": [
    "Ora possiamo ottimizzare questa funzione (quindi massimizzare lo score rispetto agli iperparametri) utilizzando la classe `Tuner`.\n"
   ]
  },
  {
   "cell_type": "code",
   "execution_count": 18,
   "id": "3de73115",
   "metadata": {},
   "outputs": [
    {
     "data": {
      "text/html": [
       "<div class=\"tuneStatus\">\n",
       "  <div style=\"display: flex;flex-direction: row\">\n",
       "    <div style=\"display: flex;flex-direction: column;\">\n",
       "      <h3>Tune Status</h3>\n",
       "      <table>\n",
       "<tbody>\n",
       "<tr><td>Current time:</td><td>2023-10-22 19:41:38</td></tr>\n",
       "<tr><td>Running for: </td><td>00:10:36.37        </td></tr>\n",
       "<tr><td>Memory:      </td><td>2.7/4.7 GiB        </td></tr>\n",
       "</tbody>\n",
       "</table>\n",
       "    </div>\n",
       "    <div class=\"vDivider\"></div>\n",
       "    <div class=\"systemInfo\">\n",
       "      <h3>System Info</h3>\n",
       "      Using FIFO scheduling algorithm.<br>Logical resource usage: 1.0/1 CPUs, 0/0 GPUs\n",
       "    </div>\n",
       "    \n",
       "  </div>\n",
       "  <div class=\"hDivider\"></div>\n",
       "  <div class=\"trialStatus\">\n",
       "    <h3>Trial Status</h3>\n",
       "    <table>\n",
       "<thead>\n",
       "<tr><th>Trial name        </th><th>status    </th><th>loc              </th><th>bootstrap  </th><th>criterion  </th><th style=\"text-align: right;\">  max_depth</th><th>max_features  </th><th style=\"text-align: right;\">  min_samples_leaf</th><th style=\"text-align: right;\">  min_samples_split</th><th style=\"text-align: right;\">  n_estimators</th><th style=\"text-align: right;\">  iter</th><th style=\"text-align: right;\">  total time (s)</th><th style=\"text-align: right;\">   score</th></tr>\n",
       "</thead>\n",
       "<tbody>\n",
       "<tr><td>objective_39b7b478</td><td>TERMINATED</td><td>172.18.13.4:32551</td><td>True       </td><td>entropy    </td><td style=\"text-align: right;\">          3</td><td>log2          </td><td style=\"text-align: right;\">                 2</td><td style=\"text-align: right;\">                  8</td><td style=\"text-align: right;\">            81</td><td style=\"text-align: right;\">     1</td><td style=\"text-align: right;\">        2.75451 </td><td style=\"text-align: right;\">0.727333</td></tr>\n",
       "<tr><td>objective_d4432dbb</td><td>TERMINATED</td><td>172.18.13.4:32551</td><td>False      </td><td>entropy    </td><td style=\"text-align: right;\">          9</td><td>log2          </td><td style=\"text-align: right;\">                 8</td><td style=\"text-align: right;\">                  7</td><td style=\"text-align: right;\">            66</td><td style=\"text-align: right;\">     1</td><td style=\"text-align: right;\">        8.44013 </td><td style=\"text-align: right;\">0.757556</td></tr>\n",
       "<tr><td>objective_ef328f99</td><td>TERMINATED</td><td>172.18.13.4:32551</td><td>True       </td><td>entropy    </td><td style=\"text-align: right;\">          5</td><td>sqrt          </td><td style=\"text-align: right;\">                 3</td><td style=\"text-align: right;\">                  8</td><td style=\"text-align: right;\">           473</td><td style=\"text-align: right;\">     1</td><td style=\"text-align: right;\">       26.4287  </td><td style=\"text-align: right;\">0.748519</td></tr>\n",
       "<tr><td>objective_65e79f4e</td><td>TERMINATED</td><td>172.18.13.4:32551</td><td>True       </td><td>entropy    </td><td style=\"text-align: right;\">          2</td><td>sqrt          </td><td style=\"text-align: right;\">                 2</td><td style=\"text-align: right;\">                  8</td><td style=\"text-align: right;\">            78</td><td style=\"text-align: right;\">     1</td><td style=\"text-align: right;\">        2.02875 </td><td style=\"text-align: right;\">0.702889</td></tr>\n",
       "<tr><td>objective_5eaab6ad</td><td>TERMINATED</td><td>172.18.13.4:32551</td><td>True       </td><td>gini       </td><td style=\"text-align: right;\">          1</td><td>log2          </td><td style=\"text-align: right;\">                 6</td><td style=\"text-align: right;\">                  3</td><td style=\"text-align: right;\">           421</td><td style=\"text-align: right;\">     1</td><td style=\"text-align: right;\">        7.28538 </td><td style=\"text-align: right;\">0.665259</td></tr>\n",
       "<tr><td>objective_b561b5fb</td><td>TERMINATED</td><td>172.18.13.4:32551</td><td>False      </td><td>entropy    </td><td style=\"text-align: right;\">          9</td><td>log2          </td><td style=\"text-align: right;\">                 5</td><td style=\"text-align: right;\">                  5</td><td style=\"text-align: right;\">           397</td><td style=\"text-align: right;\">     1</td><td style=\"text-align: right;\">       44.1946  </td><td style=\"text-align: right;\">0.757333</td></tr>\n",
       "<tr><td>objective_eb1731de</td><td>TERMINATED</td><td>172.18.13.4:32551</td><td>False      </td><td>entropy    </td><td style=\"text-align: right;\">          5</td><td>log2          </td><td style=\"text-align: right;\">                 2</td><td style=\"text-align: right;\">                  9</td><td style=\"text-align: right;\">           294</td><td style=\"text-align: right;\">     1</td><td style=\"text-align: right;\">       19.3941  </td><td style=\"text-align: right;\">0.748593</td></tr>\n",
       "<tr><td>objective_aac0d407</td><td>TERMINATED</td><td>172.18.13.4:32551</td><td>True       </td><td>gini       </td><td style=\"text-align: right;\">          6</td><td>sqrt          </td><td style=\"text-align: right;\">                 4</td><td style=\"text-align: right;\">                  7</td><td style=\"text-align: right;\">           171</td><td style=\"text-align: right;\">     1</td><td style=\"text-align: right;\">        8.36338 </td><td style=\"text-align: right;\">0.754741</td></tr>\n",
       "<tr><td>objective_f550cff3</td><td>TERMINATED</td><td>172.18.13.4:32551</td><td>True       </td><td>entropy    </td><td style=\"text-align: right;\">          8</td><td>log2          </td><td style=\"text-align: right;\">                 5</td><td style=\"text-align: right;\">                  8</td><td style=\"text-align: right;\">           122</td><td style=\"text-align: right;\">     1</td><td style=\"text-align: right;\">        8.64712 </td><td style=\"text-align: right;\">0.758889</td></tr>\n",
       "<tr><td>objective_c55d2759</td><td>TERMINATED</td><td>172.18.13.4:32551</td><td>True       </td><td>gini       </td><td style=\"text-align: right;\">          6</td><td>sqrt          </td><td style=\"text-align: right;\">                 8</td><td style=\"text-align: right;\">                  7</td><td style=\"text-align: right;\">           814</td><td style=\"text-align: right;\">     1</td><td style=\"text-align: right;\">       39.1206  </td><td style=\"text-align: right;\">0.754   </td></tr>\n",
       "<tr><td>objective_fb976815</td><td>TERMINATED</td><td>172.18.13.4:32551</td><td>False      </td><td>gini       </td><td style=\"text-align: right;\">          2</td><td>sqrt          </td><td style=\"text-align: right;\">                 7</td><td style=\"text-align: right;\">                  8</td><td style=\"text-align: right;\">            10</td><td style=\"text-align: right;\">     1</td><td style=\"text-align: right;\">        0.298868</td><td style=\"text-align: right;\">0.708963</td></tr>\n",
       "<tr><td>objective_62abe9b0</td><td>TERMINATED</td><td>172.18.13.4:32551</td><td>False      </td><td>entropy    </td><td style=\"text-align: right;\">          4</td><td>sqrt          </td><td style=\"text-align: right;\">                 5</td><td style=\"text-align: right;\">                  5</td><td style=\"text-align: right;\">           573</td><td style=\"text-align: right;\">     1</td><td style=\"text-align: right;\">       31.6849  </td><td style=\"text-align: right;\">0.742148</td></tr>\n",
       "<tr><td>objective_0737002f</td><td>TERMINATED</td><td>172.18.13.4:32551</td><td>False      </td><td>gini       </td><td style=\"text-align: right;\">          5</td><td>sqrt          </td><td style=\"text-align: right;\">                 9</td><td style=\"text-align: right;\">                  4</td><td style=\"text-align: right;\">           579</td><td style=\"text-align: right;\">     1</td><td style=\"text-align: right;\">       32.9491  </td><td style=\"text-align: right;\">0.748148</td></tr>\n",
       "<tr><td>objective_a086e33c</td><td>TERMINATED</td><td>172.18.13.4:32551</td><td>False      </td><td>entropy    </td><td style=\"text-align: right;\">          7</td><td>sqrt          </td><td style=\"text-align: right;\">                 8</td><td style=\"text-align: right;\">                  2</td><td style=\"text-align: right;\">           113</td><td style=\"text-align: right;\">     1</td><td style=\"text-align: right;\">       10.293   </td><td style=\"text-align: right;\">0.756741</td></tr>\n",
       "<tr><td>objective_33593577</td><td>TERMINATED</td><td>172.18.13.4:32551</td><td>True       </td><td>entropy    </td><td style=\"text-align: right;\">          6</td><td>log2          </td><td style=\"text-align: right;\">                 3</td><td style=\"text-align: right;\">                  8</td><td style=\"text-align: right;\">           188</td><td style=\"text-align: right;\">     1</td><td style=\"text-align: right;\">       10.7322  </td><td style=\"text-align: right;\">0.754593</td></tr>\n",
       "<tr><td>objective_1746b8b1</td><td>TERMINATED</td><td>172.18.13.4:32551</td><td>False      </td><td>gini       </td><td style=\"text-align: right;\">          2</td><td>sqrt          </td><td style=\"text-align: right;\">                 4</td><td style=\"text-align: right;\">                  6</td><td style=\"text-align: right;\">           147</td><td style=\"text-align: right;\">     1</td><td style=\"text-align: right;\">        4.13883 </td><td style=\"text-align: right;\">0.708667</td></tr>\n",
       "<tr><td>objective_e2e55f28</td><td>TERMINATED</td><td>172.18.13.4:32551</td><td>False      </td><td>entropy    </td><td style=\"text-align: right;\">          6</td><td>sqrt          </td><td style=\"text-align: right;\">                 3</td><td style=\"text-align: right;\">                  3</td><td style=\"text-align: right;\">           108</td><td style=\"text-align: right;\">     1</td><td style=\"text-align: right;\">        9.56841 </td><td style=\"text-align: right;\">0.754667</td></tr>\n",
       "<tr><td>objective_262a09da</td><td>TERMINATED</td><td>172.18.13.4:32551</td><td>True       </td><td>gini       </td><td style=\"text-align: right;\">          6</td><td>sqrt          </td><td style=\"text-align: right;\">                 5</td><td style=\"text-align: right;\">                  7</td><td style=\"text-align: right;\">           242</td><td style=\"text-align: right;\">     1</td><td style=\"text-align: right;\">       11.7788  </td><td style=\"text-align: right;\">0.755852</td></tr>\n",
       "<tr><td>objective_01483761</td><td>TERMINATED</td><td>172.18.13.4:32551</td><td>True       </td><td>entropy    </td><td style=\"text-align: right;\">          6</td><td>log2          </td><td style=\"text-align: right;\">                 7</td><td style=\"text-align: right;\">                  7</td><td style=\"text-align: right;\">            38</td><td style=\"text-align: right;\">     1</td><td style=\"text-align: right;\">        2.169   </td><td style=\"text-align: right;\">0.752   </td></tr>\n",
       "<tr><td>objective_37adbdb2</td><td>TERMINATED</td><td>172.18.13.4:32551</td><td>True       </td><td>entropy    </td><td style=\"text-align: right;\">          6</td><td>sqrt          </td><td style=\"text-align: right;\">                 8</td><td style=\"text-align: right;\">                  8</td><td style=\"text-align: right;\">            62</td><td style=\"text-align: right;\">     1</td><td style=\"text-align: right;\">        3.59689 </td><td style=\"text-align: right;\">0.752296</td></tr>\n",
       "<tr><td>objective_52396491</td><td>TERMINATED</td><td>172.18.13.4:32551</td><td>False      </td><td>entropy    </td><td style=\"text-align: right;\">          9</td><td>log2          </td><td style=\"text-align: right;\">                 6</td><td style=\"text-align: right;\">                  6</td><td style=\"text-align: right;\">            20</td><td style=\"text-align: right;\">     1</td><td style=\"text-align: right;\">        2.19823 </td><td style=\"text-align: right;\">0.757926</td></tr>\n",
       "<tr><td>objective_fb9ff23d</td><td>TERMINATED</td><td>172.18.13.4:32551</td><td>False      </td><td>entropy    </td><td style=\"text-align: right;\">          8</td><td>log2          </td><td style=\"text-align: right;\">                 9</td><td style=\"text-align: right;\">                  9</td><td style=\"text-align: right;\">            44</td><td style=\"text-align: right;\">     1</td><td style=\"text-align: right;\">        4.30745 </td><td style=\"text-align: right;\">0.757333</td></tr>\n",
       "<tr><td>objective_cd00e998</td><td>TERMINATED</td><td>172.18.13.4:32551</td><td>True       </td><td>entropy    </td><td style=\"text-align: right;\">          8</td><td>log2          </td><td style=\"text-align: right;\">                 6</td><td style=\"text-align: right;\">                  6</td><td style=\"text-align: right;\">            17</td><td style=\"text-align: right;\">     1</td><td style=\"text-align: right;\">        1.20722 </td><td style=\"text-align: right;\">0.753556</td></tr>\n",
       "<tr><td>objective_ca225c0b</td><td>TERMINATED</td><td>172.18.13.4:32551</td><td>False      </td><td>entropy    </td><td style=\"text-align: right;\">          8</td><td>log2          </td><td style=\"text-align: right;\">                 6</td><td style=\"text-align: right;\">                  6</td><td style=\"text-align: right;\">            22</td><td style=\"text-align: right;\">     1</td><td style=\"text-align: right;\">        2.29398 </td><td style=\"text-align: right;\">0.756074</td></tr>\n",
       "<tr><td>objective_cf2641ee</td><td>TERMINATED</td><td>172.18.13.4:32551</td><td>True       </td><td>entropy    </td><td style=\"text-align: right;\">          9</td><td>log2          </td><td style=\"text-align: right;\">                 4</td><td style=\"text-align: right;\">                  5</td><td style=\"text-align: right;\">            11</td><td style=\"text-align: right;\">     1</td><td style=\"text-align: right;\">        1.01288 </td><td style=\"text-align: right;\">0.755333</td></tr>\n",
       "<tr><td>objective_727c0fc1</td><td>TERMINATED</td><td>172.18.13.4:32551</td><td>False      </td><td>entropy    </td><td style=\"text-align: right;\">          7</td><td>log2          </td><td style=\"text-align: right;\">                 7</td><td style=\"text-align: right;\">                  4</td><td style=\"text-align: right;\">            26</td><td style=\"text-align: right;\">     1</td><td style=\"text-align: right;\">        2.40192 </td><td style=\"text-align: right;\">0.75637 </td></tr>\n",
       "<tr><td>objective_a11a8b08</td><td>TERMINATED</td><td>172.18.13.4:32551</td><td>False      </td><td>entropy    </td><td style=\"text-align: right;\">          8</td><td>log2          </td><td style=\"text-align: right;\">                 6</td><td style=\"text-align: right;\">                  9</td><td style=\"text-align: right;\">            38</td><td style=\"text-align: right;\">     1</td><td style=\"text-align: right;\">        3.75954 </td><td style=\"text-align: right;\">0.75637 </td></tr>\n",
       "<tr><td>objective_b5804b20</td><td>TERMINATED</td><td>172.18.13.4:32551</td><td>True       </td><td>entropy    </td><td style=\"text-align: right;\">          7</td><td>log2          </td><td style=\"text-align: right;\">                 4</td><td style=\"text-align: right;\">                  6</td><td style=\"text-align: right;\">            13</td><td style=\"text-align: right;\">     1</td><td style=\"text-align: right;\">        0.903981</td><td style=\"text-align: right;\">0.754741</td></tr>\n",
       "<tr><td>objective_967e2b21</td><td>TERMINATED</td><td>172.18.13.4:32551</td><td>True       </td><td>entropy    </td><td style=\"text-align: right;\">          9</td><td>log2          </td><td style=\"text-align: right;\">                 1</td><td style=\"text-align: right;\">                  4</td><td style=\"text-align: right;\">            54</td><td style=\"text-align: right;\">     1</td><td style=\"text-align: right;\">        4.37427 </td><td style=\"text-align: right;\">0.756444</td></tr>\n",
       "<tr><td>objective_25acf7f3</td><td>TERMINATED</td><td>172.18.13.4:32551</td><td>False      </td><td>entropy    </td><td style=\"text-align: right;\">          4</td><td>log2          </td><td style=\"text-align: right;\">                 5</td><td style=\"text-align: right;\">                  9</td><td style=\"text-align: right;\">            30</td><td style=\"text-align: right;\">     1</td><td style=\"text-align: right;\">        1.74148 </td><td style=\"text-align: right;\">0.738444</td></tr>\n",
       "<tr><td>objective_154038fd</td><td>TERMINATED</td><td>172.18.13.4:32551</td><td>True       </td><td>entropy    </td><td style=\"text-align: right;\">          9</td><td>log2          </td><td style=\"text-align: right;\">                 7</td><td style=\"text-align: right;\">                  7</td><td style=\"text-align: right;\">            17</td><td style=\"text-align: right;\">     1</td><td style=\"text-align: right;\">        1.38012 </td><td style=\"text-align: right;\">0.756444</td></tr>\n",
       "<tr><td>objective_423eb837</td><td>TERMINATED</td><td>172.18.13.4:32551</td><td>False      </td><td>entropy    </td><td style=\"text-align: right;\">          7</td><td>log2          </td><td style=\"text-align: right;\">                 6</td><td style=\"text-align: right;\">                  6</td><td style=\"text-align: right;\">            85</td><td style=\"text-align: right;\">     1</td><td style=\"text-align: right;\">        7.53119 </td><td style=\"text-align: right;\">0.754963</td></tr>\n",
       "<tr><td>objective_ead9ff35</td><td>TERMINATED</td><td>172.18.13.4:32551</td><td>True       </td><td>entropy    </td><td style=\"text-align: right;\">          8</td><td>log2          </td><td style=\"text-align: right;\">                 4</td><td style=\"text-align: right;\">                  5</td><td style=\"text-align: right;\">           136</td><td style=\"text-align: right;\">     1</td><td style=\"text-align: right;\">       10.4907  </td><td style=\"text-align: right;\">0.759259</td></tr>\n",
       "<tr><td>objective_5be8d801</td><td>TERMINATED</td><td>172.18.13.4:32551</td><td>True       </td><td>entropy    </td><td style=\"text-align: right;\">          4</td><td>log2          </td><td style=\"text-align: right;\">                 3</td><td style=\"text-align: right;\">                  8</td><td style=\"text-align: right;\">           275</td><td style=\"text-align: right;\">     1</td><td style=\"text-align: right;\">       11.6854  </td><td style=\"text-align: right;\">0.741333</td></tr>\n",
       "<tr><td>objective_d17d948f</td><td>TERMINATED</td><td>172.18.13.4:32551</td><td>True       </td><td>entropy    </td><td style=\"text-align: right;\">          8</td><td>log2          </td><td style=\"text-align: right;\">                 1</td><td style=\"text-align: right;\">                  3</td><td style=\"text-align: right;\">           142</td><td style=\"text-align: right;\">     1</td><td style=\"text-align: right;\">       11.0378  </td><td style=\"text-align: right;\">0.75963 </td></tr>\n",
       "<tr><td>objective_45668b99</td><td>TERMINATED</td><td>172.18.13.4:32551</td><td>True       </td><td>gini       </td><td style=\"text-align: right;\">          3</td><td>log2          </td><td style=\"text-align: right;\">                 2</td><td style=\"text-align: right;\">                  5</td><td style=\"text-align: right;\">           348</td><td style=\"text-align: right;\">     1</td><td style=\"text-align: right;\">       11.987   </td><td style=\"text-align: right;\">0.727111</td></tr>\n",
       "<tr><td>objective_4b19c399</td><td>TERMINATED</td><td>172.18.13.4:32551</td><td>True       </td><td>entropy    </td><td style=\"text-align: right;\">          7</td><td>log2          </td><td style=\"text-align: right;\">                 1</td><td style=\"text-align: right;\">                  2</td><td style=\"text-align: right;\">            80</td><td style=\"text-align: right;\">     1</td><td style=\"text-align: right;\">        5.55852 </td><td style=\"text-align: right;\">0.756889</td></tr>\n",
       "<tr><td>objective_bf060252</td><td>TERMINATED</td><td>172.18.13.4:32551</td><td>True       </td><td>entropy    </td><td style=\"text-align: right;\">          8</td><td>log2          </td><td style=\"text-align: right;\">                 2</td><td style=\"text-align: right;\">                  3</td><td style=\"text-align: right;\">           196</td><td style=\"text-align: right;\">     1</td><td style=\"text-align: right;\">       15.1314  </td><td style=\"text-align: right;\">0.759407</td></tr>\n",
       "<tr><td>objective_dca80a57</td><td>TERMINATED</td><td>172.18.13.4:32551</td><td>True       </td><td>gini       </td><td style=\"text-align: right;\">          5</td><td>log2          </td><td style=\"text-align: right;\">                 3</td><td style=\"text-align: right;\">                  3</td><td style=\"text-align: right;\">           996</td><td style=\"text-align: right;\">     1</td><td style=\"text-align: right;\">       44.2     </td><td style=\"text-align: right;\">0.74837 </td></tr>\n",
       "<tr><td>objective_0fe30045</td><td>TERMINATED</td><td>172.18.13.4:32551</td><td>True       </td><td>entropy    </td><td style=\"text-align: right;\">          9</td><td>log2          </td><td style=\"text-align: right;\">                 1</td><td style=\"text-align: right;\">                  2</td><td style=\"text-align: right;\">           212</td><td style=\"text-align: right;\">     1</td><td style=\"text-align: right;\">       17.3236  </td><td style=\"text-align: right;\">0.757852</td></tr>\n",
       "<tr><td>objective_77507937</td><td>TERMINATED</td><td>172.18.13.4:32551</td><td>True       </td><td>entropy    </td><td style=\"text-align: right;\">          7</td><td>log2          </td><td style=\"text-align: right;\">                 2</td><td style=\"text-align: right;\">                  3</td><td style=\"text-align: right;\">           482</td><td style=\"text-align: right;\">     1</td><td style=\"text-align: right;\">       32.7925  </td><td style=\"text-align: right;\">0.758815</td></tr>\n",
       "<tr><td>objective_4f794dae</td><td>TERMINATED</td><td>172.18.13.4:32551</td><td>True       </td><td>gini       </td><td style=\"text-align: right;\">          8</td><td>log2          </td><td style=\"text-align: right;\">                 1</td><td style=\"text-align: right;\">                  4</td><td style=\"text-align: right;\">           340</td><td style=\"text-align: right;\">     1</td><td style=\"text-align: right;\">       21.403   </td><td style=\"text-align: right;\">0.759556</td></tr>\n",
       "<tr><td>objective_926a2b6e</td><td>TERMINATED</td><td>172.18.13.4:32551</td><td>True       </td><td>entropy    </td><td style=\"text-align: right;\">          1</td><td>log2          </td><td style=\"text-align: right;\">                 2</td><td style=\"text-align: right;\">                  3</td><td style=\"text-align: right;\">           769</td><td style=\"text-align: right;\">     1</td><td style=\"text-align: right;\">       14.88    </td><td style=\"text-align: right;\">0.665259</td></tr>\n",
       "<tr><td>objective_aa79f69b</td><td>TERMINATED</td><td>172.18.13.4:32551</td><td>True       </td><td>gini       </td><td style=\"text-align: right;\">          3</td><td>log2          </td><td style=\"text-align: right;\">                 1</td><td style=\"text-align: right;\">                  4</td><td style=\"text-align: right;\">           327</td><td style=\"text-align: right;\">     1</td><td style=\"text-align: right;\">       10.357   </td><td style=\"text-align: right;\">0.728593</td></tr>\n",
       "<tr><td>objective_40a2f8d2</td><td>TERMINATED</td><td>172.18.13.4:32551</td><td>True       </td><td>gini       </td><td style=\"text-align: right;\">          4</td><td>log2          </td><td style=\"text-align: right;\">                 1</td><td style=\"text-align: right;\">                  4</td><td style=\"text-align: right;\">           154</td><td style=\"text-align: right;\">     1</td><td style=\"text-align: right;\">        5.83955 </td><td style=\"text-align: right;\">0.742741</td></tr>\n",
       "<tr><td>objective_92e55641</td><td>TERMINATED</td><td>172.18.13.4:32551</td><td>True       </td><td>gini       </td><td style=\"text-align: right;\">          5</td><td>sqrt          </td><td style=\"text-align: right;\">                 3</td><td style=\"text-align: right;\">                  2</td><td style=\"text-align: right;\">           728</td><td style=\"text-align: right;\">     1</td><td style=\"text-align: right;\">       32.3601  </td><td style=\"text-align: right;\">0.750444</td></tr>\n",
       "<tr><td>objective_856a4ec1</td><td>TERMINATED</td><td>172.18.13.4:32551</td><td>True       </td><td>gini       </td><td style=\"text-align: right;\">          9</td><td>log2          </td><td style=\"text-align: right;\">                 1</td><td style=\"text-align: right;\">                  4</td><td style=\"text-align: right;\">           446</td><td style=\"text-align: right;\">     1</td><td style=\"text-align: right;\">       32.4431  </td><td style=\"text-align: right;\">0.759111</td></tr>\n",
       "<tr><td>objective_7594ceb3</td><td>TERMINATED</td><td>172.18.13.4:32551</td><td>True       </td><td>gini       </td><td style=\"text-align: right;\">          7</td><td>sqrt          </td><td style=\"text-align: right;\">                 2</td><td style=\"text-align: right;\">                  3</td><td style=\"text-align: right;\">           236</td><td style=\"text-align: right;\">     1</td><td style=\"text-align: right;\">       13.5972  </td><td style=\"text-align: right;\">0.756667</td></tr>\n",
       "<tr><td>objective_b8ff80f6</td><td>TERMINATED</td><td>172.18.13.4:32551</td><td>True       </td><td>gini       </td><td style=\"text-align: right;\">          8</td><td>log2          </td><td style=\"text-align: right;\">                 3</td><td style=\"text-align: right;\">                  2</td><td style=\"text-align: right;\">            94</td><td style=\"text-align: right;\">     1</td><td style=\"text-align: right;\">        6.26518 </td><td style=\"text-align: right;\">0.759926</td></tr>\n",
       "<tr><td>objective_528a3c6a</td><td>TERMINATED</td><td>172.18.13.4:32551</td><td>True       </td><td>gini       </td><td style=\"text-align: right;\">          2</td><td>sqrt          </td><td style=\"text-align: right;\">                 1</td><td style=\"text-align: right;\">                  4</td><td style=\"text-align: right;\">           644</td><td style=\"text-align: right;\">     1</td><td style=\"text-align: right;\">       16.414   </td><td style=\"text-align: right;\">0.708222</td></tr>\n",
       "</tbody>\n",
       "</table>\n",
       "  </div>\n",
       "</div>\n",
       "<style>\n",
       ".tuneStatus {\n",
       "  color: var(--jp-ui-font-color1);\n",
       "}\n",
       ".tuneStatus .systemInfo {\n",
       "  display: flex;\n",
       "  flex-direction: column;\n",
       "}\n",
       ".tuneStatus td {\n",
       "  white-space: nowrap;\n",
       "}\n",
       ".tuneStatus .trialStatus {\n",
       "  display: flex;\n",
       "  flex-direction: column;\n",
       "}\n",
       ".tuneStatus h3 {\n",
       "  font-weight: bold;\n",
       "}\n",
       ".tuneStatus .hDivider {\n",
       "  border-bottom-width: var(--jp-border-width);\n",
       "  border-bottom-color: var(--jp-border-color0);\n",
       "  border-bottom-style: solid;\n",
       "}\n",
       ".tuneStatus .vDivider {\n",
       "  border-left-width: var(--jp-border-width);\n",
       "  border-left-color: var(--jp-border-color0);\n",
       "  border-left-style: solid;\n",
       "  margin: 0.5em 1em 0.5em 1em;\n",
       "}\n",
       "</style>\n"
      ],
      "text/plain": [
       "<IPython.core.display.HTML object>"
      ]
     },
     "metadata": {},
     "output_type": "display_data"
    },
    {
     "name": "stderr",
     "output_type": "stream",
     "text": [
      "\u001b[2m\u001b[33m(raylet)\u001b[0m [2023-10-22 19:31:09,663 E 32462 32477] (raylet) file_system_monitor.cc:111: /tmp/ray/session_2023-10-22_19-30-57_271318_32332 is over 95% full, available space: 4378357760; capacity: 132833185792. Object creation will fail if spilling is required.\n",
      "\u001b[2m\u001b[33m(raylet)\u001b[0m [2023-10-22 19:31:19,672 E 32462 32477] (raylet) file_system_monitor.cc:111: /tmp/ray/session_2023-10-22_19-30-57_271318_32332 is over 95% full, available space: 4378296320; capacity: 132833185792. Object creation will fail if spilling is required.\n",
      "\u001b[2m\u001b[33m(raylet)\u001b[0m [2023-10-22 19:31:29,682 E 32462 32477] (raylet) file_system_monitor.cc:111: /tmp/ray/session_2023-10-22_19-30-57_271318_32332 is over 95% full, available space: 4378279936; capacity: 132833185792. Object creation will fail if spilling is required.\n",
      "\u001b[2m\u001b[33m(raylet)\u001b[0m [2023-10-22 19:31:39,693 E 32462 32477] (raylet) file_system_monitor.cc:111: /tmp/ray/session_2023-10-22_19-30-57_271318_32332 is over 95% full, available space: 4378275840; capacity: 132833185792. Object creation will fail if spilling is required.\n",
      "\u001b[2m\u001b[33m(raylet)\u001b[0m [2023-10-22 19:31:49,701 E 32462 32477] (raylet) file_system_monitor.cc:111: /tmp/ray/session_2023-10-22_19-30-57_271318_32332 is over 95% full, available space: 4378222592; capacity: 132833185792. Object creation will fail if spilling is required.\n",
      "\u001b[2m\u001b[33m(raylet)\u001b[0m [2023-10-22 19:31:59,708 E 32462 32477] (raylet) file_system_monitor.cc:111: /tmp/ray/session_2023-10-22_19-30-57_271318_32332 is over 95% full, available space: 4378161152; capacity: 132833185792. Object creation will fail if spilling is required.\n",
      "\u001b[2m\u001b[33m(raylet)\u001b[0m [2023-10-22 19:32:09,718 E 32462 32477] (raylet) file_system_monitor.cc:111: /tmp/ray/session_2023-10-22_19-30-57_271318_32332 is over 95% full, available space: 4378116096; capacity: 132833185792. Object creation will fail if spilling is required.\n",
      "\u001b[2m\u001b[33m(raylet)\u001b[0m [2023-10-22 19:32:19,726 E 32462 32477] (raylet) file_system_monitor.cc:111: /tmp/ray/session_2023-10-22_19-30-57_271318_32332 is over 95% full, available space: 4378116096; capacity: 132833185792. Object creation will fail if spilling is required.\n",
      "\u001b[2m\u001b[33m(raylet)\u001b[0m [2023-10-22 19:32:29,734 E 32462 32477] (raylet) file_system_monitor.cc:111: /tmp/ray/session_2023-10-22_19-30-57_271318_32332 is over 95% full, available space: 4378112000; capacity: 132833185792. Object creation will fail if spilling is required.\n",
      "\u001b[2m\u001b[33m(raylet)\u001b[0m [2023-10-22 19:32:39,742 E 32462 32477] (raylet) file_system_monitor.cc:111: /tmp/ray/session_2023-10-22_19-30-57_271318_32332 is over 95% full, available space: 4378087424; capacity: 132833185792. Object creation will fail if spilling is required.\n",
      "\u001b[2m\u001b[33m(raylet)\u001b[0m [2023-10-22 19:32:49,747 E 32462 32477] (raylet) file_system_monitor.cc:111: /tmp/ray/session_2023-10-22_19-30-57_271318_32332 is over 95% full, available space: 4378071040; capacity: 132833185792. Object creation will fail if spilling is required.\n",
      "\u001b[2m\u001b[33m(raylet)\u001b[0m [2023-10-22 19:32:59,752 E 32462 32477] (raylet) file_system_monitor.cc:111: /tmp/ray/session_2023-10-22_19-30-57_271318_32332 is over 95% full, available space: 4378034176; capacity: 132833185792. Object creation will fail if spilling is required.\n",
      "\u001b[2m\u001b[33m(raylet)\u001b[0m [2023-10-22 19:33:09,757 E 32462 32477] (raylet) file_system_monitor.cc:111: /tmp/ray/session_2023-10-22_19-30-57_271318_32332 is over 95% full, available space: 4377976832; capacity: 132833185792. Object creation will fail if spilling is required.\n",
      "\u001b[2m\u001b[33m(raylet)\u001b[0m [2023-10-22 19:33:19,764 E 32462 32477] (raylet) file_system_monitor.cc:111: /tmp/ray/session_2023-10-22_19-30-57_271318_32332 is over 95% full, available space: 4377935872; capacity: 132833185792. Object creation will fail if spilling is required.\n",
      "\u001b[2m\u001b[33m(raylet)\u001b[0m [2023-10-22 19:33:29,771 E 32462 32477] (raylet) file_system_monitor.cc:111: /tmp/ray/session_2023-10-22_19-30-57_271318_32332 is over 95% full, available space: 4377923584; capacity: 132833185792. Object creation will fail if spilling is required.\n",
      "\u001b[2m\u001b[33m(raylet)\u001b[0m [2023-10-22 19:33:39,778 E 32462 32477] (raylet) file_system_monitor.cc:111: /tmp/ray/session_2023-10-22_19-30-57_271318_32332 is over 95% full, available space: 4377919488; capacity: 132833185792. Object creation will fail if spilling is required.\n",
      "\u001b[2m\u001b[33m(raylet)\u001b[0m [2023-10-22 19:33:49,784 E 32462 32477] (raylet) file_system_monitor.cc:111: /tmp/ray/session_2023-10-22_19-30-57_271318_32332 is over 95% full, available space: 4377911296; capacity: 132833185792. Object creation will fail if spilling is required.\n",
      "\u001b[2m\u001b[33m(raylet)\u001b[0m [2023-10-22 19:33:59,792 E 32462 32477] (raylet) file_system_monitor.cc:111: /tmp/ray/session_2023-10-22_19-30-57_271318_32332 is over 95% full, available space: 4377825280; capacity: 132833185792. Object creation will fail if spilling is required.\n",
      "\u001b[2m\u001b[33m(raylet)\u001b[0m [2023-10-22 19:34:09,799 E 32462 32477] (raylet) file_system_monitor.cc:111: /tmp/ray/session_2023-10-22_19-30-57_271318_32332 is over 95% full, available space: 4377796608; capacity: 132833185792. Object creation will fail if spilling is required.\n",
      "\u001b[2m\u001b[33m(raylet)\u001b[0m [2023-10-22 19:34:19,806 E 32462 32477] (raylet) file_system_monitor.cc:111: /tmp/ray/session_2023-10-22_19-30-57_271318_32332 is over 95% full, available space: 4377788416; capacity: 132833185792. Object creation will fail if spilling is required.\n",
      "\u001b[2m\u001b[33m(raylet)\u001b[0m [2023-10-22 19:34:29,814 E 32462 32477] (raylet) file_system_monitor.cc:111: /tmp/ray/session_2023-10-22_19-30-57_271318_32332 is over 95% full, available space: 4377755648; capacity: 132833185792. Object creation will fail if spilling is required.\n",
      "\u001b[2m\u001b[33m(raylet)\u001b[0m [2023-10-22 19:34:39,822 E 32462 32477] (raylet) file_system_monitor.cc:111: /tmp/ray/session_2023-10-22_19-30-57_271318_32332 is over 95% full, available space: 4377743360; capacity: 132833185792. Object creation will fail if spilling is required.\n",
      "\u001b[2m\u001b[33m(raylet)\u001b[0m [2023-10-22 19:34:49,830 E 32462 32477] (raylet) file_system_monitor.cc:111: /tmp/ray/session_2023-10-22_19-30-57_271318_32332 is over 95% full, available space: 4377743360; capacity: 132833185792. Object creation will fail if spilling is required.\n",
      "\u001b[2m\u001b[33m(raylet)\u001b[0m [2023-10-22 19:34:59,840 E 32462 32477] (raylet) file_system_monitor.cc:111: /tmp/ray/session_2023-10-22_19-30-57_271318_32332 is over 95% full, available space: 4377706496; capacity: 132833185792. Object creation will fail if spilling is required.\n",
      "\u001b[2m\u001b[33m(raylet)\u001b[0m [2023-10-22 19:35:09,848 E 32462 32477] (raylet) file_system_monitor.cc:111: /tmp/ray/session_2023-10-22_19-30-57_271318_32332 is over 95% full, available space: 4377640960; capacity: 132833185792. Object creation will fail if spilling is required.\n",
      "\u001b[2m\u001b[33m(raylet)\u001b[0m [2023-10-22 19:35:19,856 E 32462 32477] (raylet) file_system_monitor.cc:111: /tmp/ray/session_2023-10-22_19-30-57_271318_32332 is over 95% full, available space: 4377604096; capacity: 132833185792. Object creation will fail if spilling is required.\n",
      "\u001b[2m\u001b[33m(raylet)\u001b[0m [2023-10-22 19:35:29,866 E 32462 32477] (raylet) file_system_monitor.cc:111: /tmp/ray/session_2023-10-22_19-30-57_271318_32332 is over 95% full, available space: 4377542656; capacity: 132833185792. Object creation will fail if spilling is required.\n",
      "\u001b[2m\u001b[33m(raylet)\u001b[0m [2023-10-22 19:35:39,873 E 32462 32477] (raylet) file_system_monitor.cc:111: /tmp/ray/session_2023-10-22_19-30-57_271318_32332 is over 95% full, available space: 4377501696; capacity: 132833185792. Object creation will fail if spilling is required.\n",
      "\u001b[2m\u001b[33m(raylet)\u001b[0m [2023-10-22 19:35:49,887 E 32462 32477] (raylet) file_system_monitor.cc:111: /tmp/ray/session_2023-10-22_19-30-57_271318_32332 is over 95% full, available space: 4377444352; capacity: 132833185792. Object creation will fail if spilling is required.\n",
      "\u001b[2m\u001b[33m(raylet)\u001b[0m [2023-10-22 19:35:59,894 E 32462 32477] (raylet) file_system_monitor.cc:111: /tmp/ray/session_2023-10-22_19-30-57_271318_32332 is over 95% full, available space: 4377280512; capacity: 132833185792. Object creation will fail if spilling is required.\n",
      "\u001b[2m\u001b[33m(raylet)\u001b[0m [2023-10-22 19:36:09,903 E 32462 32477] (raylet) file_system_monitor.cc:111: /tmp/ray/session_2023-10-22_19-30-57_271318_32332 is over 95% full, available space: 4377063424; capacity: 132833185792. Object creation will fail if spilling is required.\n",
      "\u001b[2m\u001b[33m(raylet)\u001b[0m [2023-10-22 19:36:19,910 E 32462 32477] (raylet) file_system_monitor.cc:111: /tmp/ray/session_2023-10-22_19-30-57_271318_32332 is over 95% full, available space: 4376952832; capacity: 132833185792. Object creation will fail if spilling is required.\n",
      "\u001b[2m\u001b[33m(raylet)\u001b[0m [2023-10-22 19:36:29,923 E 32462 32477] (raylet) file_system_monitor.cc:111: /tmp/ray/session_2023-10-22_19-30-57_271318_32332 is over 95% full, available space: 4376887296; capacity: 132833185792. Object creation will fail if spilling is required.\n",
      "\u001b[2m\u001b[33m(raylet)\u001b[0m [2023-10-22 19:36:39,929 E 32462 32477] (raylet) file_system_monitor.cc:111: /tmp/ray/session_2023-10-22_19-30-57_271318_32332 is over 95% full, available space: 4376838144; capacity: 132833185792. Object creation will fail if spilling is required.\n",
      "\u001b[2m\u001b[33m(raylet)\u001b[0m [2023-10-22 19:36:49,936 E 32462 32477] (raylet) file_system_monitor.cc:111: /tmp/ray/session_2023-10-22_19-30-57_271318_32332 is over 95% full, available space: 4376809472; capacity: 132833185792. Object creation will fail if spilling is required.\n",
      "\u001b[2m\u001b[33m(raylet)\u001b[0m [2023-10-22 19:36:59,944 E 32462 32477] (raylet) file_system_monitor.cc:111: /tmp/ray/session_2023-10-22_19-30-57_271318_32332 is over 95% full, available space: 4376760320; capacity: 132833185792. Object creation will fail if spilling is required.\n",
      "\u001b[2m\u001b[33m(raylet)\u001b[0m [2023-10-22 19:37:09,952 E 32462 32477] (raylet) file_system_monitor.cc:111: /tmp/ray/session_2023-10-22_19-30-57_271318_32332 is over 95% full, available space: 4376702976; capacity: 132833185792. Object creation will fail if spilling is required.\n",
      "\u001b[2m\u001b[33m(raylet)\u001b[0m [2023-10-22 19:37:19,971 E 32462 32477] (raylet) file_system_monitor.cc:111: /tmp/ray/session_2023-10-22_19-30-57_271318_32332 is over 95% full, available space: 4376649728; capacity: 132833185792. Object creation will fail if spilling is required.\n",
      "\u001b[2m\u001b[33m(raylet)\u001b[0m [2023-10-22 19:37:29,978 E 32462 32477] (raylet) file_system_monitor.cc:111: /tmp/ray/session_2023-10-22_19-30-57_271318_32332 is over 95% full, available space: 4376645632; capacity: 132833185792. Object creation will fail if spilling is required.\n",
      "\u001b[2m\u001b[33m(raylet)\u001b[0m [2023-10-22 19:37:39,987 E 32462 32477] (raylet) file_system_monitor.cc:111: /tmp/ray/session_2023-10-22_19-30-57_271318_32332 is over 95% full, available space: 4376604672; capacity: 132833185792. Object creation will fail if spilling is required.\n",
      "\u001b[2m\u001b[33m(raylet)\u001b[0m [2023-10-22 19:37:49,996 E 32462 32477] (raylet) file_system_monitor.cc:111: /tmp/ray/session_2023-10-22_19-30-57_271318_32332 is over 95% full, available space: 4376596480; capacity: 132833185792. Object creation will fail if spilling is required.\n",
      "\u001b[2m\u001b[33m(raylet)\u001b[0m [2023-10-22 19:38:00,004 E 32462 32477] (raylet) file_system_monitor.cc:111: /tmp/ray/session_2023-10-22_19-30-57_271318_32332 is over 95% full, available space: 4376588288; capacity: 132833185792. Object creation will fail if spilling is required.\n",
      "\u001b[2m\u001b[33m(raylet)\u001b[0m [2023-10-22 19:38:10,013 E 32462 32477] (raylet) file_system_monitor.cc:111: /tmp/ray/session_2023-10-22_19-30-57_271318_32332 is over 95% full, available space: 4376559616; capacity: 132833185792. Object creation will fail if spilling is required.\n",
      "\u001b[2m\u001b[33m(raylet)\u001b[0m [2023-10-22 19:38:20,020 E 32462 32477] (raylet) file_system_monitor.cc:111: /tmp/ray/session_2023-10-22_19-30-57_271318_32332 is over 95% full, available space: 4376522752; capacity: 132833185792. Object creation will fail if spilling is required.\n",
      "\u001b[2m\u001b[33m(raylet)\u001b[0m [2023-10-22 19:38:30,026 E 32462 32477] (raylet) file_system_monitor.cc:111: /tmp/ray/session_2023-10-22_19-30-57_271318_32332 is over 95% full, available space: 4376522752; capacity: 132833185792. Object creation will fail if spilling is required.\n",
      "\u001b[2m\u001b[33m(raylet)\u001b[0m [2023-10-22 19:38:40,034 E 32462 32477] (raylet) file_system_monitor.cc:111: /tmp/ray/session_2023-10-22_19-30-57_271318_32332 is over 95% full, available space: 4376473600; capacity: 132833185792. Object creation will fail if spilling is required.\n",
      "\u001b[2m\u001b[33m(raylet)\u001b[0m [2023-10-22 19:38:50,040 E 32462 32477] (raylet) file_system_monitor.cc:111: /tmp/ray/session_2023-10-22_19-30-57_271318_32332 is over 95% full, available space: 4376469504; capacity: 132833185792. Object creation will fail if spilling is required.\n",
      "\u001b[2m\u001b[33m(raylet)\u001b[0m [2023-10-22 19:39:00,047 E 32462 32477] (raylet) file_system_monitor.cc:111: /tmp/ray/session_2023-10-22_19-30-57_271318_32332 is over 95% full, available space: 4376457216; capacity: 132833185792. Object creation will fail if spilling is required.\n",
      "\u001b[2m\u001b[33m(raylet)\u001b[0m [2023-10-22 19:39:10,055 E 32462 32477] (raylet) file_system_monitor.cc:111: /tmp/ray/session_2023-10-22_19-30-57_271318_32332 is over 95% full, available space: 4376395776; capacity: 132833185792. Object creation will fail if spilling is required.\n",
      "\u001b[2m\u001b[33m(raylet)\u001b[0m [2023-10-22 19:39:20,062 E 32462 32477] (raylet) file_system_monitor.cc:111: /tmp/ray/session_2023-10-22_19-30-57_271318_32332 is over 95% full, available space: 4376391680; capacity: 132833185792. Object creation will fail if spilling is required.\n",
      "\u001b[2m\u001b[33m(raylet)\u001b[0m [2023-10-22 19:39:30,070 E 32462 32477] (raylet) file_system_monitor.cc:111: /tmp/ray/session_2023-10-22_19-30-57_271318_32332 is over 95% full, available space: 4376350720; capacity: 132833185792. Object creation will fail if spilling is required.\n",
      "\u001b[2m\u001b[33m(raylet)\u001b[0m [2023-10-22 19:39:40,078 E 32462 32477] (raylet) file_system_monitor.cc:111: /tmp/ray/session_2023-10-22_19-30-57_271318_32332 is over 95% full, available space: 4376346624; capacity: 132833185792. Object creation will fail if spilling is required.\n",
      "\u001b[2m\u001b[33m(raylet)\u001b[0m [2023-10-22 19:39:50,085 E 32462 32477] (raylet) file_system_monitor.cc:111: /tmp/ray/session_2023-10-22_19-30-57_271318_32332 is over 95% full, available space: 4376301568; capacity: 132833185792. Object creation will fail if spilling is required.\n",
      "\u001b[2m\u001b[33m(raylet)\u001b[0m [2023-10-22 19:40:00,092 E 32462 32477] (raylet) file_system_monitor.cc:111: /tmp/ray/session_2023-10-22_19-30-57_271318_32332 is over 95% full, available space: 4376227840; capacity: 132833185792. Object creation will fail if spilling is required.\n",
      "\u001b[2m\u001b[33m(raylet)\u001b[0m [2023-10-22 19:40:10,100 E 32462 32477] (raylet) file_system_monitor.cc:111: /tmp/ray/session_2023-10-22_19-30-57_271318_32332 is over 95% full, available space: 4376190976; capacity: 132833185792. Object creation will fail if spilling is required.\n",
      "\u001b[2m\u001b[33m(raylet)\u001b[0m [2023-10-22 19:40:20,107 E 32462 32477] (raylet) file_system_monitor.cc:111: /tmp/ray/session_2023-10-22_19-30-57_271318_32332 is over 95% full, available space: 4376182784; capacity: 132833185792. Object creation will fail if spilling is required.\n",
      "\u001b[2m\u001b[33m(raylet)\u001b[0m [2023-10-22 19:40:30,114 E 32462 32477] (raylet) file_system_monitor.cc:111: /tmp/ray/session_2023-10-22_19-30-57_271318_32332 is over 95% full, available space: 4376166400; capacity: 132833185792. Object creation will fail if spilling is required.\n",
      "\u001b[2m\u001b[33m(raylet)\u001b[0m [2023-10-22 19:40:40,123 E 32462 32477] (raylet) file_system_monitor.cc:111: /tmp/ray/session_2023-10-22_19-30-57_271318_32332 is over 95% full, available space: 4376141824; capacity: 132833185792. Object creation will fail if spilling is required.\n",
      "\u001b[2m\u001b[33m(raylet)\u001b[0m [2023-10-22 19:40:50,130 E 32462 32477] (raylet) file_system_monitor.cc:111: /tmp/ray/session_2023-10-22_19-30-57_271318_32332 is over 95% full, available space: 4376141824; capacity: 132833185792. Object creation will fail if spilling is required.\n",
      "\u001b[2m\u001b[33m(raylet)\u001b[0m [2023-10-22 19:41:00,136 E 32462 32477] (raylet) file_system_monitor.cc:111: /tmp/ray/session_2023-10-22_19-30-57_271318_32332 is over 95% full, available space: 4376133632; capacity: 132833185792. Object creation will fail if spilling is required.\n",
      "\u001b[2m\u001b[33m(raylet)\u001b[0m [2023-10-22 19:41:10,144 E 32462 32477] (raylet) file_system_monitor.cc:111: /tmp/ray/session_2023-10-22_19-30-57_271318_32332 is over 95% full, available space: 4376068096; capacity: 132833185792. Object creation will fail if spilling is required.\n",
      "\u001b[2m\u001b[33m(raylet)\u001b[0m [2023-10-22 19:41:20,157 E 32462 32477] (raylet) file_system_monitor.cc:111: /tmp/ray/session_2023-10-22_19-30-57_271318_32332 is over 95% full, available space: 4376027136; capacity: 132833185792. Object creation will fail if spilling is required.\n",
      "\u001b[2m\u001b[33m(raylet)\u001b[0m [2023-10-22 19:41:30,166 E 32462 32477] (raylet) file_system_monitor.cc:111: /tmp/ray/session_2023-10-22_19-30-57_271318_32332 is over 95% full, available space: 4376002560; capacity: 132833185792. Object creation will fail if spilling is required.\n",
      "2023-10-22 19:41:39,023\tINFO tune.py:1143 -- Total run time: 636.59 seconds (636.36 seconds for the tuning loop).\n"
     ]
    }
   ],
   "source": [
    "from ray.tune.search.hyperopt import HyperOptSearch\n",
    "\n",
    "# Creiamo un oggetto Tuner\n",
    "tuner = tune.Tuner(\n",
    "    objective,\n",
    "    tune_config=tune.TuneConfig(\n",
    "        search_alg=HyperOptSearch(random_state_seed=42),\n",
    "        num_samples=50,\n",
    "        metric=\"score\",\n",
    "        mode=\"max\",\n",
    "    ),\n",
    "    param_space=search_space,\n",
    ")\n",
    "\n",
    "# Eseguiamo la ricerca\n",
    "results = tuner.fit()"
   ]
  },
  {
   "cell_type": "markdown",
   "id": "a0917bba",
   "metadata": {},
   "source": [
    "Infine valutiamo le performance del modello con questi parametri, allenato sul train set e valutato sul test set.\n"
   ]
  },
  {
   "cell_type": "code",
   "execution_count": 19,
   "id": "e4d63894",
   "metadata": {},
   "outputs": [
    {
     "name": "stdout",
     "output_type": "stream",
     "text": [
      "Best hyperparameters:\n",
      " {'n_estimators': 94, 'max_depth': 8, 'min_samples_split': 2, 'min_samples_leaf': 3, 'max_features': 'log2', 'bootstrap': True, 'criterion': 'gini'} \n",
      "with best mean score: 75.99%\n"
     ]
    },
    {
     "name": "stderr",
     "output_type": "stream",
     "text": [
      "\u001b[2m\u001b[33m(raylet)\u001b[0m [2023-10-22 19:41:40,176 E 32462 32477] (raylet) file_system_monitor.cc:111: /tmp/ray/session_2023-10-22_19-30-57_271318_32332 is over 95% full, available space: 4375969792; capacity: 132833185792. Object creation will fail if spilling is required.\n"
     ]
    },
    {
     "name": "stdout",
     "output_type": "stream",
     "text": [
      "              precision    recall  f1-score   support\n",
      "\n",
      "           0       0.77      0.92      0.84      1019\n",
      "           1       0.71      0.42      0.53       481\n",
      "\n",
      "    accuracy                           0.76      1500\n",
      "   macro avg       0.74      0.67      0.68      1500\n",
      "weighted avg       0.75      0.76      0.74      1500\n",
      "\n"
     ]
    },
    {
     "data": {
      "image/png": "[encoded data removed]",
      "text/plain": [
       "<Figure size 640x480 with 1 Axes>"
      ]
     },
     "metadata": {},
     "output_type": "display_data"
    }
   ],
   "source": [
    "# Visualizziamo i parametri ottimali\n",
    "best_score = results.get_best_result().metrics[\"score\"]\n",
    "best_params = results.get_best_result().config\n",
    "print(\n",
    "    \"Best hyperparameters:\\n\",\n",
    "    best_params,\n",
    "    \"\\nwith best mean score: {:.2%}\".format(best_score),\n",
    ")\n",
    "\n",
    "# Impostiamo i parametri ottimali per il modello\n",
    "rfc.set_params(**best_params)\n",
    "\n",
    "# Alleniamo il modello sul train set\n",
    "rfc.fit(X_train, y_train)\n",
    "\n",
    "# Calcoliamo le previsioni del modello sul test set\n",
    "y_pred = rfc.predict(X_test)\n",
    "\n",
    "# Infine valutiamo le previsioni\n",
    "from sklearn.metrics import classification_report\n",
    "from sklearn.metrics import confusion_matrix\n",
    "\n",
    "sns.heatmap(confusion_matrix(y_test, y_pred), annot=True, cbar=False)\n",
    "print(classification_report(y_test, y_pred))"
   ]
  },
  {
   "cell_type": "markdown",
   "id": "ef2339e6",
   "metadata": {},
   "source": [
    "Notiamo che, fra i tre metodi, questo ci ha dato il modello migliore in tempi minimali.\n"
   ]
  },
  {
   "cell_type": "markdown",
   "id": "5f646fdc",
   "metadata": {},
   "source": [
    "## Selezione degli iperparametri - Regressione\n",
    "\n",
    "Ripetiamo ora il processo appena attuato, questa volta per il nostro modello di regressione, `XGBRegressor`. Dato che conosciamo già i metodi principali, ci concentreremo sull'arricchire le informazioni ottenute dalla cross-validation, perciò useremo la funzione `cross_validate` di `sklearn`.\n"
   ]
  },
  {
   "cell_type": "code",
   "execution_count": 20,
   "id": "de176606",
   "metadata": {},
   "outputs": [
    {
     "data": {
      "text/plain": [
       "{'fit_time': array([0.23320723, 0.26569462, 0.23305845, 0.22646236, 0.22422647]),\n",
       " 'score_time': array([0.00960994, 0.00996327, 0.01785827, 0.0096364 , 0.01005888]),\n",
       " 'test_neg_mean_squared_error': array([-1.03483171, -1.06176841, -1.10681787, -0.99161405, -1.04561965]),\n",
       " 'test_neg_root_mean_squared_error': array([-1.01726678, -1.03042147, -1.05205412, -0.9957982 , -1.02255545]),\n",
       " 'test_neg_mean_absolute_error': array([-0.79268892, -0.80680174, -0.83168042, -0.78243914, -0.80839867])}"
      ]
     },
     "metadata": {},
     "output_type": "display_data"
    },
    {
     "data": {
      "text/plain": [
       "{'fit_time': 0.23652982711791992,\n",
       " 'score_time': 0.011425352096557618,\n",
       " 'mean_squared_error': 1.0481303367575998,\n",
       " 'root_mean_squared_error': 1.0236192041277468,\n",
       " 'mean_absolute_error': 0.8044017779433139}"
      ]
     },
     "metadata": {},
     "output_type": "display_data"
    }
   ],
   "source": [
    "from xgboost import XGBRegressor\n",
    "from sklearn.model_selection import cross_validate\n",
    "\n",
    "# Importiamo i dati necessari\n",
    "X_train, y_train, X_test, y_test = regression_data\n",
    "\n",
    "# Testiamo cross_validate\n",
    "score_names = [\n",
    "    \"neg_mean_squared_error\",\n",
    "    \"neg_root_mean_squared_error\",\n",
    "    \"neg_mean_absolute_error\",\n",
    "]\n",
    "scores = cross_validate(XGBRegressor(), X_train, y_train, cv=5, scoring=score_names)\n",
    "\n",
    "\n",
    "# Definiamo una funzione per ottenere le metriche attese (medie sulle fold e con segno positivo)\n",
    "def fix_scores(scores):\n",
    "    fixed_scores = dict()\n",
    "    for key in scores:\n",
    "        if \"test_\" in key:\n",
    "            fixed_scores[key.replace(\"test_neg_\", \"\")] = -scores[key].mean()\n",
    "        else:\n",
    "            fixed_scores[key] = scores[key].mean()\n",
    "    return fixed_scores\n",
    "\n",
    "\n",
    "display(scores, fix_scores(scores))"
   ]
  },
  {
   "cell_type": "markdown",
   "id": "13f2dbe8",
   "metadata": {},
   "source": [
    "Notiamo alcune cose:\n",
    "\n",
    "- La funzione `cross_validate` ci dà più informazioni riguardo a ciascuna fold dei dati\n",
    "- Questa funzione ci permette di usare più di una metrica alla volta\n",
    "- Le metriche di regressione rese disponibili da `sklearn` hanno il segno negativo (quindi vogliamo massimizzarle).\n",
    "\n",
    "Possiamo ora passare alla selezione degli iperparametri usando `ray`, questa volta con più informazioni disponibili.\n"
   ]
  },
  {
   "cell_type": "code",
   "execution_count": 21,
   "id": "bca84e5b",
   "metadata": {},
   "outputs": [
    {
     "data": {
      "text/html": [
       "<div class=\"tuneStatus\">\n",
       "  <div style=\"display: flex;flex-direction: row\">\n",
       "    <div style=\"display: flex;flex-direction: column;\">\n",
       "      <h3>Tune Status</h3>\n",
       "      <table>\n",
       "<tbody>\n",
       "<tr><td>Current time:</td><td>2023-10-22 19:45:59</td></tr>\n",
       "<tr><td>Running for: </td><td>00:04:17.54        </td></tr>\n",
       "<tr><td>Memory:      </td><td>2.8/4.7 GiB        </td></tr>\n",
       "</tbody>\n",
       "</table>\n",
       "    </div>\n",
       "    <div class=\"vDivider\"></div>\n",
       "    <div class=\"systemInfo\">\n",
       "      <h3>System Info</h3>\n",
       "      Using FIFO scheduling algorithm.<br>Logical resource usage: 1.0/1 CPUs, 0/0 GPUs\n",
       "    </div>\n",
       "    \n",
       "  </div>\n",
       "  <div class=\"hDivider\"></div>\n",
       "  <div class=\"trialStatus\">\n",
       "    <h3>Trial Status</h3>\n",
       "    <table>\n",
       "<thead>\n",
       "<tr><th>Trial name        </th><th>status    </th><th>loc              </th><th style=\"text-align: right;\">  colsample_bytree</th><th style=\"text-align: right;\">      gamma</th><th style=\"text-align: right;\">  learning_rate</th><th style=\"text-align: right;\">  max_depth</th><th style=\"text-align: right;\">  n_estimators</th><th>objective        </th><th style=\"text-align: right;\">  reg_alpha</th><th style=\"text-align: right;\">  reg_lambda</th><th style=\"text-align: right;\">  subsample</th><th style=\"text-align: right;\">  iter</th><th style=\"text-align: right;\">  total time (s)</th><th style=\"text-align: right;\">  fit_time</th><th style=\"text-align: right;\">  score_time</th><th style=\"text-align: right;\">  mean_squared_error</th></tr>\n",
       "</thead>\n",
       "<tbody>\n",
       "<tr><td>objective_cb0984c8</td><td>TERMINATED</td><td>172.18.13.4:32832</td><td style=\"text-align: right;\">          0.871746</td><td style=\"text-align: right;\">0.862742   </td><td style=\"text-align: right;\">     0.0105391 </td><td style=\"text-align: right;\">          4</td><td style=\"text-align: right;\">           500</td><td>reg:absoluteerror</td><td style=\"text-align: right;\">0.690513   </td><td style=\"text-align: right;\">   8.32632  </td><td style=\"text-align: right;\">   0.727351</td><td style=\"text-align: right;\">     1</td><td style=\"text-align: right;\">        9.36014 </td><td style=\"text-align: right;\"> 1.83379  </td><td style=\"text-align: right;\">  0.0267827 </td><td style=\"text-align: right;\">            0.942748</td></tr>\n",
       "<tr><td>objective_dc6770ff</td><td>TERMINATED</td><td>172.18.13.4:32832</td><td style=\"text-align: right;\">          0.579709</td><td style=\"text-align: right;\">0.45417    </td><td style=\"text-align: right;\">     0.0889922 </td><td style=\"text-align: right;\">          1</td><td style=\"text-align: right;\">           300</td><td>reg:absoluteerror</td><td style=\"text-align: right;\">9.32868    </td><td style=\"text-align: right;\">   7.27726  </td><td style=\"text-align: right;\">   0.705052</td><td style=\"text-align: right;\">     1</td><td style=\"text-align: right;\">        3.41751 </td><td style=\"text-align: right;\"> 0.676771 </td><td style=\"text-align: right;\">  0.00561461</td><td style=\"text-align: right;\">            0.939668</td></tr>\n",
       "<tr><td>objective_23cf0067</td><td>TERMINATED</td><td>172.18.13.4:32832</td><td style=\"text-align: right;\">          0.676794</td><td style=\"text-align: right;\">0.138309   </td><td style=\"text-align: right;\">     0.00133237</td><td style=\"text-align: right;\">          5</td><td style=\"text-align: right;\">           100</td><td>reg:squarederror </td><td style=\"text-align: right;\">3.0341     </td><td style=\"text-align: right;\">   8.83315  </td><td style=\"text-align: right;\">   0.918694</td><td style=\"text-align: right;\">     1</td><td style=\"text-align: right;\">        0.877421</td><td style=\"text-align: right;\"> 0.165591 </td><td style=\"text-align: right;\">  0.00868697</td><td style=\"text-align: right;\">            0.989802</td></tr>\n",
       "<tr><td>objective_acdf75b8</td><td>TERMINATED</td><td>172.18.13.4:32832</td><td style=\"text-align: right;\">          0.875776</td><td style=\"text-align: right;\">0.155448   </td><td style=\"text-align: right;\">     0.0080785 </td><td style=\"text-align: right;\">          2</td><td style=\"text-align: right;\">           200</td><td>reg:squarederror </td><td style=\"text-align: right;\">1.04859    </td><td style=\"text-align: right;\">   9.18723  </td><td style=\"text-align: right;\">   0.722416</td><td style=\"text-align: right;\">     1</td><td style=\"text-align: right;\">        0.861908</td><td style=\"text-align: right;\"> 0.16465  </td><td style=\"text-align: right;\">  0.00662236</td><td style=\"text-align: right;\">            0.956721</td></tr>\n",
       "<tr><td>objective_79307469</td><td>TERMINATED</td><td>172.18.13.4:32832</td><td style=\"text-align: right;\">          0.702549</td><td style=\"text-align: right;\">0.338421   </td><td style=\"text-align: right;\">     0.00953179</td><td style=\"text-align: right;\">          1</td><td style=\"text-align: right;\">           400</td><td>reg:absoluteerror</td><td style=\"text-align: right;\">5.98047    </td><td style=\"text-align: right;\">   1.71872  </td><td style=\"text-align: right;\">   0.906198</td><td style=\"text-align: right;\">     1</td><td style=\"text-align: right;\">        5.20837 </td><td style=\"text-align: right;\"> 1.03393  </td><td style=\"text-align: right;\">  0.00659742</td><td style=\"text-align: right;\">            0.962279</td></tr>\n",
       "<tr><td>objective_da02b133</td><td>TERMINATED</td><td>172.18.13.4:32832</td><td style=\"text-align: right;\">          0.770134</td><td style=\"text-align: right;\">0.691106   </td><td style=\"text-align: right;\">     0.00202388</td><td style=\"text-align: right;\">          1</td><td style=\"text-align: right;\">           200</td><td>reg:absoluteerror</td><td style=\"text-align: right;\">5.2662     </td><td style=\"text-align: right;\">   4.38029  </td><td style=\"text-align: right;\">   0.899777</td><td style=\"text-align: right;\">     1</td><td style=\"text-align: right;\">        2.61008 </td><td style=\"text-align: right;\"> 0.515879 </td><td style=\"text-align: right;\">  0.00493131</td><td style=\"text-align: right;\">            0.993385</td></tr>\n",
       "<tr><td>objective_abf8297e</td><td>TERMINATED</td><td>172.18.13.4:32832</td><td style=\"text-align: right;\">          0.902508</td><td style=\"text-align: right;\">0.385625   </td><td style=\"text-align: right;\">     0.00397479</td><td style=\"text-align: right;\">          6</td><td style=\"text-align: right;\">           300</td><td>reg:absoluteerror</td><td style=\"text-align: right;\">1.63607    </td><td style=\"text-align: right;\">   9.3937   </td><td style=\"text-align: right;\">   0.867014</td><td style=\"text-align: right;\">     1</td><td style=\"text-align: right;\">        6.60995 </td><td style=\"text-align: right;\"> 1.29986  </td><td style=\"text-align: right;\">  0.021008  </td><td style=\"text-align: right;\">            0.956609</td></tr>\n",
       "<tr><td>objective_9b9982a8</td><td>TERMINATED</td><td>172.18.13.4:32832</td><td style=\"text-align: right;\">          0.857334</td><td style=\"text-align: right;\">0.329932   </td><td style=\"text-align: right;\">     0.00184192</td><td style=\"text-align: right;\">          3</td><td style=\"text-align: right;\">           200</td><td>reg:squarederror </td><td style=\"text-align: right;\">3.59023    </td><td style=\"text-align: right;\">   7.75364  </td><td style=\"text-align: right;\">   0.80854 </td><td style=\"text-align: right;\">     1</td><td style=\"text-align: right;\">        1.03971 </td><td style=\"text-align: right;\"> 0.199056 </td><td style=\"text-align: right;\">  0.00788035</td><td style=\"text-align: right;\">            0.978724</td></tr>\n",
       "<tr><td>objective_5e38f4b6</td><td>TERMINATED</td><td>172.18.13.4:32832</td><td style=\"text-align: right;\">          0.512901</td><td style=\"text-align: right;\">0.570778   </td><td style=\"text-align: right;\">     0.00126552</td><td style=\"text-align: right;\">          3</td><td style=\"text-align: right;\">           500</td><td>reg:absoluteerror</td><td style=\"text-align: right;\">4.96467    </td><td style=\"text-align: right;\">   9.20009  </td><td style=\"text-align: right;\">   0.771702</td><td style=\"text-align: right;\">     1</td><td style=\"text-align: right;\">        6.90006 </td><td style=\"text-align: right;\"> 1.36369  </td><td style=\"text-align: right;\">  0.0151001 </td><td style=\"text-align: right;\">            0.978075</td></tr>\n",
       "<tr><td>objective_b97c5a6f</td><td>TERMINATED</td><td>172.18.13.4:32832</td><td style=\"text-align: right;\">          0.685343</td><td style=\"text-align: right;\">6.10508e-05</td><td style=\"text-align: right;\">     0.00264745</td><td style=\"text-align: right;\">          3</td><td style=\"text-align: right;\">           100</td><td>reg:squarederror </td><td style=\"text-align: right;\">8.71652    </td><td style=\"text-align: right;\">   7.00621  </td><td style=\"text-align: right;\">   0.977739</td><td style=\"text-align: right;\">     1</td><td style=\"text-align: right;\">        0.557817</td><td style=\"text-align: right;\"> 0.103587 </td><td style=\"text-align: right;\">  0.00692368</td><td style=\"text-align: right;\">            0.984502</td></tr>\n",
       "<tr><td>objective_227fd412</td><td>TERMINATED</td><td>172.18.13.4:32832</td><td style=\"text-align: right;\">          0.875277</td><td style=\"text-align: right;\">0.911908   </td><td style=\"text-align: right;\">     0.0521322 </td><td style=\"text-align: right;\">          3</td><td style=\"text-align: right;\">           500</td><td>reg:squarederror </td><td style=\"text-align: right;\">7.41283    </td><td style=\"text-align: right;\">   8.1783   </td><td style=\"text-align: right;\">   0.501815</td><td style=\"text-align: right;\">     1</td><td style=\"text-align: right;\">        2.37044 </td><td style=\"text-align: right;\"> 0.457135 </td><td style=\"text-align: right;\">  0.0158206 </td><td style=\"text-align: right;\">            0.943477</td></tr>\n",
       "<tr><td>objective_266caf08</td><td>TERMINATED</td><td>172.18.13.4:32832</td><td style=\"text-align: right;\">          0.600098</td><td style=\"text-align: right;\">0.634234   </td><td style=\"text-align: right;\">     0.0274633 </td><td style=\"text-align: right;\">          3</td><td style=\"text-align: right;\">           200</td><td>reg:squarederror </td><td style=\"text-align: right;\">4.86514    </td><td style=\"text-align: right;\">   3.58482  </td><td style=\"text-align: right;\">   0.939568</td><td style=\"text-align: right;\">     1</td><td style=\"text-align: right;\">        0.895851</td><td style=\"text-align: right;\"> 0.169572 </td><td style=\"text-align: right;\">  0.00850315</td><td style=\"text-align: right;\">            0.938692</td></tr>\n",
       "<tr><td>objective_9696ca09</td><td>TERMINATED</td><td>172.18.13.4:32832</td><td style=\"text-align: right;\">          0.607877</td><td style=\"text-align: right;\">0.402123   </td><td style=\"text-align: right;\">     0.00591754</td><td style=\"text-align: right;\">          3</td><td style=\"text-align: right;\">           100</td><td>reg:squarederror </td><td style=\"text-align: right;\">9.60209    </td><td style=\"text-align: right;\">   3.07258  </td><td style=\"text-align: right;\">   0.940739</td><td style=\"text-align: right;\">     1</td><td style=\"text-align: right;\">        0.534249</td><td style=\"text-align: right;\"> 0.099376 </td><td style=\"text-align: right;\">  0.00643797</td><td style=\"text-align: right;\">            0.971733</td></tr>\n",
       "<tr><td>objective_c2ab0d87</td><td>TERMINATED</td><td>172.18.13.4:32832</td><td style=\"text-align: right;\">          0.792733</td><td style=\"text-align: right;\">0.0671375  </td><td style=\"text-align: right;\">     0.00222835</td><td style=\"text-align: right;\">          5</td><td style=\"text-align: right;\">           500</td><td>reg:squarederror </td><td style=\"text-align: right;\">8.50136    </td><td style=\"text-align: right;\">   0.13183  </td><td style=\"text-align: right;\">   0.763555</td><td style=\"text-align: right;\">     1</td><td style=\"text-align: right;\">        4.57387 </td><td style=\"text-align: right;\"> 0.883686 </td><td style=\"text-align: right;\">  0.0296752 </td><td style=\"text-align: right;\">            0.952409</td></tr>\n",
       "<tr><td>objective_5bc538c0</td><td>TERMINATED</td><td>172.18.13.4:32832</td><td style=\"text-align: right;\">          0.983345</td><td style=\"text-align: right;\">0.905901   </td><td style=\"text-align: right;\">     0.0975477 </td><td style=\"text-align: right;\">          3</td><td style=\"text-align: right;\">           500</td><td>reg:absoluteerror</td><td style=\"text-align: right;\">2.37984    </td><td style=\"text-align: right;\">   9.20982  </td><td style=\"text-align: right;\">   0.818517</td><td style=\"text-align: right;\">     1</td><td style=\"text-align: right;\">        6.82486 </td><td style=\"text-align: right;\"> 1.34855  </td><td style=\"text-align: right;\">  0.0152865 </td><td style=\"text-align: right;\">            0.951496</td></tr>\n",
       "<tr><td>objective_298eaa09</td><td>TERMINATED</td><td>172.18.13.4:32832</td><td style=\"text-align: right;\">          0.519347</td><td style=\"text-align: right;\">0.330883   </td><td style=\"text-align: right;\">     0.00102316</td><td style=\"text-align: right;\">          1</td><td style=\"text-align: right;\">           400</td><td>reg:squarederror </td><td style=\"text-align: right;\">3.69328    </td><td style=\"text-align: right;\">   6.4001   </td><td style=\"text-align: right;\">   0.791685</td><td style=\"text-align: right;\">     1</td><td style=\"text-align: right;\">        1.13387 </td><td style=\"text-align: right;\"> 0.217914 </td><td style=\"text-align: right;\">  0.00766563</td><td style=\"text-align: right;\">            0.987644</td></tr>\n",
       "<tr><td>objective_5c084fcb</td><td>TERMINATED</td><td>172.18.13.4:32832</td><td style=\"text-align: right;\">          0.942073</td><td style=\"text-align: right;\">0.0271986  </td><td style=\"text-align: right;\">     0.0259169 </td><td style=\"text-align: right;\">          3</td><td style=\"text-align: right;\">           400</td><td>reg:squarederror </td><td style=\"text-align: right;\">2.90762    </td><td style=\"text-align: right;\">   1.24701  </td><td style=\"text-align: right;\">   0.757916</td><td style=\"text-align: right;\">     1</td><td style=\"text-align: right;\">        1.77337 </td><td style=\"text-align: right;\"> 0.34058  </td><td style=\"text-align: right;\">  0.0130059 </td><td style=\"text-align: right;\">            0.938256</td></tr>\n",
       "<tr><td>objective_49fe1fa7</td><td>TERMINATED</td><td>172.18.13.4:32832</td><td style=\"text-align: right;\">          0.940332</td><td style=\"text-align: right;\">0.0436056  </td><td style=\"text-align: right;\">     0.0653736 </td><td style=\"text-align: right;\">          5</td><td style=\"text-align: right;\">           400</td><td>reg:squarederror </td><td style=\"text-align: right;\">4.95311    </td><td style=\"text-align: right;\">   6.81039  </td><td style=\"text-align: right;\">   0.846055</td><td style=\"text-align: right;\">     1</td><td style=\"text-align: right;\">        3.17968 </td><td style=\"text-align: right;\"> 0.612493 </td><td style=\"text-align: right;\">  0.0220854 </td><td style=\"text-align: right;\">            0.968096</td></tr>\n",
       "<tr><td>objective_14f2f2b9</td><td>TERMINATED</td><td>172.18.13.4:32832</td><td style=\"text-align: right;\">          0.914139</td><td style=\"text-align: right;\">0.955594   </td><td style=\"text-align: right;\">     0.0639993 </td><td style=\"text-align: right;\">          5</td><td style=\"text-align: right;\">           100</td><td>reg:absoluteerror</td><td style=\"text-align: right;\">8.10792    </td><td style=\"text-align: right;\">   6.9469   </td><td style=\"text-align: right;\">   0.644069</td><td style=\"text-align: right;\">     1</td><td style=\"text-align: right;\">        1.70835 </td><td style=\"text-align: right;\"> 0.332395 </td><td style=\"text-align: right;\">  0.00824332</td><td style=\"text-align: right;\">            0.946962</td></tr>\n",
       "<tr><td>objective_c6365a12</td><td>TERMINATED</td><td>172.18.13.4:32832</td><td style=\"text-align: right;\">          0.695953</td><td style=\"text-align: right;\">0.457271   </td><td style=\"text-align: right;\">     0.025727  </td><td style=\"text-align: right;\">          6</td><td style=\"text-align: right;\">           400</td><td>reg:squarederror </td><td style=\"text-align: right;\">8.39883    </td><td style=\"text-align: right;\">   8.75112  </td><td style=\"text-align: right;\">   0.698893</td><td style=\"text-align: right;\">     1</td><td style=\"text-align: right;\">        3.57391 </td><td style=\"text-align: right;\"> 0.685422 </td><td style=\"text-align: right;\">  0.0282026 </td><td style=\"text-align: right;\">            0.946255</td></tr>\n",
       "<tr><td>objective_3211cfa8</td><td>TERMINATED</td><td>172.18.13.4:32832</td><td style=\"text-align: right;\">          0.603172</td><td style=\"text-align: right;\">0.762657   </td><td style=\"text-align: right;\">     0.0258772 </td><td style=\"text-align: right;\">          2</td><td style=\"text-align: right;\">           200</td><td>reg:squarederror </td><td style=\"text-align: right;\">6.66729    </td><td style=\"text-align: right;\">   0.0854963</td><td style=\"text-align: right;\">   0.584238</td><td style=\"text-align: right;\">     1</td><td style=\"text-align: right;\">        0.807932</td><td style=\"text-align: right;\"> 0.153491 </td><td style=\"text-align: right;\">  0.00682077</td><td style=\"text-align: right;\">            0.940297</td></tr>\n",
       "<tr><td>objective_84470f13</td><td>TERMINATED</td><td>172.18.13.4:32832</td><td style=\"text-align: right;\">          0.555652</td><td style=\"text-align: right;\">0.61643    </td><td style=\"text-align: right;\">     0.0194197 </td><td style=\"text-align: right;\">          4</td><td style=\"text-align: right;\">           400</td><td>reg:squarederror </td><td style=\"text-align: right;\">4.19432    </td><td style=\"text-align: right;\">   1.57551  </td><td style=\"text-align: right;\">   0.985   </td><td style=\"text-align: right;\">     1</td><td style=\"text-align: right;\">        1.95862 </td><td style=\"text-align: right;\"> 0.374292 </td><td style=\"text-align: right;\">  0.0162681 </td><td style=\"text-align: right;\">            0.939277</td></tr>\n",
       "<tr><td>objective_086ae4c8</td><td>TERMINATED</td><td>172.18.13.4:32832</td><td style=\"text-align: right;\">          0.812782</td><td style=\"text-align: right;\">0.789915   </td><td style=\"text-align: right;\">     0.0344487 </td><td style=\"text-align: right;\">          2</td><td style=\"text-align: right;\">           200</td><td>reg:squarederror </td><td style=\"text-align: right;\">2.09352    </td><td style=\"text-align: right;\">   5.2164   </td><td style=\"text-align: right;\">   0.560634</td><td style=\"text-align: right;\">     1</td><td style=\"text-align: right;\">        0.808704</td><td style=\"text-align: right;\"> 0.154318 </td><td style=\"text-align: right;\">  0.00627046</td><td style=\"text-align: right;\">            0.937899</td></tr>\n",
       "<tr><td>objective_f7a5aed0</td><td>TERMINATED</td><td>172.18.13.4:32832</td><td style=\"text-align: right;\">          0.640042</td><td style=\"text-align: right;\">0.22924    </td><td style=\"text-align: right;\">     0.0147754 </td><td style=\"text-align: right;\">          4</td><td style=\"text-align: right;\">           400</td><td>reg:squarederror </td><td style=\"text-align: right;\">0.0717762  </td><td style=\"text-align: right;\">   2.60824  </td><td style=\"text-align: right;\">   0.648837</td><td style=\"text-align: right;\">     1</td><td style=\"text-align: right;\">        2.17961 </td><td style=\"text-align: right;\"> 0.418179 </td><td style=\"text-align: right;\">  0.0166388 </td><td style=\"text-align: right;\">            0.937388</td></tr>\n",
       "<tr><td>objective_945c9755</td><td>TERMINATED</td><td>172.18.13.4:32832</td><td style=\"text-align: right;\">          0.8122  </td><td style=\"text-align: right;\">0.768494   </td><td style=\"text-align: right;\">     0.0361899 </td><td style=\"text-align: right;\">          2</td><td style=\"text-align: right;\">           200</td><td>reg:squarederror </td><td style=\"text-align: right;\">2.38491    </td><td style=\"text-align: right;\">   5.41748  </td><td style=\"text-align: right;\">   0.587075</td><td style=\"text-align: right;\">     1</td><td style=\"text-align: right;\">        0.787251</td><td style=\"text-align: right;\"> 0.14929  </td><td style=\"text-align: right;\">  0.00657253</td><td style=\"text-align: right;\">            0.937629</td></tr>\n",
       "<tr><td>objective_256ef007</td><td>TERMINATED</td><td>172.18.13.4:32832</td><td style=\"text-align: right;\">          0.731644</td><td style=\"text-align: right;\">0.252873   </td><td style=\"text-align: right;\">     0.0157199 </td><td style=\"text-align: right;\">          4</td><td style=\"text-align: right;\">           300</td><td>reg:squarederror </td><td style=\"text-align: right;\">0.20234    </td><td style=\"text-align: right;\">   5.44464  </td><td style=\"text-align: right;\">   0.517529</td><td style=\"text-align: right;\">     1</td><td style=\"text-align: right;\">        1.73269 </td><td style=\"text-align: right;\"> 0.331228 </td><td style=\"text-align: right;\">  0.0138907 </td><td style=\"text-align: right;\">            0.938315</td></tr>\n",
       "<tr><td>objective_205fb923</td><td>TERMINATED</td><td>172.18.13.4:32832</td><td style=\"text-align: right;\">          0.633624</td><td style=\"text-align: right;\">0.227913   </td><td style=\"text-align: right;\">     0.0149018 </td><td style=\"text-align: right;\">          2</td><td style=\"text-align: right;\">           400</td><td>reg:squarederror </td><td style=\"text-align: right;\">0.262208   </td><td style=\"text-align: right;\">   2.4999   </td><td style=\"text-align: right;\">   0.651691</td><td style=\"text-align: right;\">     1</td><td style=\"text-align: right;\">        1.46737 </td><td style=\"text-align: right;\"> 0.280743 </td><td style=\"text-align: right;\">  0.0102943 </td><td style=\"text-align: right;\">            0.939024</td></tr>\n",
       "<tr><td>objective_ec029060</td><td>TERMINATED</td><td>172.18.13.4:32832</td><td style=\"text-align: right;\">          0.654295</td><td style=\"text-align: right;\">0.532607   </td><td style=\"text-align: right;\">     0.0433618 </td><td style=\"text-align: right;\">          4</td><td style=\"text-align: right;\">           200</td><td>reg:squarederror </td><td style=\"text-align: right;\">1.24982    </td><td style=\"text-align: right;\">   4.33358  </td><td style=\"text-align: right;\">   0.611408</td><td style=\"text-align: right;\">     1</td><td style=\"text-align: right;\">        1.15626 </td><td style=\"text-align: right;\"> 0.219626 </td><td style=\"text-align: right;\">  0.0103651 </td><td style=\"text-align: right;\">            0.940887</td></tr>\n",
       "<tr><td>objective_b6f8a33b</td><td>TERMINATED</td><td>172.18.13.4:32832</td><td style=\"text-align: right;\">          0.740541</td><td style=\"text-align: right;\">0.759791   </td><td style=\"text-align: right;\">     0.00606858</td><td style=\"text-align: right;\">          4</td><td style=\"text-align: right;\">           400</td><td>reg:squarederror </td><td style=\"text-align: right;\">0.464206   </td><td style=\"text-align: right;\">   6.0234   </td><td style=\"text-align: right;\">   0.668212</td><td style=\"text-align: right;\">     1</td><td style=\"text-align: right;\">        2.4272  </td><td style=\"text-align: right;\"> 0.467167 </td><td style=\"text-align: right;\">  0.0167944 </td><td style=\"text-align: right;\">            0.941701</td></tr>\n",
       "<tr><td>objective_dc09b81f</td><td>TERMINATED</td><td>172.18.13.4:32832</td><td style=\"text-align: right;\">          0.776596</td><td style=\"text-align: right;\">0.829674   </td><td style=\"text-align: right;\">     0.0139853 </td><td style=\"text-align: right;\">          2</td><td style=\"text-align: right;\">           200</td><td>reg:squarederror </td><td style=\"text-align: right;\">1.83414    </td><td style=\"text-align: right;\">   4.07308  </td><td style=\"text-align: right;\">   0.532662</td><td style=\"text-align: right;\">     1</td><td style=\"text-align: right;\">        0.899611</td><td style=\"text-align: right;\"> 0.171398 </td><td style=\"text-align: right;\">  0.00746202</td><td style=\"text-align: right;\">            0.946284</td></tr>\n",
       "<tr><td>objective_d9424b51</td><td>TERMINATED</td><td>172.18.13.4:32832</td><td style=\"text-align: right;\">          0.844768</td><td style=\"text-align: right;\">0.692509   </td><td style=\"text-align: right;\">     0.0112718 </td><td style=\"text-align: right;\">          4</td><td style=\"text-align: right;\">           300</td><td>reg:squarederror </td><td style=\"text-align: right;\">0.786033   </td><td style=\"text-align: right;\">   0.830557 </td><td style=\"text-align: right;\">   0.610996</td><td style=\"text-align: right;\">     1</td><td style=\"text-align: right;\">        2.64948 </td><td style=\"text-align: right;\"> 0.507483 </td><td style=\"text-align: right;\">  0.017106  </td><td style=\"text-align: right;\">            0.938842</td></tr>\n",
       "<tr><td>objective_61a9d574</td><td>TERMINATED</td><td>172.18.13.4:32832</td><td style=\"text-align: right;\">          0.81459 </td><td style=\"text-align: right;\">0.997452   </td><td style=\"text-align: right;\">     0.0408843 </td><td style=\"text-align: right;\">          5</td><td style=\"text-align: right;\">           200</td><td>reg:squarederror </td><td style=\"text-align: right;\">0.0181602  </td><td style=\"text-align: right;\">   3.08294  </td><td style=\"text-align: right;\">   0.562132</td><td style=\"text-align: right;\">     1</td><td style=\"text-align: right;\">        1.87137 </td><td style=\"text-align: right;\"> 0.356478 </td><td style=\"text-align: right;\">  0.0154355 </td><td style=\"text-align: right;\">            0.945265</td></tr>\n",
       "<tr><td>objective_e63b33bf</td><td>TERMINATED</td><td>172.18.13.4:32832</td><td style=\"text-align: right;\">          0.548645</td><td style=\"text-align: right;\">0.146812   </td><td style=\"text-align: right;\">     0.0775313 </td><td style=\"text-align: right;\">          2</td><td style=\"text-align: right;\">           300</td><td>reg:absoluteerror</td><td style=\"text-align: right;\">2.66325    </td><td style=\"text-align: right;\">   2.4302   </td><td style=\"text-align: right;\">   0.719901</td><td style=\"text-align: right;\">     1</td><td style=\"text-align: right;\">        4.18275 </td><td style=\"text-align: right;\"> 0.826983 </td><td style=\"text-align: right;\">  0.00845084</td><td style=\"text-align: right;\">            0.940237</td></tr>\n",
       "<tr><td>objective_59b81f26</td><td>TERMINATED</td><td>172.18.13.4:32832</td><td style=\"text-align: right;\">          0.721319</td><td style=\"text-align: right;\">0.217177   </td><td style=\"text-align: right;\">     0.00686479</td><td style=\"text-align: right;\">          1</td><td style=\"text-align: right;\">           400</td><td>reg:squarederror </td><td style=\"text-align: right;\">1.37576    </td><td style=\"text-align: right;\">   5.81515  </td><td style=\"text-align: right;\">   0.671439</td><td style=\"text-align: right;\">     1</td><td style=\"text-align: right;\">        1.29245 </td><td style=\"text-align: right;\"> 0.248682 </td><td style=\"text-align: right;\">  0.00759692</td><td style=\"text-align: right;\">            0.958736</td></tr>\n",
       "<tr><td>objective_3e0c053a</td><td>TERMINATED</td><td>172.18.13.4:32832</td><td style=\"text-align: right;\">          0.658487</td><td style=\"text-align: right;\">0.487544   </td><td style=\"text-align: right;\">     0.0104348 </td><td style=\"text-align: right;\">          4</td><td style=\"text-align: right;\">           100</td><td>reg:squarederror </td><td style=\"text-align: right;\">3.47389    </td><td style=\"text-align: right;\">   4.80347  </td><td style=\"text-align: right;\">   0.613347</td><td style=\"text-align: right;\">     1</td><td style=\"text-align: right;\">        0.712935</td><td style=\"text-align: right;\"> 0.1334   </td><td style=\"text-align: right;\">  0.00778437</td><td style=\"text-align: right;\">            0.956159</td></tr>\n",
       "<tr><td>objective_f810392e</td><td>TERMINATED</td><td>172.18.13.4:32832</td><td style=\"text-align: right;\">          0.988027</td><td style=\"text-align: right;\">0.694493   </td><td style=\"text-align: right;\">     0.0191758 </td><td style=\"text-align: right;\">          1</td><td style=\"text-align: right;\">           200</td><td>reg:absoluteerror</td><td style=\"text-align: right;\">4.18554    </td><td style=\"text-align: right;\">   2.33621  </td><td style=\"text-align: right;\">   0.694573</td><td style=\"text-align: right;\">     1</td><td style=\"text-align: right;\">        2.53177 </td><td style=\"text-align: right;\"> 0.499149 </td><td style=\"text-align: right;\">  0.00555859</td><td style=\"text-align: right;\">            0.960615</td></tr>\n",
       "<tr><td>objective_7dedc052</td><td>TERMINATED</td><td>172.18.13.4:32832</td><td style=\"text-align: right;\">          0.757498</td><td style=\"text-align: right;\">0.0935657  </td><td style=\"text-align: right;\">     0.00357501</td><td style=\"text-align: right;\">          6</td><td style=\"text-align: right;\">           400</td><td>reg:squarederror </td><td style=\"text-align: right;\">5.74022    </td><td style=\"text-align: right;\">   3.39235  </td><td style=\"text-align: right;\">   0.53772 </td><td style=\"text-align: right;\">     1</td><td style=\"text-align: right;\">        4.8909  </td><td style=\"text-align: right;\"> 0.946173 </td><td style=\"text-align: right;\">  0.0301107 </td><td style=\"text-align: right;\">            0.946258</td></tr>\n",
       "<tr><td>objective_862732a5</td><td>TERMINATED</td><td>172.18.13.4:32832</td><td style=\"text-align: right;\">          0.817698</td><td style=\"text-align: right;\">0.280037   </td><td style=\"text-align: right;\">     0.00503471</td><td style=\"text-align: right;\">          5</td><td style=\"text-align: right;\">           300</td><td>reg:absoluteerror</td><td style=\"text-align: right;\">0.847148   </td><td style=\"text-align: right;\">   4.87866  </td><td style=\"text-align: right;\">   0.585454</td><td style=\"text-align: right;\">     1</td><td style=\"text-align: right;\">        5.20618 </td><td style=\"text-align: right;\"> 1.0218   </td><td style=\"text-align: right;\">  0.0181282 </td><td style=\"text-align: right;\">            0.952336</td></tr>\n",
       "<tr><td>objective_27c0ae5e</td><td>TERMINATED</td><td>172.18.13.4:32832</td><td style=\"text-align: right;\">          0.714132</td><td style=\"text-align: right;\">0.419282   </td><td style=\"text-align: right;\">     0.00817521</td><td style=\"text-align: right;\">          1</td><td style=\"text-align: right;\">           200</td><td>reg:squarederror </td><td style=\"text-align: right;\">1.99826    </td><td style=\"text-align: right;\">   0.950181 </td><td style=\"text-align: right;\">   0.73873 </td><td style=\"text-align: right;\">     1</td><td style=\"text-align: right;\">        0.655766</td><td style=\"text-align: right;\"> 0.124539 </td><td style=\"text-align: right;\">  0.00555873</td><td style=\"text-align: right;\">            0.967527</td></tr>\n",
       "<tr><td>objective_c44e20a7</td><td>TERMINATED</td><td>172.18.13.4:32832</td><td style=\"text-align: right;\">          0.845877</td><td style=\"text-align: right;\">0.545138   </td><td style=\"text-align: right;\">     0.0356153 </td><td style=\"text-align: right;\">          2</td><td style=\"text-align: right;\">           500</td><td>reg:absoluteerror</td><td style=\"text-align: right;\">3.14008    </td><td style=\"text-align: right;\">   3.84739  </td><td style=\"text-align: right;\">   0.630152</td><td style=\"text-align: right;\">     1</td><td style=\"text-align: right;\">        6.09832 </td><td style=\"text-align: right;\"> 1.20733  </td><td style=\"text-align: right;\">  0.0110878 </td><td style=\"text-align: right;\">            0.940032</td></tr>\n",
       "<tr><td>objective_e11a100e</td><td>TERMINATED</td><td>172.18.13.4:32832</td><td style=\"text-align: right;\">          0.670336</td><td style=\"text-align: right;\">0.18287    </td><td style=\"text-align: right;\">     0.0196281 </td><td style=\"text-align: right;\">          4</td><td style=\"text-align: right;\">           100</td><td>reg:squarederror </td><td style=\"text-align: right;\">1.51006    </td><td style=\"text-align: right;\">   9.92174  </td><td style=\"text-align: right;\">   0.578265</td><td style=\"text-align: right;\">     1</td><td style=\"text-align: right;\">        0.789584</td><td style=\"text-align: right;\"> 0.148983 </td><td style=\"text-align: right;\">  0.0075582 </td><td style=\"text-align: right;\">            0.944368</td></tr>\n",
       "<tr><td>objective_91351ea8</td><td>TERMINATED</td><td>172.18.13.4:32832</td><td style=\"text-align: right;\">          0.625348</td><td style=\"text-align: right;\">0.297535   </td><td style=\"text-align: right;\">     0.0500027 </td><td style=\"text-align: right;\">          3</td><td style=\"text-align: right;\">           200</td><td>reg:squarederror </td><td style=\"text-align: right;\">4.3907     </td><td style=\"text-align: right;\">   7.94614  </td><td style=\"text-align: right;\">   0.684192</td><td style=\"text-align: right;\">     1</td><td style=\"text-align: right;\">        1.425   </td><td style=\"text-align: right;\"> 0.214464 </td><td style=\"text-align: right;\">  0.0472798 </td><td style=\"text-align: right;\">            0.938164</td></tr>\n",
       "<tr><td>objective_159d0a79</td><td>TERMINATED</td><td>172.18.13.4:32832</td><td style=\"text-align: right;\">          0.898242</td><td style=\"text-align: right;\">0.60543    </td><td style=\"text-align: right;\">     0.0125844 </td><td style=\"text-align: right;\">          6</td><td style=\"text-align: right;\">           400</td><td>reg:squarederror </td><td style=\"text-align: right;\">6.7178     </td><td style=\"text-align: right;\">   7.54833  </td><td style=\"text-align: right;\">   0.511029</td><td style=\"text-align: right;\">     1</td><td style=\"text-align: right;\">        4.50573 </td><td style=\"text-align: right;\"> 0.870714 </td><td style=\"text-align: right;\">  0.0292348 </td><td style=\"text-align: right;\">            0.941031</td></tr>\n",
       "<tr><td>objective_8ddceac8</td><td>TERMINATED</td><td>172.18.13.4:32832</td><td style=\"text-align: right;\">          0.564532</td><td style=\"text-align: right;\">0.840924   </td><td style=\"text-align: right;\">     0.00866657</td><td style=\"text-align: right;\">          3</td><td style=\"text-align: right;\">           500</td><td>reg:absoluteerror</td><td style=\"text-align: right;\">2.64533    </td><td style=\"text-align: right;\">   1.94963  </td><td style=\"text-align: right;\">   0.71069 </td><td style=\"text-align: right;\">     1</td><td style=\"text-align: right;\">        7.12464 </td><td style=\"text-align: right;\"> 1.4066   </td><td style=\"text-align: right;\">  0.0171276 </td><td style=\"text-align: right;\">            0.944377</td></tr>\n",
       "<tr><td>objective_3db2a42d</td><td>TERMINATED</td><td>172.18.13.4:32832</td><td style=\"text-align: right;\">          0.789571</td><td style=\"text-align: right;\">0.370806   </td><td style=\"text-align: right;\">     0.00306707</td><td style=\"text-align: right;\">          5</td><td style=\"text-align: right;\">           200</td><td>reg:squarederror </td><td style=\"text-align: right;\">5.59636    </td><td style=\"text-align: right;\">   0.490733 </td><td style=\"text-align: right;\">   0.77986 </td><td style=\"text-align: right;\">     1</td><td style=\"text-align: right;\">        1.7696  </td><td style=\"text-align: right;\"> 0.33841  </td><td style=\"text-align: right;\">  0.0133217 </td><td style=\"text-align: right;\">            0.964553</td></tr>\n",
       "<tr><td>objective_c5ad23f7</td><td>TERMINATED</td><td>172.18.13.4:32832</td><td style=\"text-align: right;\">          0.755856</td><td style=\"text-align: right;\">0.11421    </td><td style=\"text-align: right;\">     0.0822681 </td><td style=\"text-align: right;\">          1</td><td style=\"text-align: right;\">           100</td><td>reg:squarederror </td><td style=\"text-align: right;\">0.988945   </td><td style=\"text-align: right;\">   2.83284  </td><td style=\"text-align: right;\">   0.740286</td><td style=\"text-align: right;\">     1</td><td style=\"text-align: right;\">        0.396713</td><td style=\"text-align: right;\"> 0.0733642</td><td style=\"text-align: right;\">  0.00488801</td><td style=\"text-align: right;\">            0.943432</td></tr>\n",
       "<tr><td>objective_cd690a0a</td><td>TERMINATED</td><td>172.18.13.4:32832</td><td style=\"text-align: right;\">          0.534275</td><td style=\"text-align: right;\">0.919699   </td><td style=\"text-align: right;\">     0.00437996</td><td style=\"text-align: right;\">          3</td><td style=\"text-align: right;\">           300</td><td>reg:squarederror </td><td style=\"text-align: right;\">3.32089    </td><td style=\"text-align: right;\">   4.49375  </td><td style=\"text-align: right;\">   0.86825 </td><td style=\"text-align: right;\">     1</td><td style=\"text-align: right;\">        1.38092 </td><td style=\"text-align: right;\"> 0.264403 </td><td style=\"text-align: right;\">  0.0104151 </td><td style=\"text-align: right;\">            0.955813</td></tr>\n",
       "<tr><td>objective_3981a015</td><td>TERMINATED</td><td>172.18.13.4:32832</td><td style=\"text-align: right;\">          0.95959 </td><td style=\"text-align: right;\">0.649446   </td><td style=\"text-align: right;\">     0.0016502 </td><td style=\"text-align: right;\">          2</td><td style=\"text-align: right;\">           400</td><td>reg:absoluteerror</td><td style=\"text-align: right;\">3.84707    </td><td style=\"text-align: right;\">   6.30867  </td><td style=\"text-align: right;\">   0.547681</td><td style=\"text-align: right;\">     1</td><td style=\"text-align: right;\">        5.04843 </td><td style=\"text-align: right;\"> 0.998002 </td><td style=\"text-align: right;\">  0.0102802 </td><td style=\"text-align: right;\">            0.97984 </td></tr>\n",
       "<tr><td>objective_858000fc</td><td>TERMINATED</td><td>172.18.13.4:32832</td><td style=\"text-align: right;\">          0.50391 </td><td style=\"text-align: right;\">0.492855   </td><td style=\"text-align: right;\">     0.0305009 </td><td style=\"text-align: right;\">          4</td><td style=\"text-align: right;\">           200</td><td>reg:squarederror </td><td style=\"text-align: right;\">2.34829    </td><td style=\"text-align: right;\">   5.69079  </td><td style=\"text-align: right;\">   0.634798</td><td style=\"text-align: right;\">     1</td><td style=\"text-align: right;\">        1.37068 </td><td style=\"text-align: right;\"> 0.259799 </td><td style=\"text-align: right;\">  0.0122688 </td><td style=\"text-align: right;\">            0.93829 </td></tr>\n",
       "<tr><td>objective_ff1cb8ba</td><td>TERMINATED</td><td>172.18.13.4:32832</td><td style=\"text-align: right;\">          0.689912</td><td style=\"text-align: right;\">0.73174    </td><td style=\"text-align: right;\">     0.0605712 </td><td style=\"text-align: right;\">          3</td><td style=\"text-align: right;\">           500</td><td>reg:squarederror </td><td style=\"text-align: right;\">0.49003    </td><td style=\"text-align: right;\">   3.508    </td><td style=\"text-align: right;\">   0.811234</td><td style=\"text-align: right;\">     1</td><td style=\"text-align: right;\">        2.09213 </td><td style=\"text-align: right;\"> 0.400737 </td><td style=\"text-align: right;\">  0.0161078 </td><td style=\"text-align: right;\">            0.946613</td></tr>\n",
       "<tr><td>objective_6917984f</td><td>TERMINATED</td><td>172.18.13.4:32832</td><td style=\"text-align: right;\">          0.576439</td><td style=\"text-align: right;\">0.44501    </td><td style=\"text-align: right;\">     0.0175281 </td><td style=\"text-align: right;\">          5</td><td style=\"text-align: right;\">           400</td><td>reg:absoluteerror</td><td style=\"text-align: right;\">1.56362    </td><td style=\"text-align: right;\">   8.4623   </td><td style=\"text-align: right;\">   0.598634</td><td style=\"text-align: right;\">     1</td><td style=\"text-align: right;\">        6.2471  </td><td style=\"text-align: right;\"> 1.22322  </td><td style=\"text-align: right;\">  0.0234459 </td><td style=\"text-align: right;\">            0.941679</td></tr>\n",
       "<tr><td>objective_eaf8ad1d</td><td>TERMINATED</td><td>172.18.13.4:32832</td><td style=\"text-align: right;\">          0.893158</td><td style=\"text-align: right;\">0.995839   </td><td style=\"text-align: right;\">     0.022163  </td><td style=\"text-align: right;\">          6</td><td style=\"text-align: right;\">           100</td><td>reg:squarederror </td><td style=\"text-align: right;\">9.91038    </td><td style=\"text-align: right;\">   1.83585  </td><td style=\"text-align: right;\">   0.671147</td><td style=\"text-align: right;\">     1</td><td style=\"text-align: right;\">        1.31238 </td><td style=\"text-align: right;\"> 0.248548 </td><td style=\"text-align: right;\">  0.0116813 </td><td style=\"text-align: right;\">            0.942426</td></tr>\n",
       "<tr><td>objective_018a9448</td><td>TERMINATED</td><td>172.18.13.4:32832</td><td style=\"text-align: right;\">          0.638103</td><td style=\"text-align: right;\">0.361101   </td><td style=\"text-align: right;\">     0.0997684 </td><td style=\"text-align: right;\">          1</td><td style=\"text-align: right;\">           500</td><td>reg:squarederror </td><td style=\"text-align: right;\">4.5559     </td><td style=\"text-align: right;\">   6.49588  </td><td style=\"text-align: right;\">   0.649125</td><td style=\"text-align: right;\">     1</td><td style=\"text-align: right;\">        1.41918 </td><td style=\"text-align: right;\"> 0.27504  </td><td style=\"text-align: right;\">  0.00766544</td><td style=\"text-align: right;\">            0.937527</td></tr>\n",
       "<tr><td>objective_973f2c48</td><td>TERMINATED</td><td>172.18.13.4:32832</td><td style=\"text-align: right;\">          0.865744</td><td style=\"text-align: right;\">0.871926   </td><td style=\"text-align: right;\">     0.00696805</td><td style=\"text-align: right;\">          2</td><td style=\"text-align: right;\">           400</td><td>reg:squarederror </td><td style=\"text-align: right;\">5.27344    </td><td style=\"text-align: right;\">   7.21585  </td><td style=\"text-align: right;\">   0.50031 </td><td style=\"text-align: right;\">     1</td><td style=\"text-align: right;\">        1.55721 </td><td style=\"text-align: right;\"> 0.299914 </td><td style=\"text-align: right;\">  0.00928793</td><td style=\"text-align: right;\">            0.946693</td></tr>\n",
       "<tr><td>objective_625153b4</td><td>TERMINATED</td><td>172.18.13.4:32832</td><td style=\"text-align: right;\">          0.634999</td><td style=\"text-align: right;\">0.187509   </td><td style=\"text-align: right;\">     0.00129586</td><td style=\"text-align: right;\">          5</td><td style=\"text-align: right;\">           500</td><td>reg:squarederror </td><td style=\"text-align: right;\">7.63584    </td><td style=\"text-align: right;\">   6.37952  </td><td style=\"text-align: right;\">   0.755462</td><td style=\"text-align: right;\">     1</td><td style=\"text-align: right;\">        4.00394 </td><td style=\"text-align: right;\"> 0.770305 </td><td style=\"text-align: right;\">  0.029087  </td><td style=\"text-align: right;\">            0.965094</td></tr>\n",
       "<tr><td>objective_d0c9f088</td><td>TERMINATED</td><td>172.18.13.4:32832</td><td style=\"text-align: right;\">          0.589233</td><td style=\"text-align: right;\">0.354789   </td><td style=\"text-align: right;\">     0.0909233 </td><td style=\"text-align: right;\">          4</td><td style=\"text-align: right;\">           500</td><td>reg:absoluteerror</td><td style=\"text-align: right;\">6.12731    </td><td style=\"text-align: right;\">   3.84788  </td><td style=\"text-align: right;\">   0.792749</td><td style=\"text-align: right;\">     1</td><td style=\"text-align: right;\">        7.43988 </td><td style=\"text-align: right;\"> 1.46606  </td><td style=\"text-align: right;\">  0.0205196 </td><td style=\"text-align: right;\">            0.955594</td></tr>\n",
       "<tr><td>objective_dcc92fc8</td><td>TERMINATED</td><td>172.18.13.4:32832</td><td style=\"text-align: right;\">          0.529052</td><td style=\"text-align: right;\">0.0120547  </td><td style=\"text-align: right;\">     0.0026313 </td><td style=\"text-align: right;\">          3</td><td style=\"text-align: right;\">           500</td><td>reg:squarederror </td><td style=\"text-align: right;\">8.88075    </td><td style=\"text-align: right;\">   6.76519  </td><td style=\"text-align: right;\">   0.83788 </td><td style=\"text-align: right;\">     1</td><td style=\"text-align: right;\">        2.29694 </td><td style=\"text-align: right;\"> 0.440449 </td><td style=\"text-align: right;\">  0.0168473 </td><td style=\"text-align: right;\">            0.956635</td></tr>\n",
       "<tr><td>objective_a8469e55</td><td>TERMINATED</td><td>172.18.13.4:32832</td><td style=\"text-align: right;\">          0.619043</td><td style=\"text-align: right;\">0.302226   </td><td style=\"text-align: right;\">     0.0694484 </td><td style=\"text-align: right;\">          4</td><td style=\"text-align: right;\">           500</td><td>reg:squarederror </td><td style=\"text-align: right;\">6.72254    </td><td style=\"text-align: right;\">   1.32738  </td><td style=\"text-align: right;\">   0.655386</td><td style=\"text-align: right;\">     1</td><td style=\"text-align: right;\">        3.17051 </td><td style=\"text-align: right;\"> 0.609592 </td><td style=\"text-align: right;\">  0.0228589 </td><td style=\"text-align: right;\">            0.959065</td></tr>\n",
       "<tr><td>objective_16dda4a3</td><td>TERMINATED</td><td>172.18.13.4:32832</td><td style=\"text-align: right;\">          0.704787</td><td style=\"text-align: right;\">0.0557924  </td><td style=\"text-align: right;\">     0.0527869 </td><td style=\"text-align: right;\">          6</td><td style=\"text-align: right;\">           500</td><td>reg:squarederror </td><td style=\"text-align: right;\">9.44155    </td><td style=\"text-align: right;\">   8.62439  </td><td style=\"text-align: right;\">   0.883671</td><td style=\"text-align: right;\">     1</td><td style=\"text-align: right;\">        4.87756 </td><td style=\"text-align: right;\"> 0.938872 </td><td style=\"text-align: right;\">  0.0353188 </td><td style=\"text-align: right;\">            0.969636</td></tr>\n",
       "<tr><td>objective_89736d6a</td><td>TERMINATED</td><td>172.18.13.4:32832</td><td style=\"text-align: right;\">          0.652143</td><td style=\"text-align: right;\">0.397474   </td><td style=\"text-align: right;\">     0.00168908</td><td style=\"text-align: right;\">          5</td><td style=\"text-align: right;\">           500</td><td>reg:squarederror </td><td style=\"text-align: right;\">4.62815    </td><td style=\"text-align: right;\">   9.92172  </td><td style=\"text-align: right;\">   0.955732</td><td style=\"text-align: right;\">     1</td><td style=\"text-align: right;\">        3.75028 </td><td style=\"text-align: right;\"> 0.720527 </td><td style=\"text-align: right;\">  0.0269702 </td><td style=\"text-align: right;\">            0.959117</td></tr>\n",
       "<tr><td>objective_ac8436d6</td><td>TERMINATED</td><td>172.18.13.4:32832</td><td style=\"text-align: right;\">          0.674726</td><td style=\"text-align: right;\">0.266964   </td><td style=\"text-align: right;\">     0.0976304 </td><td style=\"text-align: right;\">          3</td><td style=\"text-align: right;\">           500</td><td>reg:absoluteerror</td><td style=\"text-align: right;\">7.38932    </td><td style=\"text-align: right;\">   7.62255  </td><td style=\"text-align: right;\">   0.565093</td><td style=\"text-align: right;\">     1</td><td style=\"text-align: right;\">        6.38383 </td><td style=\"text-align: right;\"> 1.25998  </td><td style=\"text-align: right;\">  0.0156833 </td><td style=\"text-align: right;\">            0.949543</td></tr>\n",
       "<tr><td>objective_3acb45c5</td><td>TERMINATED</td><td>172.18.13.4:32832</td><td style=\"text-align: right;\">          0.502125</td><td style=\"text-align: right;\">0.572885   </td><td style=\"text-align: right;\">     0.00233014</td><td style=\"text-align: right;\">          4</td><td style=\"text-align: right;\">           400</td><td>reg:squarederror </td><td style=\"text-align: right;\">6.21543    </td><td style=\"text-align: right;\">   5.10576  </td><td style=\"text-align: right;\">   0.733304</td><td style=\"text-align: right;\">     1</td><td style=\"text-align: right;\">        2.27217 </td><td style=\"text-align: right;\"> 0.435576 </td><td style=\"text-align: right;\">  0.0176827 </td><td style=\"text-align: right;\">            0.960751</td></tr>\n",
       "<tr><td>objective_92014271</td><td>TERMINATED</td><td>172.18.13.4:32832</td><td style=\"text-align: right;\">          0.590229</td><td style=\"text-align: right;\">0.333546   </td><td style=\"text-align: right;\">     0.02228   </td><td style=\"text-align: right;\">          1</td><td style=\"text-align: right;\">           300</td><td>reg:squarederror </td><td style=\"text-align: right;\">3.85204    </td><td style=\"text-align: right;\">   4.54786  </td><td style=\"text-align: right;\">   0.625809</td><td style=\"text-align: right;\">     1</td><td style=\"text-align: right;\">        0.844507</td><td style=\"text-align: right;\"> 0.161767 </td><td style=\"text-align: right;\">  0.00605764</td><td style=\"text-align: right;\">            0.94536 </td></tr>\n",
       "<tr><td>objective_b35d175f</td><td>TERMINATED</td><td>172.18.13.4:32832</td><td style=\"text-align: right;\">          0.642507</td><td style=\"text-align: right;\">0.231716   </td><td style=\"text-align: right;\">     0.00501024</td><td style=\"text-align: right;\">          3</td><td style=\"text-align: right;\">           400</td><td>reg:squarederror </td><td style=\"text-align: right;\">9.01452    </td><td style=\"text-align: right;\">   9.0061   </td><td style=\"text-align: right;\">   0.830306</td><td style=\"text-align: right;\">     1</td><td style=\"text-align: right;\">        1.89388 </td><td style=\"text-align: right;\"> 0.362644 </td><td style=\"text-align: right;\">  0.0138702 </td><td style=\"text-align: right;\">            0.948705</td></tr>\n",
       "<tr><td>objective_0e3e1cdc</td><td>TERMINATED</td><td>172.18.13.4:32832</td><td style=\"text-align: right;\">          0.608365</td><td style=\"text-align: right;\">0.0899259  </td><td style=\"text-align: right;\">     0.0011126 </td><td style=\"text-align: right;\">          5</td><td style=\"text-align: right;\">           100</td><td>reg:squarederror </td><td style=\"text-align: right;\">7.7947     </td><td style=\"text-align: right;\">   9.52379  </td><td style=\"text-align: right;\">   0.710315</td><td style=\"text-align: right;\">     1</td><td style=\"text-align: right;\">        0.894619</td><td style=\"text-align: right;\"> 0.167414 </td><td style=\"text-align: right;\">  0.00920773</td><td style=\"text-align: right;\">            0.991942</td></tr>\n",
       "<tr><td>objective_c8c11288</td><td>TERMINATED</td><td>172.18.13.4:32832</td><td style=\"text-align: right;\">          0.773077</td><td style=\"text-align: right;\">0.460474   </td><td style=\"text-align: right;\">     0.0408452 </td><td style=\"text-align: right;\">          1</td><td style=\"text-align: right;\">           200</td><td>reg:squarederror </td><td style=\"text-align: right;\">2.29569    </td><td style=\"text-align: right;\">   5.37642  </td><td style=\"text-align: right;\">   0.600678</td><td style=\"text-align: right;\">     1</td><td style=\"text-align: right;\">        0.682457</td><td style=\"text-align: right;\"> 0.128061 </td><td style=\"text-align: right;\">  0.00629044</td><td style=\"text-align: right;\">            0.942618</td></tr>\n",
       "<tr><td>objective_b0596a8a</td><td>TERMINATED</td><td>172.18.13.4:32832</td><td style=\"text-align: right;\">          0.738705</td><td style=\"text-align: right;\">0.523756   </td><td style=\"text-align: right;\">     0.0302256 </td><td style=\"text-align: right;\">          2</td><td style=\"text-align: right;\">           200</td><td>reg:squarederror </td><td style=\"text-align: right;\">2.75737    </td><td style=\"text-align: right;\">   8.14176  </td><td style=\"text-align: right;\">   0.640302</td><td style=\"text-align: right;\">     1</td><td style=\"text-align: right;\">        0.854893</td><td style=\"text-align: right;\"> 0.16312  </td><td style=\"text-align: right;\">  0.00640697</td><td style=\"text-align: right;\">            0.938914</td></tr>\n",
       "<tr><td>objective_6d18a9b2</td><td>TERMINATED</td><td>172.18.13.4:32832</td><td style=\"text-align: right;\">          0.835659</td><td style=\"text-align: right;\">0.648122   </td><td style=\"text-align: right;\">     0.0491456 </td><td style=\"text-align: right;\">          1</td><td style=\"text-align: right;\">           200</td><td>reg:squarederror </td><td style=\"text-align: right;\">0.0328497  </td><td style=\"text-align: right;\">   6.17292  </td><td style=\"text-align: right;\">   0.522993</td><td style=\"text-align: right;\">     1</td><td style=\"text-align: right;\">        0.65071 </td><td style=\"text-align: right;\"> 0.123826 </td><td style=\"text-align: right;\">  0.00518303</td><td style=\"text-align: right;\">            0.940166</td></tr>\n",
       "<tr><td>objective_8467f102</td><td>TERMINATED</td><td>172.18.13.4:32832</td><td style=\"text-align: right;\">          0.926782</td><td style=\"text-align: right;\">0.172835   </td><td style=\"text-align: right;\">     0.0344856 </td><td style=\"text-align: right;\">          1</td><td style=\"text-align: right;\">           500</td><td>reg:squarederror </td><td style=\"text-align: right;\">1.16172    </td><td style=\"text-align: right;\">   6.64445  </td><td style=\"text-align: right;\">   0.686508</td><td style=\"text-align: right;\">     1</td><td style=\"text-align: right;\">        1.40787 </td><td style=\"text-align: right;\"> 0.272407 </td><td style=\"text-align: right;\">  0.00795894</td><td style=\"text-align: right;\">            0.938185</td></tr>\n",
       "<tr><td>objective_adc1038d</td><td>TERMINATED</td><td>172.18.13.4:32832</td><td style=\"text-align: right;\">          0.79985 </td><td style=\"text-align: right;\">0.420522   </td><td style=\"text-align: right;\">     0.0129512 </td><td style=\"text-align: right;\">          2</td><td style=\"text-align: right;\">           300</td><td>reg:squarederror </td><td style=\"text-align: right;\">5.14659    </td><td style=\"text-align: right;\">   5.66357  </td><td style=\"text-align: right;\">   0.655821</td><td style=\"text-align: right;\">     1</td><td style=\"text-align: right;\">        1.17881 </td><td style=\"text-align: right;\"> 0.225719 </td><td style=\"text-align: right;\">  0.00821724</td><td style=\"text-align: right;\">            0.943129</td></tr>\n",
       "<tr><td>objective_cc12bd16</td><td>TERMINATED</td><td>172.18.13.4:32832</td><td style=\"text-align: right;\">          0.721592</td><td style=\"text-align: right;\">0.581356   </td><td style=\"text-align: right;\">     0.00948429</td><td style=\"text-align: right;\">          1</td><td style=\"text-align: right;\">           400</td><td>reg:squarederror </td><td style=\"text-align: right;\">3.12371    </td><td style=\"text-align: right;\">   7.32577  </td><td style=\"text-align: right;\">   0.546351</td><td style=\"text-align: right;\">     1</td><td style=\"text-align: right;\">        1.14018 </td><td style=\"text-align: right;\"> 0.220172 </td><td style=\"text-align: right;\">  0.00643291</td><td style=\"text-align: right;\">            0.952852</td></tr>\n",
       "<tr><td>objective_06a8f142</td><td>TERMINATED</td><td>172.18.13.4:32832</td><td style=\"text-align: right;\">          0.666429</td><td style=\"text-align: right;\">0.310351   </td><td style=\"text-align: right;\">     0.0114872 </td><td style=\"text-align: right;\">          2</td><td style=\"text-align: right;\">           200</td><td>reg:squarederror </td><td style=\"text-align: right;\">1.86198    </td><td style=\"text-align: right;\">   3.12168  </td><td style=\"text-align: right;\">   0.595664</td><td style=\"text-align: right;\">     1</td><td style=\"text-align: right;\">        0.815224</td><td style=\"text-align: right;\"> 0.154055 </td><td style=\"text-align: right;\">  0.00663261</td><td style=\"text-align: right;\">            0.950308</td></tr>\n",
       "<tr><td>objective_30b8bc79</td><td>TERMINATED</td><td>172.18.13.4:32832</td><td style=\"text-align: right;\">          0.702089</td><td style=\"text-align: right;\">0.245374   </td><td style=\"text-align: right;\">     0.0166131 </td><td style=\"text-align: right;\">          1</td><td style=\"text-align: right;\">           400</td><td>reg:squarederror </td><td style=\"text-align: right;\">4.2127     </td><td style=\"text-align: right;\">   4.15279  </td><td style=\"text-align: right;\">   0.5694  </td><td style=\"text-align: right;\">     1</td><td style=\"text-align: right;\">        1.22219 </td><td style=\"text-align: right;\"> 0.235139 </td><td style=\"text-align: right;\">  0.00709372</td><td style=\"text-align: right;\">            0.944914</td></tr>\n",
       "<tr><td>objective_85d4f450</td><td>TERMINATED</td><td>172.18.13.4:32832</td><td style=\"text-align: right;\">          0.680159</td><td style=\"text-align: right;\">0.203415   </td><td style=\"text-align: right;\">     0.0234917 </td><td style=\"text-align: right;\">          2</td><td style=\"text-align: right;\">           500</td><td>reg:squarederror </td><td style=\"text-align: right;\">0.553897   </td><td style=\"text-align: right;\">   2.75794  </td><td style=\"text-align: right;\">   0.676741</td><td style=\"text-align: right;\">     1</td><td style=\"text-align: right;\">        1.77172 </td><td style=\"text-align: right;\"> 0.341936 </td><td style=\"text-align: right;\">  0.0107821 </td><td style=\"text-align: right;\">            0.937332</td></tr>\n",
       "<tr><td>objective_cdb923b4</td><td>TERMINATED</td><td>172.18.13.4:32832</td><td style=\"text-align: right;\">          0.569396</td><td style=\"text-align: right;\">0.714357   </td><td style=\"text-align: right;\">     0.060622  </td><td style=\"text-align: right;\">          2</td><td style=\"text-align: right;\">           200</td><td>reg:squarederror </td><td style=\"text-align: right;\">4.69738    </td><td style=\"text-align: right;\">   5.98838  </td><td style=\"text-align: right;\">   0.61452 </td><td style=\"text-align: right;\">     1</td><td style=\"text-align: right;\">        0.807879</td><td style=\"text-align: right;\"> 0.153576 </td><td style=\"text-align: right;\">  0.00655007</td><td style=\"text-align: right;\">            0.937016</td></tr>\n",
       "<tr><td>objective_70078b0e</td><td>TERMINATED</td><td>172.18.13.4:32832</td><td style=\"text-align: right;\">          0.684735</td><td style=\"text-align: right;\">0.131796   </td><td style=\"text-align: right;\">     0.00710227</td><td style=\"text-align: right;\">          4</td><td style=\"text-align: right;\">           500</td><td>reg:squarederror </td><td style=\"text-align: right;\">0.633572   </td><td style=\"text-align: right;\">   2.53492  </td><td style=\"text-align: right;\">   0.680942</td><td style=\"text-align: right;\">     1</td><td style=\"text-align: right;\">        3.07384 </td><td style=\"text-align: right;\"> 0.590737 </td><td style=\"text-align: right;\">  0.021119  </td><td style=\"text-align: right;\">            0.939098</td></tr>\n",
       "<tr><td>objective_6a5c923b</td><td>TERMINATED</td><td>172.18.13.4:32832</td><td style=\"text-align: right;\">          0.534541</td><td style=\"text-align: right;\">0.726313   </td><td style=\"text-align: right;\">     0.0231506 </td><td style=\"text-align: right;\">          3</td><td style=\"text-align: right;\">           200</td><td>reg:absoluteerror</td><td style=\"text-align: right;\">0.34171    </td><td style=\"text-align: right;\">   2.20851  </td><td style=\"text-align: right;\">   0.620672</td><td style=\"text-align: right;\">     1</td><td style=\"text-align: right;\">        2.64057 </td><td style=\"text-align: right;\"> 0.518314 </td><td style=\"text-align: right;\">  0.00834217</td><td style=\"text-align: right;\">            0.943972</td></tr>\n",
       "<tr><td>objective_3cc22808</td><td>TERMINATED</td><td>172.18.13.4:32832</td><td style=\"text-align: right;\">          0.572167</td><td style=\"text-align: right;\">0.205618   </td><td style=\"text-align: right;\">     0.0288724 </td><td style=\"text-align: right;\">          2</td><td style=\"text-align: right;\">           100</td><td>reg:squarederror </td><td style=\"text-align: right;\">7.03886    </td><td style=\"text-align: right;\">   2.81423  </td><td style=\"text-align: right;\">   0.714509</td><td style=\"text-align: right;\">     1</td><td style=\"text-align: right;\">        0.482144</td><td style=\"text-align: right;\"> 0.0898135</td><td style=\"text-align: right;\">  0.00525908</td><td style=\"text-align: right;\">            0.94778 </td></tr>\n",
       "<tr><td>objective_bd92b9ff</td><td>TERMINATED</td><td>172.18.13.4:32832</td><td style=\"text-align: right;\">          0.551296</td><td style=\"text-align: right;\">0.80589    </td><td style=\"text-align: right;\">     0.0573397 </td><td style=\"text-align: right;\">          2</td><td style=\"text-align: right;\">           300</td><td>reg:squarederror </td><td style=\"text-align: right;\">0.000522047</td><td style=\"text-align: right;\">   0.456638 </td><td style=\"text-align: right;\">   0.772118</td><td style=\"text-align: right;\">     1</td><td style=\"text-align: right;\">        0.990349</td><td style=\"text-align: right;\"> 0.188398 </td><td style=\"text-align: right;\">  0.00806065</td><td style=\"text-align: right;\">            0.937923</td></tr>\n",
       "<tr><td>objective_e1fa5fd9</td><td>TERMINATED</td><td>172.18.13.4:32832</td><td style=\"text-align: right;\">          0.611989</td><td style=\"text-align: right;\">0.0327671  </td><td style=\"text-align: right;\">     0.0136026 </td><td style=\"text-align: right;\">          3</td><td style=\"text-align: right;\">           400</td><td>reg:squarederror </td><td style=\"text-align: right;\">1.05672    </td><td style=\"text-align: right;\">   2.03963  </td><td style=\"text-align: right;\">   0.698461</td><td style=\"text-align: right;\">     1</td><td style=\"text-align: right;\">        1.85952 </td><td style=\"text-align: right;\"> 0.356684 </td><td style=\"text-align: right;\">  0.0140428 </td><td style=\"text-align: right;\">            0.938387</td></tr>\n",
       "<tr><td>objective_c423f7f6</td><td>TERMINATED</td><td>172.18.13.4:32832</td><td style=\"text-align: right;\">          0.592159</td><td style=\"text-align: right;\">0.668949   </td><td style=\"text-align: right;\">     0.0439756 </td><td style=\"text-align: right;\">          2</td><td style=\"text-align: right;\">           200</td><td>reg:absoluteerror</td><td style=\"text-align: right;\">1.80526    </td><td style=\"text-align: right;\">   1.46988  </td><td style=\"text-align: right;\">   0.749708</td><td style=\"text-align: right;\">     1</td><td style=\"text-align: right;\">        2.65332 </td><td style=\"text-align: right;\"> 0.521343 </td><td style=\"text-align: right;\">  0.00706921</td><td style=\"text-align: right;\">            0.942193</td></tr>\n",
       "<tr><td>objective_c229d641</td><td>TERMINATED</td><td>172.18.13.4:32832</td><td style=\"text-align: right;\">          0.513702</td><td style=\"text-align: right;\">0.075862   </td><td style=\"text-align: right;\">     0.0689477 </td><td style=\"text-align: right;\">          3</td><td style=\"text-align: right;\">           400</td><td>reg:squarederror </td><td style=\"text-align: right;\">0.616797   </td><td style=\"text-align: right;\">   3.40747  </td><td style=\"text-align: right;\">   0.727503</td><td style=\"text-align: right;\">     1</td><td style=\"text-align: right;\">        1.75707 </td><td style=\"text-align: right;\"> 0.333927 </td><td style=\"text-align: right;\">  0.0147262 </td><td style=\"text-align: right;\">            0.944854</td></tr>\n",
       "<tr><td>objective_f6737dbe</td><td>TERMINATED</td><td>172.18.13.4:32832</td><td style=\"text-align: right;\">          0.561858</td><td style=\"text-align: right;\">0.519187   </td><td style=\"text-align: right;\">     0.0183893 </td><td style=\"text-align: right;\">          4</td><td style=\"text-align: right;\">           100</td><td>reg:squarederror </td><td style=\"text-align: right;\">8.07785    </td><td style=\"text-align: right;\">   3.78988  </td><td style=\"text-align: right;\">   0.793962</td><td style=\"text-align: right;\">     1</td><td style=\"text-align: right;\">        0.728329</td><td style=\"text-align: right;\"> 0.136542 </td><td style=\"text-align: right;\">  0.00756655</td><td style=\"text-align: right;\">            0.946755</td></tr>\n",
       "<tr><td>objective_0f0b06b0</td><td>TERMINATED</td><td>172.18.13.4:32832</td><td style=\"text-align: right;\">          0.622139</td><td style=\"text-align: right;\">0.00282955 </td><td style=\"text-align: right;\">     0.0146303 </td><td style=\"text-align: right;\">          3</td><td style=\"text-align: right;\">           200</td><td>reg:squarederror </td><td style=\"text-align: right;\">9.97315    </td><td style=\"text-align: right;\">   4.84841  </td><td style=\"text-align: right;\">   0.616945</td><td style=\"text-align: right;\">     1</td><td style=\"text-align: right;\">        1.00425 </td><td style=\"text-align: right;\"> 0.188798 </td><td style=\"text-align: right;\">  0.00888882</td><td style=\"text-align: right;\">            0.943004</td></tr>\n",
       "<tr><td>objective_67515808</td><td>TERMINATED</td><td>172.18.13.4:32832</td><td style=\"text-align: right;\">          0.646691</td><td style=\"text-align: right;\">0.133203   </td><td style=\"text-align: right;\">     0.0795256 </td><td style=\"text-align: right;\">          2</td><td style=\"text-align: right;\">           500</td><td>reg:squarederror </td><td style=\"text-align: right;\">2.17009    </td><td style=\"text-align: right;\">   1.16934  </td><td style=\"text-align: right;\">   0.665439</td><td style=\"text-align: right;\">     1</td><td style=\"text-align: right;\">        1.66332 </td><td style=\"text-align: right;\"> 0.319182 </td><td style=\"text-align: right;\">  0.0106275 </td><td style=\"text-align: right;\">            0.941667</td></tr>\n",
       "<tr><td>objective_276d905e</td><td>TERMINATED</td><td>172.18.13.4:32832</td><td style=\"text-align: right;\">          0.545483</td><td style=\"text-align: right;\">0.88647    </td><td style=\"text-align: right;\">     0.00939862</td><td style=\"text-align: right;\">          4</td><td style=\"text-align: right;\">           400</td><td>reg:absoluteerror</td><td style=\"text-align: right;\">1.33094    </td><td style=\"text-align: right;\">   2.7708   </td><td style=\"text-align: right;\">   0.549892</td><td style=\"text-align: right;\">     1</td><td style=\"text-align: right;\">        5.50315 </td><td style=\"text-align: right;\"> 1.07832  </td><td style=\"text-align: right;\">  0.0206832 </td><td style=\"text-align: right;\">            0.942855</td></tr>\n",
       "<tr><td>objective_7f1b8f80</td><td>TERMINATED</td><td>172.18.13.4:32832</td><td style=\"text-align: right;\">          0.598349</td><td style=\"text-align: right;\">0.610597   </td><td style=\"text-align: right;\">     0.0209269 </td><td style=\"text-align: right;\">          2</td><td style=\"text-align: right;\">           300</td><td>reg:squarederror </td><td style=\"text-align: right;\">3.35813    </td><td style=\"text-align: right;\">   0.486328 </td><td style=\"text-align: right;\">   0.579854</td><td style=\"text-align: right;\">     1</td><td style=\"text-align: right;\">        1.2809  </td><td style=\"text-align: right;\"> 0.244373 </td><td style=\"text-align: right;\">  0.00856776</td><td style=\"text-align: right;\">            0.938245</td></tr>\n",
       "<tr><td>objective_bdff7b2d</td><td>TERMINATED</td><td>172.18.13.4:32832</td><td style=\"text-align: right;\">          0.747021</td><td style=\"text-align: right;\">0.951209   </td><td style=\"text-align: right;\">     0.025029  </td><td style=\"text-align: right;\">          3</td><td style=\"text-align: right;\">           200</td><td>reg:squarederror </td><td style=\"text-align: right;\">5.66965    </td><td style=\"text-align: right;\">   1.63743  </td><td style=\"text-align: right;\">   0.606008</td><td style=\"text-align: right;\">     1</td><td style=\"text-align: right;\">        1.01539 </td><td style=\"text-align: right;\"> 0.192552 </td><td style=\"text-align: right;\">  0.00861635</td><td style=\"text-align: right;\">            0.938011</td></tr>\n",
       "<tr><td>objective_cbc76c71</td><td>TERMINATED</td><td>172.18.13.4:32832</td><td style=\"text-align: right;\">          0.663228</td><td style=\"text-align: right;\">0.274998   </td><td style=\"text-align: right;\">     0.0393905 </td><td style=\"text-align: right;\">          4</td><td style=\"text-align: right;\">           500</td><td>reg:squarederror </td><td style=\"text-align: right;\">6.44423    </td><td style=\"text-align: right;\">   5.94927  </td><td style=\"text-align: right;\">   0.638687</td><td style=\"text-align: right;\">     1</td><td style=\"text-align: right;\">        2.88073 </td><td style=\"text-align: right;\"> 0.553655 </td><td style=\"text-align: right;\">  0.0211398 </td><td style=\"text-align: right;\">            0.945529</td></tr>\n",
       "<tr><td>objective_62b2517c</td><td>TERMINATED</td><td>172.18.13.4:32832</td><td style=\"text-align: right;\">          0.76305 </td><td style=\"text-align: right;\">0.158446   </td><td style=\"text-align: right;\">     0.0327429 </td><td style=\"text-align: right;\">          2</td><td style=\"text-align: right;\">           400</td><td>reg:absoluteerror</td><td style=\"text-align: right;\">2.83919    </td><td style=\"text-align: right;\">   4.25777  </td><td style=\"text-align: right;\">   0.663776</td><td style=\"text-align: right;\">     1</td><td style=\"text-align: right;\">        5.24375 </td><td style=\"text-align: right;\"> 1.03473  </td><td style=\"text-align: right;\">  0.0112886 </td><td style=\"text-align: right;\">            0.939726</td></tr>\n",
       "<tr><td>objective_2b6dc999</td><td>TERMINATED</td><td>172.18.13.4:32832</td><td style=\"text-align: right;\">          0.684447</td><td style=\"text-align: right;\">0.55422    </td><td style=\"text-align: right;\">     0.0109723 </td><td style=\"text-align: right;\">          1</td><td style=\"text-align: right;\">           100</td><td>reg:squarederror </td><td style=\"text-align: right;\">0.209284   </td><td style=\"text-align: right;\">   3.20504  </td><td style=\"text-align: right;\">   0.745626</td><td style=\"text-align: right;\">     1</td><td style=\"text-align: right;\">        0.413896</td><td style=\"text-align: right;\"> 0.0756877</td><td style=\"text-align: right;\">  0.00541091</td><td style=\"text-align: right;\">            0.973682</td></tr>\n",
       "<tr><td>objective_ee1093c2</td><td>TERMINATED</td><td>172.18.13.4:32832</td><td style=\"text-align: right;\">          0.721665</td><td style=\"text-align: right;\">0.476996   </td><td style=\"text-align: right;\">     0.0267732 </td><td style=\"text-align: right;\">          5</td><td style=\"text-align: right;\">           500</td><td>reg:squarederror </td><td style=\"text-align: right;\">5.44462    </td><td style=\"text-align: right;\">   4.69606  </td><td style=\"text-align: right;\">   0.693179</td><td style=\"text-align: right;\">     1</td><td style=\"text-align: right;\">        3.69174 </td><td style=\"text-align: right;\"> 0.708893 </td><td style=\"text-align: right;\">  0.0277643 </td><td style=\"text-align: right;\">            0.946627</td></tr>\n",
       "<tr><td>objective_131ea663</td><td>TERMINATED</td><td>172.18.13.4:32832</td><td style=\"text-align: right;\">          0.584365</td><td style=\"text-align: right;\">0.734103   </td><td style=\"text-align: right;\">     0.00594873</td><td style=\"text-align: right;\">          3</td><td style=\"text-align: right;\">           200</td><td>reg:squarederror </td><td style=\"text-align: right;\">3.60633    </td><td style=\"text-align: right;\">   0.888431 </td><td style=\"text-align: right;\">   0.763649</td><td style=\"text-align: right;\">     1</td><td style=\"text-align: right;\">        1.07381 </td><td style=\"text-align: right;\"> 0.203535 </td><td style=\"text-align: right;\">  0.00901604</td><td style=\"text-align: right;\">            0.957334</td></tr>\n",
       "<tr><td>objective_5fa13fbd</td><td>TERMINATED</td><td>172.18.13.4:32832</td><td style=\"text-align: right;\">          0.630853</td><td style=\"text-align: right;\">0.377144   </td><td style=\"text-align: right;\">     0.0160036 </td><td style=\"text-align: right;\">          2</td><td style=\"text-align: right;\">           400</td><td>reg:squarederror </td><td style=\"text-align: right;\">1.69543    </td><td style=\"text-align: right;\">   2.56362  </td><td style=\"text-align: right;\">   0.676733</td><td style=\"text-align: right;\">     1</td><td style=\"text-align: right;\">        1.46253 </td><td style=\"text-align: right;\"> 0.281675 </td><td style=\"text-align: right;\">  0.00963597</td><td style=\"text-align: right;\">            0.938484</td></tr>\n",
       "<tr><td>objective_73680703</td><td>TERMINATED</td><td>172.18.13.4:32832</td><td style=\"text-align: right;\">          0.784007</td><td style=\"text-align: right;\">0.415229   </td><td style=\"text-align: right;\">     0.0561457 </td><td style=\"text-align: right;\">          3</td><td style=\"text-align: right;\">           300</td><td>reg:absoluteerror</td><td style=\"text-align: right;\">2.60785    </td><td style=\"text-align: right;\">   3.68934  </td><td style=\"text-align: right;\">   0.85386 </td><td style=\"text-align: right;\">     1</td><td style=\"text-align: right;\">        4.50499 </td><td style=\"text-align: right;\"> 0.888433 </td><td style=\"text-align: right;\">  0.0110173 </td><td style=\"text-align: right;\">            0.941886</td></tr>\n",
       "<tr><td>objective_8cc6d7b1</td><td>TERMINATED</td><td>172.18.13.4:32832</td><td style=\"text-align: right;\">          0.568985</td><td style=\"text-align: right;\">0.109313   </td><td style=\"text-align: right;\">     0.0077128 </td><td style=\"text-align: right;\">          4</td><td style=\"text-align: right;\">           500</td><td>reg:squarederror </td><td style=\"text-align: right;\">0.841227   </td><td style=\"text-align: right;\">   3.99657  </td><td style=\"text-align: right;\">   0.513084</td><td style=\"text-align: right;\">     1</td><td style=\"text-align: right;\">        2.8474  </td><td style=\"text-align: right;\"> 0.54794  </td><td style=\"text-align: right;\">  0.0203112 </td><td style=\"text-align: right;\">            0.938583</td></tr>\n",
       "<tr><td>objective_473ba206</td><td>TERMINATED</td><td>172.18.13.4:32832</td><td style=\"text-align: right;\">          0.522778</td><td style=\"text-align: right;\">0.200145   </td><td style=\"text-align: right;\">     0.00390273</td><td style=\"text-align: right;\">          1</td><td style=\"text-align: right;\">           200</td><td>reg:squarederror </td><td style=\"text-align: right;\">1.42341    </td><td style=\"text-align: right;\">   5.17167  </td><td style=\"text-align: right;\">   0.913987</td><td style=\"text-align: right;\">     1</td><td style=\"text-align: right;\">        0.625682</td><td style=\"text-align: right;\"> 0.118632 </td><td style=\"text-align: right;\">  0.00545378</td><td style=\"text-align: right;\">            0.97954 </td></tr>\n",
       "<tr><td>objective_2cfd3faa</td><td>TERMINATED</td><td>172.18.13.4:32832</td><td style=\"text-align: right;\">          0.733253</td><td style=\"text-align: right;\">0.828458   </td><td style=\"text-align: right;\">     0.0475938 </td><td style=\"text-align: right;\">          4</td><td style=\"text-align: right;\">           400</td><td>reg:squarederror </td><td style=\"text-align: right;\">8.40496    </td><td style=\"text-align: right;\">   7.14347  </td><td style=\"text-align: right;\">   0.527855</td><td style=\"text-align: right;\">     1</td><td style=\"text-align: right;\">        2.35185 </td><td style=\"text-align: right;\"> 0.447593 </td><td style=\"text-align: right;\">  0.0199439 </td><td style=\"text-align: right;\">            0.9431  </td></tr>\n",
       "<tr><td>objective_4ded7f26</td><td>TERMINATED</td><td>172.18.13.4:32832</td><td style=\"text-align: right;\">          0.541797</td><td style=\"text-align: right;\">0.349212   </td><td style=\"text-align: right;\">     0.037249  </td><td style=\"text-align: right;\">          3</td><td style=\"text-align: right;\">           100</td><td>reg:squarederror </td><td style=\"text-align: right;\">3.83965    </td><td style=\"text-align: right;\">   5.50477  </td><td style=\"text-align: right;\">   0.591453</td><td style=\"text-align: right;\">     1</td><td style=\"text-align: right;\">        0.560734</td><td style=\"text-align: right;\"> 0.103952 </td><td style=\"text-align: right;\">  0.00595508</td><td style=\"text-align: right;\">            0.940244</td></tr>\n",
       "<tr><td>objective_a1089447</td><td>TERMINATED</td><td>172.18.13.4:32832</td><td style=\"text-align: right;\">          0.615577</td><td style=\"text-align: right;\">0.780557   </td><td style=\"text-align: right;\">     0.01205   </td><td style=\"text-align: right;\">          2</td><td style=\"text-align: right;\">           500</td><td>reg:absoluteerror</td><td style=\"text-align: right;\">4.925      </td><td style=\"text-align: right;\">   0.136065 </td><td style=\"text-align: right;\">   0.703479</td><td style=\"text-align: right;\">     1</td><td style=\"text-align: right;\">        6.59822 </td><td style=\"text-align: right;\"> 1.30613  </td><td style=\"text-align: right;\">  0.0122288 </td><td style=\"text-align: right;\">            0.944007</td></tr>\n",
       "</tbody>\n",
       "</table>\n",
       "  </div>\n",
       "</div>\n",
       "<style>\n",
       ".tuneStatus {\n",
       "  color: var(--jp-ui-font-color1);\n",
       "}\n",
       ".tuneStatus .systemInfo {\n",
       "  display: flex;\n",
       "  flex-direction: column;\n",
       "}\n",
       ".tuneStatus td {\n",
       "  white-space: nowrap;\n",
       "}\n",
       ".tuneStatus .trialStatus {\n",
       "  display: flex;\n",
       "  flex-direction: column;\n",
       "}\n",
       ".tuneStatus h3 {\n",
       "  font-weight: bold;\n",
       "}\n",
       ".tuneStatus .hDivider {\n",
       "  border-bottom-width: var(--jp-border-width);\n",
       "  border-bottom-color: var(--jp-border-color0);\n",
       "  border-bottom-style: solid;\n",
       "}\n",
       ".tuneStatus .vDivider {\n",
       "  border-left-width: var(--jp-border-width);\n",
       "  border-left-color: var(--jp-border-color0);\n",
       "  border-left-style: solid;\n",
       "  margin: 0.5em 1em 0.5em 1em;\n",
       "}\n",
       "</style>\n"
      ],
      "text/plain": [
       "<IPython.core.display.HTML object>"
      ]
     },
     "metadata": {},
     "output_type": "display_data"
    },
    {
     "name": "stderr",
     "output_type": "stream",
     "text": [
      "\u001b[2m\u001b[33m(raylet)\u001b[0m [2023-10-22 19:41:50,184 E 32462 32477] (raylet) file_system_monitor.cc:111: /tmp/ray/session_2023-10-22_19-30-57_271318_32332 is over 95% full, available space: 4375855104; capacity: 132833185792. Object creation will fail if spilling is required.\n",
      "\u001b[2m\u001b[33m(raylet)\u001b[0m [2023-10-22 19:42:00,192 E 32462 32477] (raylet) file_system_monitor.cc:111: /tmp/ray/session_2023-10-22_19-30-57_271318_32332 is over 95% full, available space: 4375724032; capacity: 132833185792. Object creation will fail if spilling is required.\n",
      "\u001b[2m\u001b[33m(raylet)\u001b[0m [2023-10-22 19:42:10,199 E 32462 32477] (raylet) file_system_monitor.cc:111: /tmp/ray/session_2023-10-22_19-30-57_271318_32332 is over 95% full, available space: 4375580672; capacity: 132833185792. Object creation will fail if spilling is required.\n",
      "\u001b[2m\u001b[33m(raylet)\u001b[0m [2023-10-22 19:42:20,205 E 32462 32477] (raylet) file_system_monitor.cc:111: /tmp/ray/session_2023-10-22_19-30-57_271318_32332 is over 95% full, available space: 4375486464; capacity: 132833185792. Object creation will fail if spilling is required.\n",
      "\u001b[2m\u001b[33m(raylet)\u001b[0m [2023-10-22 19:42:30,217 E 32462 32477] (raylet) file_system_monitor.cc:111: /tmp/ray/session_2023-10-22_19-30-57_271318_32332 is over 95% full, available space: 4375310336; capacity: 132833185792. Object creation will fail if spilling is required.\n",
      "\u001b[2m\u001b[33m(raylet)\u001b[0m [2023-10-22 19:42:40,222 E 32462 32477] (raylet) file_system_monitor.cc:111: /tmp/ray/session_2023-10-22_19-30-57_271318_32332 is over 95% full, available space: 4375142400; capacity: 132833185792. Object creation will fail if spilling is required.\n",
      "\u001b[2m\u001b[33m(raylet)\u001b[0m [2023-10-22 19:42:50,229 E 32462 32477] (raylet) file_system_monitor.cc:111: /tmp/ray/session_2023-10-22_19-30-57_271318_32332 is over 95% full, available space: 4374986752; capacity: 132833185792. Object creation will fail if spilling is required.\n",
      "\u001b[2m\u001b[33m(raylet)\u001b[0m [2023-10-22 19:43:00,237 E 32462 32477] (raylet) file_system_monitor.cc:111: /tmp/ray/session_2023-10-22_19-30-57_271318_32332 is over 95% full, available space: 4374720512; capacity: 132833185792. Object creation will fail if spilling is required.\n",
      "\u001b[2m\u001b[33m(raylet)\u001b[0m [2023-10-22 19:43:10,245 E 32462 32477] (raylet) file_system_monitor.cc:111: /tmp/ray/session_2023-10-22_19-30-57_271318_32332 is over 95% full, available space: 4374446080; capacity: 132833185792. Object creation will fail if spilling is required.\n",
      "\u001b[2m\u001b[33m(raylet)\u001b[0m [2023-10-22 19:43:20,255 E 32462 32477] (raylet) file_system_monitor.cc:111: /tmp/ray/session_2023-10-22_19-30-57_271318_32332 is over 95% full, available space: 4374274048; capacity: 132833185792. Object creation will fail if spilling is required.\n",
      "\u001b[2m\u001b[33m(raylet)\u001b[0m [2023-10-22 19:43:30,263 E 32462 32477] (raylet) file_system_monitor.cc:111: /tmp/ray/session_2023-10-22_19-30-57_271318_32332 is over 95% full, available space: 4374122496; capacity: 132833185792. Object creation will fail if spilling is required.\n",
      "\u001b[2m\u001b[33m(raylet)\u001b[0m [2023-10-22 19:43:40,270 E 32462 32477] (raylet) file_system_monitor.cc:111: /tmp/ray/session_2023-10-22_19-30-57_271318_32332 is over 95% full, available space: 4373995520; capacity: 132833185792. Object creation will fail if spilling is required.\n",
      "\u001b[2m\u001b[33m(raylet)\u001b[0m [2023-10-22 19:43:50,279 E 32462 32477] (raylet) file_system_monitor.cc:111: /tmp/ray/session_2023-10-22_19-30-57_271318_32332 is over 95% full, available space: 4373872640; capacity: 132833185792. Object creation will fail if spilling is required.\n",
      "\u001b[2m\u001b[33m(raylet)\u001b[0m [2023-10-22 19:44:00,286 E 32462 32477] (raylet) file_system_monitor.cc:111: /tmp/ray/session_2023-10-22_19-30-57_271318_32332 is over 95% full, available space: 4373667840; capacity: 132833185792. Object creation will fail if spilling is required.\n",
      "\u001b[2m\u001b[33m(raylet)\u001b[0m [2023-10-22 19:44:10,292 E 32462 32477] (raylet) file_system_monitor.cc:111: /tmp/ray/session_2023-10-22_19-30-57_271318_32332 is over 95% full, available space: 4373516288; capacity: 132833185792. Object creation will fail if spilling is required.\n",
      "\u001b[2m\u001b[33m(raylet)\u001b[0m [2023-10-22 19:44:20,306 E 32462 32477] (raylet) file_system_monitor.cc:111: /tmp/ray/session_2023-10-22_19-30-57_271318_32332 is over 95% full, available space: 4373372928; capacity: 132833185792. Object creation will fail if spilling is required.\n",
      "\u001b[2m\u001b[33m(raylet)\u001b[0m [2023-10-22 19:44:30,313 E 32462 32477] (raylet) file_system_monitor.cc:111: /tmp/ray/session_2023-10-22_19-30-57_271318_32332 is over 95% full, available space: 4373266432; capacity: 132833185792. Object creation will fail if spilling is required.\n",
      "\u001b[2m\u001b[33m(raylet)\u001b[0m [2023-10-22 19:44:40,321 E 32462 32477] (raylet) file_system_monitor.cc:111: /tmp/ray/session_2023-10-22_19-30-57_271318_32332 is over 95% full, available space: 4373159936; capacity: 132833185792. Object creation will fail if spilling is required.\n",
      "\u001b[2m\u001b[33m(raylet)\u001b[0m [2023-10-22 19:44:50,328 E 32462 32477] (raylet) file_system_monitor.cc:111: /tmp/ray/session_2023-10-22_19-30-57_271318_32332 is over 95% full, available space: 4373008384; capacity: 132833185792. Object creation will fail if spilling is required.\n",
      "\u001b[2m\u001b[33m(raylet)\u001b[0m [2023-10-22 19:45:00,335 E 32462 32477] (raylet) file_system_monitor.cc:111: /tmp/ray/session_2023-10-22_19-30-57_271318_32332 is over 95% full, available space: 4372635648; capacity: 132833185792. Object creation will fail if spilling is required.\n",
      "\u001b[2m\u001b[33m(raylet)\u001b[0m [2023-10-22 19:45:10,343 E 32462 32477] (raylet) file_system_monitor.cc:111: /tmp/ray/session_2023-10-22_19-30-57_271318_32332 is over 95% full, available space: 4372340736; capacity: 132833185792. Object creation will fail if spilling is required.\n",
      "\u001b[2m\u001b[33m(raylet)\u001b[0m [2023-10-22 19:45:20,351 E 32462 32477] (raylet) file_system_monitor.cc:111: /tmp/ray/session_2023-10-22_19-30-57_271318_32332 is over 95% full, available space: 4372074496; capacity: 132833185792. Object creation will fail if spilling is required.\n",
      "\u001b[2m\u001b[33m(raylet)\u001b[0m [2023-10-22 19:45:30,358 E 32462 32477] (raylet) file_system_monitor.cc:111: /tmp/ray/session_2023-10-22_19-30-57_271318_32332 is over 95% full, available space: 4371894272; capacity: 132833185792. Object creation will fail if spilling is required.\n",
      "\u001b[2m\u001b[33m(raylet)\u001b[0m [2023-10-22 19:45:40,364 E 32462 32477] (raylet) file_system_monitor.cc:111: /tmp/ray/session_2023-10-22_19-30-57_271318_32332 is over 95% full, available space: 4371746816; capacity: 132833185792. Object creation will fail if spilling is required.\n",
      "\u001b[2m\u001b[33m(raylet)\u001b[0m [2023-10-22 19:45:50,372 E 32462 32477] (raylet) file_system_monitor.cc:111: /tmp/ray/session_2023-10-22_19-30-57_271318_32332 is over 95% full, available space: 4371529728; capacity: 132833185792. Object creation will fail if spilling is required.\n",
      "2023-10-22 19:45:59,839\tINFO tune.py:1143 -- Total run time: 257.63 seconds (257.52 seconds for the tuning loop).\n"
     ]
    }
   ],
   "source": [
    "# Creiamo uno spazio di iperparametri da esplorare\n",
    "search_space = {\n",
    "    # Il numero di alberi da costruire\n",
    "    \"n_estimators\": tune.choice([100, 200, 300, 400, 500]),\n",
    "    # La profondità massima di ogni albero\n",
    "    \"max_depth\": tune.randint(1, 7),\n",
    "    # Il tasso di apprendimento, che controlla il peso dei nuovi alberi aggiunti al modello\n",
    "    \"learning_rate\": tune.loguniform(0.001, 0.1),\n",
    "    # Il parametro di regolarizzazione che riduce l'overfitting penalizzando i pesi degli alberi\n",
    "    \"gamma\": tune.uniform(0, 1),\n",
    "    # Il parametro di regolarizzazione L2 che controlla la complessità dei pesi delle foglie\n",
    "    \"reg_lambda\": tune.uniform(0, 10),\n",
    "    # Il parametro di regolarizzazione L1 che controlla la sparsità dei pesi delle foglie\n",
    "    \"reg_alpha\": tune.uniform(0, 10),\n",
    "    # La frazione di osservazioni da campionare per ogni albero\n",
    "    \"subsample\": tune.uniform(0.5, 1),\n",
    "    # La frazione di colonne da campionare per ogni albero\n",
    "    \"colsample_bytree\": tune.uniform(0.5, 1),\n",
    "    # La funzione obiettivo da usare per il modello (ad esempio regressione lineare o regressione logistica)\n",
    "    \"objective\": tune.choice([\"reg:squarederror\", \"reg:absoluteerror\"]),\n",
    "}\n",
    "\n",
    "\n",
    "# Definiamo una nuova funzione obiettivo\n",
    "def objective(config):\n",
    "    scores = cross_validate(\n",
    "        XGBRegressor(**config),\n",
    "        X_train,\n",
    "        y_train,\n",
    "        cv=5,\n",
    "        scoring=score_names,\n",
    "        error_score=\"raise\",\n",
    "    )\n",
    "    fixed_scores = fix_scores(scores)\n",
    "    train.report(fixed_scores)\n",
    "\n",
    "\n",
    "# Creiamo un oggetto Tuner\n",
    "tuner = tune.Tuner(\n",
    "    objective,\n",
    "    tune_config=tune.TuneConfig(\n",
    "        search_alg=HyperOptSearch(random_state_seed=42),\n",
    "        num_samples=100,\n",
    "        metric=\"root_mean_squared_error\",\n",
    "        mode=\"min\",\n",
    "    ),\n",
    "    param_space=search_space,\n",
    ")\n",
    "\n",
    "# Eseguiamo la ricerca\n",
    "results = tuner.fit()"
   ]
  },
  {
   "cell_type": "code",
   "execution_count": 22,
   "id": "25d495d7",
   "metadata": {},
   "outputs": [
    {
     "data": {
      "text/plain": [
       "{'fit_time': 0.15357551574707032,\n",
       " 'score_time': 0.0065500736236572266,\n",
       " 'mean_squared_error': 0.9370155536057376,\n",
       " 'root_mean_squared_error': 0.9678092528045052,\n",
       " 'mean_absolute_error': 0.7538661819104802,\n",
       " 'timestamp': 1697996701,\n",
       " 'done': True,\n",
       " 'training_iteration': 1,\n",
       " 'trial_id': 'cdb923b4',\n",
       " 'date': '2023-10-22_19-45-01',\n",
       " 'time_this_iter_s': 0.8078789710998535,\n",
       " 'time_total_s': 0.8078789710998535,\n",
       " 'pid': 32832,\n",
       " 'hostname': 'development',\n",
       " 'node_ip': '172.18.13.4',\n",
       " 'config': {'n_estimators': 200,\n",
       "  'max_depth': 2,\n",
       "  'learning_rate': 0.06062200053528221,\n",
       "  'gamma': 0.7143569444657896,\n",
       "  'reg_lambda': 5.988379302415865,\n",
       "  'reg_alpha': 4.697377794059866,\n",
       "  'subsample': 0.6145201425549485,\n",
       "  'colsample_bytree': 0.5693963997884186,\n",
       "  'objective': 'reg:squarederror'},\n",
       " 'time_since_restore': 0.8078789710998535,\n",
       " 'iterations_since_restore': 1,\n",
       " 'checkpoint_dir_name': None,\n",
       " 'experiment_tag': '75_colsample_bytree=0.5694,gamma=0.7144,learning_rate=0.0606,max_depth=2,n_estimators=200,objective=reg_squarederror,reg_alpha=4.6974,reg_lambda=5.9884,subsample=0.6145'}"
      ]
     },
     "execution_count": 22,
     "metadata": {},
     "output_type": "execute_result"
    }
   ],
   "source": [
    "results.get_best_result().metrics"
   ]
  },
  {
   "cell_type": "code",
   "execution_count": 23,
   "id": "c1709196",
   "metadata": {},
   "outputs": [
    {
     "name": "stdout",
     "output_type": "stream",
     "text": [
      "Best hyperparameters:\n",
      " {'n_estimators': 200, 'max_depth': 2, 'learning_rate': 0.06062200053528221, 'gamma': 0.7143569444657896, 'reg_lambda': 5.988379302415865, 'reg_alpha': 4.697377794059866, 'subsample': 0.6145201425549485, 'colsample_bytree': 0.5693963997884186, 'objective': 'reg:squarederror'} \n",
      "with scores:\n",
      "MSE:  0.9370155536057376 RMSE:  0.9678092528045052 MAE:  0.7538661819104802\n",
      "Best model test scores:\n",
      "MSE: 0.9075613422639787\n",
      "RMSE: 0.9526601399575709\n",
      "MAE: 0.7455886532309288\n"
     ]
    },
    {
     "name": "stderr",
     "output_type": "stream",
     "text": [
      "\u001b[2m\u001b[33m(raylet)\u001b[0m [2023-10-22 19:46:00,381 E 32462 32477] (raylet) file_system_monitor.cc:111: /tmp/ray/session_2023-10-22_19-30-57_271318_32332 is over 95% full, available space: 4371361792; capacity: 132833185792. Object creation will fail if spilling is required.\n"
     ]
    }
   ],
   "source": [
    "from sklearn.metrics import mean_absolute_error, mean_squared_error\n",
    "\n",
    "# Visualizziamo i parametri ottimali\n",
    "best_mse = results.get_best_result().metrics[\"mean_squared_error\"]\n",
    "best_rmse = results.get_best_result().metrics[\"root_mean_squared_error\"]\n",
    "best_mae = results.get_best_result().metrics[\"mean_absolute_error\"]\n",
    "best_params = results.get_best_result().config\n",
    "print(\n",
    "    \"Best hyperparameters:\\n\",\n",
    "    best_params,\n",
    "    \"\\nwith scores:\\nMSE: \",\n",
    "    best_mse,\n",
    "    \"RMSE: \",\n",
    "    best_rmse,\n",
    "    \"MAE: \",\n",
    "    best_mae,\n",
    ")\n",
    "\n",
    "# Creiamo un modello XGBRegressor\n",
    "xgbr = XGBRegressor()\n",
    "# Impostiamo i parametri ottimali per il modello\n",
    "xgbr.set_params(**best_params)\n",
    "\n",
    "# Alleniamo il modello sul train set\n",
    "xgbr.fit(X_train, y_train)\n",
    "\n",
    "# Calcoliamo le previsioni del modello sul test set\n",
    "y_pred = xgbr.predict(X_test)\n",
    "\n",
    "print(\n",
    "    f\"Best model test scores:\\nMSE: {mean_squared_error(y_test,y_pred)}\\nRMSE: {mean_squared_error(y_test,y_pred, squared=False)}\\nMAE: {mean_absolute_error(y_test,y_pred)}\"\n",
    ")"
   ]
  },
  {
   "cell_type": "code",
   "execution_count": 24,
   "id": "4cba126d",
   "metadata": {},
   "outputs": [
    {
     "data": {
      "text/plain": [
       "[<matplotlib.lines.Line2D at 0x7f5ef89d5e40>]"
      ]
     },
     "execution_count": 24,
     "metadata": {},
     "output_type": "execute_result"
    },
    {
     "data": {
      "image/png": "[encoded data removed]",
      "text/plain": [
       "<Figure size 640x480 with 1 Axes>"
      ]
     },
     "metadata": {},
     "output_type": "display_data"
    }
   ],
   "source": [
    "import matplotlib.pyplot as plt\n",
    "\n",
    "# Visualizziamo i risultati\n",
    "results_df = pd.DataFrame({\"y_true\": y_test, \"y_pred\": y_pred})\n",
    "\n",
    "fig, ax = plt.subplots()\n",
    "results_df.plot.scatter(\"y_true\", \"y_pred\", ax=ax)\n",
    "ax.plot(range(-9, 12), range(-9, 12), linestyle=\"dashed\", color=\"red\")"
   ]
  },
  {
   "cell_type": "markdown",
   "id": "4602437f",
   "metadata": {},
   "source": [
    "## Salvataggio e caricamento dei modelli scelti\n",
    "\n",
    "Utilizzando i file pickle possiamo facilmente salvare i nostri modelli come artefatti per riutilizzarli successivamente.\n"
   ]
  },
  {
   "cell_type": "code",
   "execution_count": 25,
   "id": "d6fc0306",
   "metadata": {},
   "outputs": [],
   "source": [
    "# Creazione della cartella per salvare i modelli\n",
    "if not os.path.exists(\"models\"):\n",
    "    os.mkdir(\"models\")\n",
    "\n",
    "# Salvataggio dei modelli\n",
    "with open(\"models/classification_model.pickle\", \"wb\") as file:\n",
    "    pickle.dump(rfc, file)\n",
    "with open(\"models/regression_model.pickle\", \"wb\") as file:\n",
    "    pickle.dump(xgbr, file)"
   ]
  },
  {
   "cell_type": "markdown",
   "id": "39abdd5b",
   "metadata": {},
   "source": [
    "Ora possiamo reimportarli ed applicarli ad un dataset:"
   ]
  },
  {
   "cell_type": "code",
   "execution_count": 26,
   "id": "b941a074",
   "metadata": {},
   "outputs": [
    {
     "name": "stdout",
     "output_type": "stream",
     "text": [
      "Best model test scores:\n",
      "MSE: 0.9075613422639787\n",
      "RMSE: 0.9526601399575709\n",
      "MAE: 0.7455886532309288\n"
     ]
    },
    {
     "name": "stderr",
     "output_type": "stream",
     "text": [
      "\u001b[2m\u001b[33m(raylet)\u001b[0m [2023-10-22 19:46:10,411 E 32462 32477] (raylet) file_system_monitor.cc:111: /tmp/ray/session_2023-10-22_19-30-57_271318_32332 is over 95% full, available space: 4389986304; capacity: 132833185792. Object creation will fail if spilling is required.\n",
      "\u001b[2m\u001b[33m(raylet)\u001b[0m [2023-10-22 19:46:20,448 E 32462 32477] (raylet) file_system_monitor.cc:111: /tmp/ray/session_2023-10-22_19-30-57_271318_32332 is over 95% full, available space: 4389986304; capacity: 132833185792. Object creation will fail if spilling is required.\n",
      "\u001b[2m\u001b[33m(raylet)\u001b[0m [2023-10-22 19:46:30,486 E 32462 32477] (raylet) file_system_monitor.cc:111: /tmp/ray/session_2023-10-22_19-30-57_271318_32332 is over 95% full, available space: 4389978112; capacity: 132833185792. Object creation will fail if spilling is required.\n",
      "\u001b[2m\u001b[33m(raylet)\u001b[0m [2023-10-22 19:46:40,522 E 32462 32477] (raylet) file_system_monitor.cc:111: /tmp/ray/session_2023-10-22_19-30-57_271318_32332 is over 95% full, available space: 4389978112; capacity: 132833185792. Object creation will fail if spilling is required.\n",
      "\u001b[2m\u001b[33m(raylet)\u001b[0m [2023-10-22 19:46:50,564 E 32462 32477] (raylet) file_system_monitor.cc:111: /tmp/ray/session_2023-10-22_19-30-57_271318_32332 is over 95% full, available space: 4389974016; capacity: 132833185792. Object creation will fail if spilling is required.\n",
      "\u001b[2m\u001b[33m(raylet)\u001b[0m [2023-10-22 19:47:00,599 E 32462 32477] (raylet) file_system_monitor.cc:111: /tmp/ray/session_2023-10-22_19-30-57_271318_32332 is over 95% full, available space: 4389720064; capacity: 132833185792. Object creation will fail if spilling is required.\n"
     ]
    }
   ],
   "source": [
    "# Esempio: reimportiamo il modello XGBRegressor e lo applichiamo di nuovo al test set\n",
    "\n",
    "with open(\"models/regression_model.pickle\", \"rb\") as file:\n",
    "    xgbr = pickle.load(file)\n",
    "new_y_pred = xgbr.predict(X_test)\n",
    "\n",
    "# Compariamo i risultati ottenuti con quelli precedenti\n",
    "print(\n",
    "    f\"Best model test scores:\\nMSE: {mean_squared_error(y_test,new_y_pred)}\\nRMSE: {mean_squared_error(y_test,new_y_pred, squared=False)}\\nMAE: {mean_absolute_error(y_test,new_y_pred)}\"\n",
    ")"
   ]
  }
 ],
 "metadata": {
  "kernelspec": {
   "display_name": "Python 3 (ipykernel)",
   "language": "python",
   "name": "python3"
  },
  "language_info": {
   "codemirror_mode": {
    "name": "ipython",
    "version": 3
   },
   "file_extension": ".py",
   "mimetype": "text/x-python",
   "name": "python",
   "nbconvert_exporter": "python",
   "pygments_lexer": "ipython3",
   "version": "3.10.12"
  }
 },
 "nbformat": 4,
 "nbformat_minor": 5
}
