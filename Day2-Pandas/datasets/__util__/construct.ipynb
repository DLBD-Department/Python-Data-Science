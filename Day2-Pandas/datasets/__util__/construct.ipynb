{
 "cells": [
  {
   "cell_type": "code",
   "execution_count": 13,
   "metadata": {},
   "outputs": [],
   "source": [
    "import pandas as pd"
   ]
  },
  {
   "cell_type": "code",
   "execution_count": 14,
   "metadata": {},
   "outputs": [],
   "source": [
    "df = pd.read_csv(\"Base.csv\")"
   ]
  },
  {
   "cell_type": "code",
   "execution_count": null,
   "metadata": {},
   "outputs": [],
   "source": [
    "majority = df.loc[lambda x: x.fraud_bool == 0].sample(10000)"
   ]
  },
  {
   "cell_type": "code",
   "execution_count": null,
   "metadata": {},
   "outputs": [],
   "source": [
    "minority = df.loc[lambda x: x.fraud_bool == 1].sample(5000)"
   ]
  },
  {
   "cell_type": "code",
   "execution_count": null,
   "metadata": {},
   "outputs": [],
   "source": [
    "balanced = pd.concat([majority, minority])"
   ]
  },
  {
   "cell_type": "code",
   "execution_count": null,
   "metadata": {},
   "outputs": [],
   "source": [
    "keep = [\n",
    "    'customer_age',\n",
    "    'proposed_credit_limit',\n",
    "    'date_of_birth_distinct_emails_4w',\n",
    "    'name_email_similarity',\n",
    "    'foreign_request',\n",
    "    'velocity_6h',\n",
    "    'has_other_cards',\n",
    "    'credit_risk_score',\n",
    "    'intended_balcon_amount',\n",
    "    'keep_alive_session',\n",
    "    'fraud_bool',\n",
    "    'income',\n",
    "]"
   ]
  },
  {
   "cell_type": "code",
   "execution_count": null,
   "metadata": {},
   "outputs": [],
   "source": [
    "ohe_col = \"payment_type\"\n",
    "ohe_ser = balanced[ohe_col]"
   ]
  },
  {
   "cell_type": "code",
   "execution_count": null,
   "metadata": {},
   "outputs": [],
   "source": [
    "filtered_df = balanced[keep]"
   ]
  },
  {
   "cell_type": "code",
   "execution_count": null,
   "metadata": {},
   "outputs": [],
   "source": [
    "ready_df = pd.concat([filtered_df, ohe_ser], axis=1)"
   ]
  },
  {
   "cell_type": "code",
   "execution_count": null,
   "metadata": {},
   "outputs": [],
   "source": [
    "import numpy as np\n",
    "for col in ready_df.columns:\n",
    "    if col not in ['payment_type', 'fraud_bool', 'income']:\n",
    "        number = np.round(np.random.uniform(0, .01), 3)\n",
    "        sample_fra = ready_df.sample(frac=number).index\n",
    "        ready_df.loc[sample_fra, col] = None"
   ]
  },
  {
   "cell_type": "code",
   "execution_count": null,
   "metadata": {},
   "outputs": [],
   "source": [
    "# turn the 'income' column in a continuous variable by adding exponential noise and multiplying it by 5000\n",
    "ready_df['income'] = ready_df['income'].apply(lambda x: (np.random.exponential()+1) * x * 5000 if x else None)"
   ]
  },
  {
   "cell_type": "code",
   "execution_count": null,
   "metadata": {},
   "outputs": [],
   "source": [
    "ready_df.to_csv(\"../banking_fraud_mini.csv\", index=False)"
   ]
  }
 ],
 "metadata": {
  "kernelspec": {
   "display_name": ".venv",
   "language": "python",
   "name": "python3"
  },
  "language_info": {
   "codemirror_mode": {
    "name": "ipython",
    "version": 3
   },
   "file_extension": ".py",
   "mimetype": "text/x-python",
   "name": "python",
   "nbconvert_exporter": "python",
   "pygments_lexer": "ipython3",
   "version": "3.10.12"
  }
 },
 "nbformat": 4,
 "nbformat_minor": 2
}
