{
 "cells": [
  {
   "cell_type": "markdown",
   "metadata": {},
   "source": [
    "# Python OOP - Bank Account\n",
    "\n",
    "Ci è stato chiesto di sviluppare un sistema gestionale per una banca. Abbiamo deciso di partire dai conti correnti."
   ]
  },
  {
   "cell_type": "markdown",
   "metadata": {},
   "source": [
    "Definiamo una classe `ContoCorrente` che contenga il nome del titolare, la data di apertura, il saldo e un registro delle transazioni e che permetta operazioni come `preleva`, `deposita` e `stampa_estratto_conto`."
   ]
  },
  {
   "cell_type": "code",
   "execution_count": 17,
   "metadata": {},
   "outputs": [],
   "source": [
    "class ContoCorrente:\n",
    "    def __init__(\n",
    "        self, titolare: str, saldo_iniziale: float, data_di_apertura: str\n",
    "    ) -> None:\n",
    "        self.titolare = titolare\n",
    "        self.saldo = saldo_iniziale\n",
    "        self.data_di_apertura = data_di_apertura\n",
    "        self.transazioni = []\n",
    "\n",
    "    def preleva(self, importo: float, data: str):\n",
    "        if importo <= self.saldo:\n",
    "            self.saldo -= importo\n",
    "            self.transazioni.append(\n",
    "                {\"data\": data, \"tipo\": \"prelievo\", \"importo\": importo}\n",
    "            )\n",
    "        else:\n",
    "            print(\"La cifra richiesta non è disponibile sul conto.\")\n",
    "\n",
    "    def deposita(self, importo: float, data: str):\n",
    "        self.saldo += importo\n",
    "        self.transazioni.append({\"data\": data, \"tipo\": \"deposito\", \"importo\": importo})\n",
    "\n",
    "    def stampa_estratto_conto(self):\n",
    "        for transazione in self.transazioni:\n",
    "            print(transazione[\"data\"], transazione[\"tipo\"], transazione[\"importo\"])"
   ]
  },
  {
   "cell_type": "markdown",
   "metadata": {},
   "source": [
    "Ora apriamo un conto e proviamo a svolgere alcune operazioni."
   ]
  },
  {
   "cell_type": "code",
   "execution_count": 18,
   "metadata": {},
   "outputs": [
    {
     "name": "stdout",
     "output_type": "stream",
     "text": [
      "15/09/2020 prelievo 500\n",
      "16/09/2020 deposito 5000\n",
      "La cifra richiesta non è disponibile sul conto.\n"
     ]
    }
   ],
   "source": [
    "conto = ContoCorrente(\"Andrea Romano\", 5000, \"23/08/2010\")\n",
    "conto.preleva(500, \"15/09/2020\")\n",
    "conto.deposita(5000, \"16/09/2020\")\n",
    "conto.stampa_estratto_conto()\n",
    "conto.preleva(10000, \"10/09/2022\")"
   ]
  }
 ],
 "metadata": {
  "kernelspec": {
   "display_name": "Python 3",
   "language": "python",
   "name": "python3"
  },
  "language_info": {
   "codemirror_mode": {
    "name": "ipython",
    "version": 3
   },
   "file_extension": ".py",
   "mimetype": "text/x-python",
   "name": "python",
   "nbconvert_exporter": "python",
   "pygments_lexer": "ipython3",
   "version": "3.10.12"
  },
  "orig_nbformat": 4
 },
 "nbformat": 4,
 "nbformat_minor": 2
}
